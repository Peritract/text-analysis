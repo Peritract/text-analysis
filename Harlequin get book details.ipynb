{
 "cells": [
  {
   "cell_type": "code",
   "execution_count": 11,
   "metadata": {},
   "outputs": [],
   "source": [
    "import requests\n",
    "from time import sleep\n",
    "import pickle"
   ]
  },
  {
   "cell_type": "code",
   "execution_count": 2,
   "metadata": {},
   "outputs": [
    {
     "data": {
      "text/plain": [
       "36228"
      ]
     },
     "execution_count": 2,
     "metadata": {},
     "output_type": "execute_result"
    }
   ],
   "source": [
    "# Load the categories\n",
    "\n",
    "category_ids = {}\n",
    "\n",
    "with open(\"categories.txt\", \"r\") as file:\n",
    "    for line in file.readlines():\n",
    "        cat = line.strip().split(\" - \")\n",
    "        category_ids[cat[0]] = int(cat[1])\n",
    "\n",
    "        \n",
    "category_ids[\"Essays on Pets\"]"
   ]
  },
  {
   "cell_type": "markdown",
   "metadata": {},
   "source": [
    "## Getting book urls for a particular category"
   ]
  },
  {
   "cell_type": "code",
   "execution_count": 3,
   "metadata": {},
   "outputs": [],
   "source": [
    "def get_book_details_by_category(cat_id, per_page=48, start_page=1, delay=1):\n",
    "    \"\"\"Polls the database for new books until none are provided. Only gets paperback and ebooks\"\"\"\n",
    "    \n",
    "    # Construct the URL\n",
    "    \n",
    "    base_url = \"https://www.harlequin.com/item_solr_query.ajx?\"\n",
    "    category = f\"categoryId={cat_id}\"\n",
    "    filters = \"&queryString= AND (mfgpartno:'eb' OR mfgpartno:'tp') AND (podate:[* TO NOW])\"\n",
    "    page_num = start_page\n",
    "    \n",
    "    # Flag for results\n",
    "    new_results = True\n",
    "    \n",
    "    # Holder for results sets\n",
    "    holder = []\n",
    "    \n",
    "    while new_results:\n",
    "        full_url = base_url + category + f\"&reqKey=Category&page={page_num}&pageNumber={per_page}\" + filters\n",
    "        response = requests.get(full_url)\n",
    "        docs = response.json()[\"response\"][\"docs\"]\n",
    "        if len(docs) > 0:\n",
    "            holder.extend(docs)\n",
    "            page_num += 1\n",
    "        else:\n",
    "            new_results = False\n",
    "        sleep(delay)\n",
    "    \n",
    "    return holder"
   ]
  },
  {
   "cell_type": "markdown",
   "metadata": {},
   "source": [
    "## Getting book details for all genres (slow)"
   ]
  },
  {
   "cell_type": "code",
   "execution_count": 4,
   "metadata": {},
   "outputs": [],
   "source": [
    "def get_book_details_for_categories(categories):\n",
    "    \"\"\"Gets book details for a range of categories\"\"\"\n",
    "    \n",
    "    # Holder for all books\n",
    "    holder = []\n",
    "    \n",
    "    # Category number\n",
    "    count = 1\n",
    "    \n",
    "    for key, value in categories.items():\n",
    "        print(\" \" * 200, end=\"\\r\")\n",
    "        print(f\"Trying {key} ({count}/{len(categories.keys())}); {len(holder)} books gathered so far.                       \", end=\"\\r\")\n",
    "        try:\n",
    "            holder.extend(get_book_details_by_category(value))\n",
    "        except:\n",
    "            print(f\"Failed with category {key}\")\n",
    "        count += 1\n",
    "    return holder"
   ]
  },
  {
   "cell_type": "code",
   "execution_count": 5,
   "metadata": {},
   "outputs": [
    {
     "name": "stdout",
     "output_type": "stream",
     "text": [
      "Trying Ménage (450/450); 75597 books gathered so far.                                                                                                                                                   \r"
     ]
    }
   ],
   "source": [
    "books = get_book_details_for_categories(category_ids)"
   ]
  },
  {
   "cell_type": "code",
   "execution_count": 10,
   "metadata": {},
   "outputs": [
    {
     "data": {
      "text/plain": [
       "75624"
      ]
     },
     "execution_count": 10,
     "metadata": {},
     "output_type": "execute_result"
    }
   ],
   "source": [
    "len(books)"
   ]
  },
  {
   "cell_type": "markdown",
   "metadata": {},
   "source": [
    "## Save the raw data"
   ]
  },
  {
   "cell_type": "code",
   "execution_count": 12,
   "metadata": {},
   "outputs": [],
   "source": [
    "with open(\"books.pkl\", \"wb\") as file:\n",
    "    pickle.dump(books, file)"
   ]
  }
 ],
 "metadata": {
  "kernelspec": {
   "display_name": "Python 3",
   "language": "python",
   "name": "python3"
  },
  "language_info": {
   "codemirror_mode": {
    "name": "ipython",
    "version": 3
   },
   "file_extension": ".py",
   "mimetype": "text/x-python",
   "name": "python",
   "nbconvert_exporter": "python",
   "pygments_lexer": "ipython3",
   "version": "3.8.5"
  }
 },
 "nbformat": 4,
 "nbformat_minor": 2
}
