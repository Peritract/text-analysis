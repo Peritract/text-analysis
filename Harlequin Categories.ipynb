{
 "cells": [
  {
   "cell_type": "code",
   "execution_count": 1,
   "metadata": {},
   "outputs": [],
   "source": [
    "import pandas as pd\n",
    "import requests\n",
    "from bs4 import BeautifulSoup\n",
    "from time import sleep\n",
    "import re"
   ]
  },
  {
   "cell_type": "code",
   "execution_count": null,
   "metadata": {},
   "outputs": [],
   "source": [
    "def get_harlequin_category_links(page_id=1, per_page=48):\n",
    "    cats = []\n",
    "    next_page = True\n",
    "\n",
    "    while next_page == True:\n",
    "        url = f\"https://www.harlequin.com/genres-list.html?p={page_id}&ipp={per_page}&searchTerm=&last=\"\n",
    "        page = requests.get(url).content\n",
    "        soup = BeautifulSoup(page)\n",
    "        if not soup.find(\"a\", {\"aria-label\":\"Next page\"}):\n",
    "            next_page = False\n",
    "        blocks = soup.find_all(\"div\", class_=\"column column-block\")    \n",
    "        links = [block.find(\"a\") for block in blocks]\n",
    "        links = [(link.get_text(),\n",
    "                  re.search(r\"[0-9é\\(\\)a-z-\\s]+(?=\\.html)\", link.get(\"href\")).group(0)) for link in links]\n",
    "        cats.extend(links)\n",
    "        page_id += 1\n",
    "        sleep(1)\n",
    "    \n",
    "    return list(set(cats))"
   ]
  },
  {
   "cell_type": "code",
   "execution_count": null,
   "metadata": {},
   "outputs": [],
   "source": [
    "def get_harlequin_category_ids(categories):\n",
    "    ids = {}\n",
    "    for category in categories:\n",
    "        url = f\"https://www.harlequin.com/shop/category/{category[1]}.html\"\n",
    "        page = requests.get(url).content\n",
    "        soup = BeautifulSoup(page)\n",
    "        id_num = re.search(\"(?<=categoryId\\=)\\d+\", str(soup))\n",
    "        try:\n",
    "            id_num = int(id_num.group(0))\n",
    "            ids[category[0]] = id_num\n",
    "        except:\n",
    "            print(category[0])\n",
    "        sleep(1)\n",
    "        \n",
    "    return ids"
   ]
  },
  {
   "cell_type": "code",
   "execution_count": null,
   "metadata": {},
   "outputs": [],
   "source": [
    "# Get the DB ID for each category\n",
    "\n",
    "categories = get_harlequin_category_links()"
   ]
  },
  {
   "cell_type": "code",
   "execution_count": null,
   "metadata": {},
   "outputs": [],
   "source": [
    "# Get the six-digit ID for each category\n",
    "\n",
    "category_ids = get_harlequin_category_ids(categories)"
   ]
  },
  {
   "cell_type": "code",
   "execution_count": null,
   "metadata": {},
   "outputs": [],
   "source": [
    "# Error on site search\n",
    "\n",
    "category_ids[\"Ménage\"] = \"36203\""
   ]
  },
  {
   "cell_type": "code",
   "execution_count": null,
   "metadata": {},
   "outputs": [],
   "source": [
    "# Save the category ids\n",
    "\n",
    "with open(\"categories.txt\", \"w\") as file:\n",
    "    for x in category_ids.keys():\n",
    "        file.write(f\"{x} - {category_ids[x]}\\n\")"
   ]
  }
 ],
 "metadata": {
  "kernelspec": {
   "display_name": "Python 3",
   "language": "python",
   "name": "python3"
  },
  "language_info": {
   "codemirror_mode": {
    "name": "ipython",
    "version": 3
   },
   "file_extension": ".py",
   "mimetype": "text/x-python",
   "name": "python",
   "nbconvert_exporter": "python",
   "pygments_lexer": "ipython3",
   "version": "3.8.5"
  }
 },
 "nbformat": 4,
 "nbformat_minor": 4
}
