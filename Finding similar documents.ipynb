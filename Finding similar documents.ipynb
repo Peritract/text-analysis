{
 "cells": [
  {
   "cell_type": "markdown",
   "metadata": {},
   "source": [
    "# Finding similar documents\n",
    "\n",
    "This notebook goes through some different methods for finding/grouping similar documents. The dataset used is ~7000 rows of data about fantasy books, scraped from GoodReads."
   ]
  },
  {
   "cell_type": "markdown",
   "metadata": {},
   "source": [
    "## Imports\n",
    "\n",
    "Lots of imports are almost always required for working with text, because it's so far away from the data that machines are comfortable with; lots of processing is required."
   ]
  },
  {
   "cell_type": "code",
   "execution_count": 1,
   "metadata": {},
   "outputs": [],
   "source": [
    "import pandas as pd  # Manipulate data\n",
    "import seaborn as sns  # Visualise\n",
    "import matplotlib.pyplot as plt  # Visualise in awkward ways\n",
    "from nltk import download  # Get wordlists\n",
    "from nltk.tokenize import word_tokenize  # Split text to words\n",
    "from nltk.corpus import stopwords  # Boring words\n",
    "from warnings import filterwarnings  # Hide pink boxes\n",
    "from sklearn.feature_extraction.text import TfidfVectorizer  # Convert text to TF-IDF representations\n",
    "from sklearn.metrics.pairwise import cosine_similarity  # Check similarities between vectors\n",
    "import re  # Match patterns in text\n",
    "from sklearn.cluster import DBSCAN  # Cluster\n",
    "from gensim.corpora import Dictionary  # Bag-of-words model\n",
    "from gensim.models.ldamodel import LdaModel  # Topic modelling\n",
    "import pyLDAvis  # Visualise topics\n",
    "import pyLDAvis.gensim # Visualise topics"
   ]
  },
  {
   "cell_type": "markdown",
   "metadata": {},
   "source": [
    "## Set-up\n",
    "\n",
    "Notebook-level things - mostly stylistic"
   ]
  },
  {
   "cell_type": "code",
   "execution_count": 2,
   "metadata": {},
   "outputs": [
    {
     "name": "stderr",
     "output_type": "stream",
     "text": [
      "/usr/local/lib/python3.8/site-packages/ipykernel/ipkernel.py:287: DeprecationWarning: `should_run_async` will not call `transform_cell` automatically in the future. Please pass the result to `transformed_cell` argument and any exception that happen during thetransform in `preprocessing_exc_tuple` in IPython 7.17 and above.\n",
      "  and should_run_async(code)\n",
      "[nltk_data] Downloading package punkt to /Users/dank/nltk_data...\n",
      "[nltk_data]   Package punkt is already up-to-date!\n",
      "[nltk_data] Downloading package wordnet to /Users/dank/nltk_data...\n",
      "[nltk_data]   Package wordnet is already up-to-date!\n",
      "[nltk_data] Downloading package stopwords to /Users/dank/nltk_data...\n",
      "[nltk_data]   Package stopwords is already up-to-date!\n",
      "[nltk_data] Downloading package vader_lexicon to\n",
      "[nltk_data]     /Users/dank/nltk_data...\n",
      "[nltk_data]   Package vader_lexicon is already up-to-date!\n"
     ]
    },
    {
     "data": {
      "text/plain": [
       "True"
      ]
     },
     "execution_count": 2,
     "metadata": {},
     "output_type": "execute_result"
    }
   ],
   "source": [
    "# Hide pink warnings\n",
    "\n",
    "filterwarnings(\"ignore\")\n",
    "\n",
    "# Show full text (useful for anything with text columns)\n",
    "\n",
    "pd.set_option(\"display.max_colwidth\", 0)\n",
    "\n",
    "# Standardise plots\n",
    "\n",
    "sns.set()\n",
    "\n",
    "# Download word lists\n",
    "\n",
    "download([\"punkt\", \"wordnet\", \"stopwords\", \"vader_lexicon\"])"
   ]
  },
  {
   "cell_type": "markdown",
   "metadata": {},
   "source": [
    "## Sourcing"
   ]
  },
  {
   "cell_type": "code",
   "execution_count": 3,
   "metadata": {},
   "outputs": [],
   "source": [
    "# Load from a file\n",
    "\n",
    "books = pd.read_csv(\"fantasy_books.csv\")"
   ]
  },
  {
   "cell_type": "code",
   "execution_count": 4,
   "metadata": {},
   "outputs": [
    {
     "data": {
      "text/html": [
       "<div>\n",
       "<style scoped>\n",
       "    .dataframe tbody tr th:only-of-type {\n",
       "        vertical-align: middle;\n",
       "    }\n",
       "\n",
       "    .dataframe tbody tr th {\n",
       "        vertical-align: top;\n",
       "    }\n",
       "\n",
       "    .dataframe thead th {\n",
       "        text-align: right;\n",
       "    }\n",
       "</style>\n",
       "<table border=\"1\" class=\"dataframe\">\n",
       "  <thead>\n",
       "    <tr style=\"text-align: right;\">\n",
       "      <th></th>\n",
       "      <th>author</th>\n",
       "      <th>title</th>\n",
       "      <th>description</th>\n",
       "    </tr>\n",
       "  </thead>\n",
       "  <tbody>\n",
       "    <tr>\n",
       "      <th>5878</th>\n",
       "      <td>Patrick Carman</td>\n",
       "      <td>3 Below</td>\n",
       "      <td>Charlie had his chocolate factory. Stanley Yelnats had his holes. Leo has the wacky, amazing Whippet Hotel.Now that Leo has uncovered a few secrets behind the wacky Whippet Hotel, he'll have to save it!Leo has explored the zany, wonderful Whippet Hotel from basement to top floor, with trains, flying goats, and mazes (among other things) in between. But even Leo doesn't know every secret of the Whippet - and when he discovers that there's more beneath the hotel than he'd thought, it doesn't take long for more adventures to unfold!</td>\n",
       "    </tr>\n",
       "  </tbody>\n",
       "</table>\n",
       "</div>"
      ],
      "text/plain": [
       "              author    title  \\\n",
       "5878  Patrick Carman  3 Below   \n",
       "\n",
       "                                                                                                                                                                                                                                                                                                                                                                                                                                                                                                                                                  description  \n",
       "5878  Charlie had his chocolate factory. Stanley Yelnats had his holes. Leo has the wacky, amazing Whippet Hotel.Now that Leo has uncovered a few secrets behind the wacky Whippet Hotel, he'll have to save it!Leo has explored the zany, wonderful Whippet Hotel from basement to top floor, with trains, flying goats, and mazes (among other things) in between. But even Leo doesn't know every secret of the Whippet - and when he discovers that there's more beneath the hotel than he'd thought, it doesn't take long for more adventures to unfold!  "
      ]
     },
     "execution_count": 4,
     "metadata": {},
     "output_type": "execute_result"
    }
   ],
   "source": [
    "# Check it\n",
    "\n",
    "books.sample()"
   ]
  },
  {
   "cell_type": "markdown",
   "metadata": {},
   "source": [
    "## Basic exploration"
   ]
  },
  {
   "cell_type": "code",
   "execution_count": 5,
   "metadata": {},
   "outputs": [
    {
     "data": {
      "text/plain": [
       "7727"
      ]
     },
     "execution_count": 5,
     "metadata": {},
     "output_type": "execute_result"
    }
   ],
   "source": [
    "# How many books?\n",
    "\n",
    "books.shape[0]"
   ]
  },
  {
   "cell_type": "code",
   "execution_count": 6,
   "metadata": {},
   "outputs": [
    {
     "data": {
      "text/plain": [
       "3026"
      ]
     },
     "execution_count": 6,
     "metadata": {},
     "output_type": "execute_result"
    }
   ],
   "source": [
    "# How many authors?\n",
    "\n",
    "books[\"author\"].nunique()"
   ]
  },
  {
   "cell_type": "markdown",
   "metadata": {},
   "source": [
    "## Processing\n",
    "\n",
    "In order to do various things with the text, we need to process it first, removing the beautiful chaos of language until we get something that a machine can interpret.\n",
    "\n",
    "For our purposes, we're mostly interested in key words - words within each separate document that carry significant meaning. In the (short) document \"From hell's heart I stab at thee\", the word \"stab\" is vital to the meaning, but the word \"at\" is less important. In order to extract just those words, we need to simplify our text."
   ]
  },
  {
   "cell_type": "code",
   "execution_count": 7,
   "metadata": {},
   "outputs": [],
   "source": [
    "# Create a text column based on description\n",
    "\n",
    "books[\"text\"] = books[\"description\"]"
   ]
  },
  {
   "cell_type": "code",
   "execution_count": 8,
   "metadata": {},
   "outputs": [],
   "source": [
    "# Drop it to lowercase\n",
    "\n",
    "books[\"text\"] = books[\"text\"].str.lower()"
   ]
  },
  {
   "cell_type": "markdown",
   "metadata": {},
   "source": [
    "The next bit of cleaning involves **regular expressions**; these let you match patterns in text. You don't have to learn how to use them, but if you want to do anything with text, then it's a really good idea. Lots of online resources exist to let you [get](https://learn-regex.com/) [some](https://regexcrossword.com/) [practice](https://www.therobinlord.com/projects/slash-escape)."
   ]
  },
  {
   "cell_type": "code",
   "execution_count": 9,
   "metadata": {},
   "outputs": [],
   "source": [
    "# Remove digits & duplicate spaces\n",
    "\n",
    "books.loc[:, \"text\"].replace(r\"\\d+\", \" \", regex=True, inplace=True)\n",
    "books.loc[:, \"text\"].replace(r\"\\s+\", \" \", regex=True, inplace=True)"
   ]
  },
  {
   "cell_type": "markdown",
   "metadata": {},
   "source": [
    "### Tokenisation\n",
    "\n",
    "**Tokenisation** is the process of splitting documents (big strings) into smaller units. You can do it at various levels - character-, word-, sentence-, etc. Essentially, it splits the text into the units that you care about, and enables particular kinds of processing.\n",
    "\n",
    "Using `nltk`'s word-level tokeniser,\n",
    "\n",
    "```\n",
    "You could not see a cloud, because\n",
    "No cloud was in the sky:\n",
    "No birds were flying overhead —\n",
    "There were no birds to fly.\n",
    "```\n",
    "\n",
    "becomes\n",
    "\n",
    "```python\n",
    "['You', 'could', 'not', 'see', 'a', 'cloud', ',', 'because', 'No', 'cloud', 'was', 'in', 'the', 'sky', ':', 'No', 'birds', 'were', 'flying', 'overhead', '—', 'There', 'were', 'no', 'birds', 'to', 'fly', '.']\n",
    "```\n",
    "\n",
    "Splitting text at word level allows us to deal with text at word-level, removing small functional words and words that - in our domain - are not exciting."
   ]
  },
  {
   "cell_type": "code",
   "execution_count": 10,
   "metadata": {},
   "outputs": [],
   "source": [
    "# Tokenize the column\n",
    "\n",
    "books[\"text\"] = books[\"text\"].apply(word_tokenize)"
   ]
  },
  {
   "cell_type": "markdown",
   "metadata": {},
   "source": [
    "### Stopword removal\n",
    "\n",
    "In any English text, many of the words are small functional ones, like 'of' or 'and', that do not carry meaning on their own. Instead, they tell you how the other words relate to each other.\n",
    "\n",
    "These words present a problem for many forms of text analysis, because they get in the way, and they're hard to deal with without very complex processing. One time-honoured way to handle them is just removal.\n",
    "\n",
    "These words are called 'stop words', and you can find all sorts of lists of them to help with the removal process."
   ]
  },
  {
   "cell_type": "code",
   "execution_count": 11,
   "metadata": {},
   "outputs": [],
   "source": [
    "# Get a list of stopwords\n",
    "\n",
    "stops = stopwords.words(\"english\")\n",
    "\n",
    "# Add any words that are also boring (use domain knowledge, etc.)\n",
    "\n",
    "stops.extend([\"n't\", \"'ve\", \"...\", \"book\", \"novel\", \"series\", \"author\",\n",
    "              \"fiction\", \"story\", \"edition\", \"stories\", \"readers\", \"authors\"])"
   ]
  },
  {
   "cell_type": "code",
   "execution_count": 12,
   "metadata": {},
   "outputs": [],
   "source": [
    "# Use the stopwords list to filter out stop words and short words\n",
    "\n",
    "books[\"text\"] = books[\"text\"].apply(lambda x: [word for word in x\n",
    "                                               if word not in stops\n",
    "                                               and len(word) > 2])"
   ]
  },
  {
   "cell_type": "markdown",
   "metadata": {},
   "source": [
    "At this point, we could carry out further processing on the words. Two potential candidates are **stemming** and **lemmatisation**. Both of these techniques reduce the number of unique words in the dataset by collapsing different forms of the same word together (\"is\" and \"was\", for example, are both forms of the word \"be\").\n",
    "\n",
    "Stemming is a relatively crude, rule-based method, whilst lemmatisation is a computationally-expensive dictionary-based one. Lemmatisation is harder to do properly, but tends to work better. Both techniques are outside today's scope, but here's a [lemmatisation notebook](https://github.com/Peritract/text-analysis/blob/master/Lemmatisation.ipynb) if you want to read further."
   ]
  },
  {
   "cell_type": "markdown",
   "metadata": {},
   "source": [
    "## Similarity scores"
   ]
  },
  {
   "cell_type": "markdown",
   "metadata": {},
   "source": [
    "### Vectorisation\n",
    "\n",
    "Now that we've extracted lists of the keywords in each document, the next step is to turn those keywords into a numeric representation of each document. This will let us take the keywords - the bit of the document that matters to us - and express them in a way that machine learning algorithms can work with. The process of converting a document into its numeric representation is referred to as **vectorisation**.\n",
    "\n",
    "Various methods of vectorising text exist; two of them are shown in the table below, applied to the string `\"round the ragged rocks the ragged rascal ran\"`.\n",
    "\n",
    "| Vectorizer | round | the | ragged | rocks | rascal | ran |\n",
    "| --- | --- | --- | --- | --- | --- | --- |\n",
    "| Boolean | True | True | True | True | True | True |\n",
    "| Count | 1 | 2 | 2 | 1 | 1 | 1 |\n",
    "\n",
    "Both of the above methods are relatively crude, so we're not actuall going to use them. We're going to make (dramatically cooler) **TF-IDF** vectors.\n",
    "\n",
    "\"Term frequency - inverse document frequency\" (TF-IDF) is a way of measuring word **importance**, rather than occurrence or frequency. [Here's more information](http://tfidf.com/), but essentially it measures how common a word is in a single document, relative to how common it is in all documents.\n",
    "\n",
    "A word that is much more common in a specific document than it is generally is an important word for that document. A word that appears roughly as often in a specific document as in all documents is unimportant to that document.\n",
    "\n",
    "In time-honoured data science tradition, we're not actually going to calculate it; we can just use `sklearn`."
   ]
  },
  {
   "cell_type": "code",
   "execution_count": 13,
   "metadata": {},
   "outputs": [],
   "source": [
    "# Convert the text column back into strings\n",
    "\n",
    "keywords_text = books[\"text\"].apply(lambda x : \" \".join(x))"
   ]
  },
  {
   "cell_type": "code",
   "execution_count": 14,
   "metadata": {},
   "outputs": [],
   "source": [
    "# Make a vectorizer\n",
    "# min_df=0.005 - only include words that occur in at least 0.5% of docs\n",
    "# max_features=10000 - no matter how many words there are, only take the 10000 most frequent\n",
    "\n",
    "vectorizer = TfidfVectorizer(min_df=0.005, max_features=10000)"
   ]
  },
  {
   "cell_type": "code",
   "execution_count": 15,
   "metadata": {},
   "outputs": [],
   "source": [
    "# Create the vectors\n",
    "\n",
    "dtm = vectorizer.fit_transform(keywords_text)"
   ]
  },
  {
   "cell_type": "markdown",
   "metadata": {},
   "source": [
    "Vectorising transforms a bunch of documents into a **document-term matrix**, in which every row is a document and every column is a unique word (or term, hence the name)."
   ]
  },
  {
   "cell_type": "code",
   "execution_count": 16,
   "metadata": {},
   "outputs": [
    {
     "data": {
      "text/plain": [
       "<7727x2373 sparse matrix of type '<class 'numpy.float64'>'\n",
       "\twith 336349 stored elements in Compressed Sparse Row format>"
      ]
     },
     "execution_count": 16,
     "metadata": {},
     "output_type": "execute_result"
    }
   ],
   "source": [
    "# Glance at it, briefly\n",
    "\n",
    "dtm"
   ]
  },
  {
   "cell_type": "markdown",
   "metadata": {},
   "source": [
    "### Similarity scores\n",
    "\n",
    "As vectors represent points in imaginary space, we can use the idea of those points to find similar documents. Any document that - when vectorised - is close to another vectorised document should contain similar key words, and thus have similar content.\n",
    "\n",
    "We have out vectors stored in `dtm`, so now we need a way to turn a new document into the *exact same type of vector*."
   ]
  },
  {
   "cell_type": "code",
   "execution_count": 17,
   "metadata": {},
   "outputs": [],
   "source": [
    "def vectorize(text):\n",
    "    \"\"\"Converts a string into a TF-IDF vector\"\"\"\n",
    "    \n",
    "    # Case-fold and remove digits/spaces\n",
    "    text = re.sub(\"\\s+\", \" \", re.sub(\"\\d+\", \" \", text.lower()))\n",
    "    \n",
    "    # Tokenize, remove short/stopwords and rejoin\n",
    "    text = \" \".join([x for x in word_tokenize(text)\n",
    "                     if x not in stops\n",
    "                     and len(x) > 2])\n",
    "    \n",
    "    # vectorize and return\n",
    "    return vectorizer.transform([text])"
   ]
  },
  {
   "cell_type": "markdown",
   "metadata": {},
   "source": [
    "Now that we have the vectorising function, we can vectorise a new book."
   ]
  },
  {
   "cell_type": "code",
   "execution_count": 18,
   "metadata": {},
   "outputs": [],
   "source": [
    "# Book description (not in sample)\n",
    "# Where Dreams Descend - Janelle Angeles\n",
    "\n",
    "test_book = \"\"\"\n",
    "In a city covered in ice and ruin, a group of magicians face off in a daring game of magical\n",
    "feats to find the next headliner of the Conquering Circus, only to find themselves under the\n",
    "threat of an unseen danger striking behind the scenes.\n",
    "\n",
    "As each act becomes more and more risky and the number of missing magicians piles up, three\n",
    "are forced to reckon with their secrets before the darkness comes for them next.\n",
    "\n",
    "The Star: Kallia, a powerful showgirl out to prove she’s the best no matter the cost\n",
    "The Master: Jack, the enigmatic keeper of the club, and more than one lie told\n",
    "The Magician: Demarco, the brooding judge with a dark past he can no longer hide\n",
    "\n",
    "Where Dreams Descend is the startling and romantic first book in Janella Angeles’ debut\n",
    "Kingdom of Cards fantasy duology where magic is both celebrated and feared, and no heart\n",
    "is left unscathed.\n",
    "\"\"\"\n",
    "\n",
    "# Get the vector\n",
    "\n",
    "book_vector = vectorize(test_book)"
   ]
  },
  {
   "cell_type": "code",
   "execution_count": 19,
   "metadata": {},
   "outputs": [
    {
     "data": {
      "text/plain": [
       "<1x2373 sparse matrix of type '<class 'numpy.float64'>'\n",
       "\twith 56 stored elements in Compressed Sparse Row format>"
      ]
     },
     "execution_count": 19,
     "metadata": {},
     "output_type": "execute_result"
    }
   ],
   "source": [
    "# Show the vector\n",
    "\n",
    "book_vector"
   ]
  },
  {
   "cell_type": "markdown",
   "metadata": {},
   "source": [
    "### Cosine similarity\n",
    "\n",
    "To compare vectors together, we can compute the **cosine similarity**. There's a lot of maths behind it all, with words like 'Euclidean' and 'orthogonal' involved. Cosine similarity takes multiple points in hyper-dimensional space and works out if they're close together, ignoring\n",
    "the length of the original documents.\n",
    "\n",
    "You can [read more about it all](https://en.wikipedia.org/wiki/Cosine_similarity), but essentially the cosine similarity of two documents is a score between 0 and 1 that tells you how similar they are."
   ]
  },
  {
   "cell_type": "code",
   "execution_count": 20,
   "metadata": {},
   "outputs": [],
   "source": [
    "# Compute the similarity vectors\n",
    "# Compare every document to the new one\n",
    "\n",
    "similarities = cosine_similarity(book_vector, dtm).flatten()"
   ]
  },
  {
   "cell_type": "code",
   "execution_count": 21,
   "metadata": {},
   "outputs": [
    {
     "data": {
      "text/plain": [
       "array([0.01971991, 0.08980112, 0.02788277, 0.00833649, 0.        ,\n",
       "       0.        , 0.00243461, 0.01799363, 0.02243726, 0.01798619])"
      ]
     },
     "execution_count": 21,
     "metadata": {},
     "output_type": "execute_result"
    }
   ],
   "source": [
    "# Check the scores - should be a whole bunch of small numbers\n",
    "\n",
    "similarities[:10]"
   ]
  },
  {
   "cell_type": "markdown",
   "metadata": {},
   "source": [
    "### Most similar documents\n",
    "\n",
    "With the similarity scores calculated, we just have to match the scores for each book back to the original title, and then show the titles with the highest similarity scores."
   ]
  },
  {
   "cell_type": "code",
   "execution_count": 22,
   "metadata": {},
   "outputs": [],
   "source": [
    "# Grab a copy of books\n",
    "\n",
    "similarity_df = books[[\"title\", \"author\"]]"
   ]
  },
  {
   "cell_type": "code",
   "execution_count": 23,
   "metadata": {},
   "outputs": [],
   "source": [
    "# Add the similarities as a column\n",
    "\n",
    "similarity_df[\"similarity\"] = similarities"
   ]
  },
  {
   "cell_type": "code",
   "execution_count": 24,
   "metadata": {},
   "outputs": [
    {
     "data": {
      "text/html": [
       "<div>\n",
       "<style scoped>\n",
       "    .dataframe tbody tr th:only-of-type {\n",
       "        vertical-align: middle;\n",
       "    }\n",
       "\n",
       "    .dataframe tbody tr th {\n",
       "        vertical-align: top;\n",
       "    }\n",
       "\n",
       "    .dataframe thead th {\n",
       "        text-align: right;\n",
       "    }\n",
       "</style>\n",
       "<table border=\"1\" class=\"dataframe\">\n",
       "  <thead>\n",
       "    <tr style=\"text-align: right;\">\n",
       "      <th></th>\n",
       "      <th>title</th>\n",
       "      <th>author</th>\n",
       "      <th>similarity</th>\n",
       "    </tr>\n",
       "  </thead>\n",
       "  <tbody>\n",
       "    <tr>\n",
       "      <th>3813</th>\n",
       "      <td>The Magicians Trilogy Boxed Set</td>\n",
       "      <td>Lev Grossman</td>\n",
       "      <td>0.277792</td>\n",
       "    </tr>\n",
       "    <tr>\n",
       "      <th>7723</th>\n",
       "      <td>The Magicians and the Magician King</td>\n",
       "      <td>Lev Grossman</td>\n",
       "      <td>0.231837</td>\n",
       "    </tr>\n",
       "    <tr>\n",
       "      <th>1382</th>\n",
       "      <td>The Prestige</td>\n",
       "      <td>Christopher Priest</td>\n",
       "      <td>0.203499</td>\n",
       "    </tr>\n",
       "    <tr>\n",
       "      <th>1058</th>\n",
       "      <td>The Ambassador's Mission</td>\n",
       "      <td>Trudi Canavan</td>\n",
       "      <td>0.203308</td>\n",
       "    </tr>\n",
       "    <tr>\n",
       "      <th>1068</th>\n",
       "      <td>The Magician King</td>\n",
       "      <td>Lev Grossman</td>\n",
       "      <td>0.186267</td>\n",
       "    </tr>\n",
       "    <tr>\n",
       "      <th>209</th>\n",
       "      <td>The Amulet of Samarkand</td>\n",
       "      <td>Jonathan Stroud</td>\n",
       "      <td>0.180541</td>\n",
       "    </tr>\n",
       "    <tr>\n",
       "      <th>4772</th>\n",
       "      <td>Interstellar Pig</td>\n",
       "      <td>William Sleator</td>\n",
       "      <td>0.178967</td>\n",
       "    </tr>\n",
       "    <tr>\n",
       "      <th>317</th>\n",
       "      <td>The Magicians' Guild</td>\n",
       "      <td>Trudi Canavan</td>\n",
       "      <td>0.176819</td>\n",
       "    </tr>\n",
       "    <tr>\n",
       "      <th>5660</th>\n",
       "      <td>The Last Unicorn #4</td>\n",
       "      <td>Peter B. Gillis</td>\n",
       "      <td>0.173110</td>\n",
       "    </tr>\n",
       "    <tr>\n",
       "      <th>5569</th>\n",
       "      <td>The Demon's Surrender</td>\n",
       "      <td>Sarah Rees Brennan</td>\n",
       "      <td>0.169443</td>\n",
       "    </tr>\n",
       "  </tbody>\n",
       "</table>\n",
       "</div>"
      ],
      "text/plain": [
       "                                    title              author  similarity\n",
       "3813  The Magicians Trilogy Boxed Set      Lev Grossman        0.277792  \n",
       "7723  The Magicians and the Magician King  Lev Grossman        0.231837  \n",
       "1382  The Prestige                         Christopher Priest  0.203499  \n",
       "1058  The Ambassador's Mission             Trudi Canavan       0.203308  \n",
       "1068  The Magician King                    Lev Grossman        0.186267  \n",
       "209   The Amulet of Samarkand              Jonathan Stroud     0.180541  \n",
       "4772  Interstellar Pig                     William Sleator     0.178967  \n",
       "317   The Magicians' Guild                 Trudi Canavan       0.176819  \n",
       "5660  The Last Unicorn #4                  Peter B. Gillis     0.173110  \n",
       "5569  The Demon's Surrender                Sarah Rees Brennan  0.169443  "
      ]
     },
     "execution_count": 24,
     "metadata": {},
     "output_type": "execute_result"
    }
   ],
   "source": [
    "# Sort by similarity and return the top ten\n",
    "\n",
    "similarity_df.sort_values(\"similarity\", ascending=False).head(10)"
   ]
  },
  {
   "cell_type": "markdown",
   "metadata": {},
   "source": [
    "Using similarity scores, we can find the most similar documents to any document; however, this process works for one document at a time - if we want to group documents together without manual effort, we need to use other methods.\n",
    "\n",
    "## Clustering\n",
    "\n",
    "Clustering lets us find groups in data when we don't know what we're looking for. Most clustering algorithms needs numeric input to work, but luckily - with vectors - that's what we've got.\n",
    "\n",
    "Clustering is also quite difficult, due to the \"curse of dimensionality\" - each separate word is a column, which means that, if there are fifty unique words in your dataset, then you have fifty columns. Fifty unique words is very low, so in practice, you often have thousands of columns.\n",
    "\n",
    "In our case, the data is also quite diffuse, so clustering doesn't find clear groups easily."
   ]
  },
  {
   "cell_type": "code",
   "execution_count": 25,
   "metadata": {},
   "outputs": [],
   "source": [
    "# Using DBSCAN\n",
    "\n",
    "clusters = pd.Series(DBSCAN(eps=0.95).fit_predict(dtm))"
   ]
  },
  {
   "cell_type": "code",
   "execution_count": 26,
   "metadata": {},
   "outputs": [
    {
     "data": {
      "text/plain": [
       "-1    7653\n",
       " 3    13  \n",
       " 2    9   \n",
       " 8    9   \n",
       " 6    8   \n",
       " 1    8   \n",
       " 5    6   \n",
       " 0    6   \n",
       " 7    5   \n",
       " 9    5   \n",
       " 4    5   \n",
       "dtype: int64"
      ]
     },
     "execution_count": 26,
     "metadata": {},
     "output_type": "execute_result"
    }
   ],
   "source": [
    "# See how many in each cluster\n",
    "\n",
    "clusters.value_counts()"
   ]
  },
  {
   "cell_type": "markdown",
   "metadata": {},
   "source": [
    "-1 is what DBSCAN uses for outlier values that cannot be easily clustered. With this dataset, and without a lot of tweaking, clustering analysis seems to produce very little of value.\n",
    "\n",
    "We can look at cluster 3 though (13 documents) and see if the clusters that have been found are meaningful."
   ]
  },
  {
   "cell_type": "code",
   "execution_count": 27,
   "metadata": {},
   "outputs": [
    {
     "data": {
      "text/html": [
       "<div>\n",
       "<style scoped>\n",
       "    .dataframe tbody tr th:only-of-type {\n",
       "        vertical-align: middle;\n",
       "    }\n",
       "\n",
       "    .dataframe tbody tr th {\n",
       "        vertical-align: top;\n",
       "    }\n",
       "\n",
       "    .dataframe thead th {\n",
       "        text-align: right;\n",
       "    }\n",
       "</style>\n",
       "<table border=\"1\" class=\"dataframe\">\n",
       "  <thead>\n",
       "    <tr style=\"text-align: right;\">\n",
       "      <th></th>\n",
       "      <th>title</th>\n",
       "      <th>author</th>\n",
       "      <th>cluster</th>\n",
       "    </tr>\n",
       "  </thead>\n",
       "  <tbody>\n",
       "    <tr>\n",
       "      <th>45</th>\n",
       "      <td>Harry Potter and the Chamber of Secrets</td>\n",
       "      <td>J.K. Rowling</td>\n",
       "      <td>3</td>\n",
       "    </tr>\n",
       "    <tr>\n",
       "      <th>348</th>\n",
       "      <td>The Harry Potter Collection 1-4</td>\n",
       "      <td>J.K. Rowling</td>\n",
       "      <td>3</td>\n",
       "    </tr>\n",
       "    <tr>\n",
       "      <th>366</th>\n",
       "      <td>Harry Potter and the Cursed Child - Parts One and Two</td>\n",
       "      <td>John Tiffany</td>\n",
       "      <td>3</td>\n",
       "    </tr>\n",
       "    <tr>\n",
       "      <th>619</th>\n",
       "      <td>Harry Potter and the Methods of Rationality</td>\n",
       "      <td>Eliezer Yudkowsky</td>\n",
       "      <td>3</td>\n",
       "    </tr>\n",
       "    <tr>\n",
       "      <th>967</th>\n",
       "      <td>Harry Potter and the Cursed Child, Parts 1 &amp; 2</td>\n",
       "      <td>John Tiffany</td>\n",
       "      <td>3</td>\n",
       "    </tr>\n",
       "    <tr>\n",
       "      <th>1377</th>\n",
       "      <td>The Harry Potter trilogy</td>\n",
       "      <td>J.K. Rowling</td>\n",
       "      <td>3</td>\n",
       "    </tr>\n",
       "    <tr>\n",
       "      <th>1555</th>\n",
       "      <td>Harry Potter: Film Wizardry</td>\n",
       "      <td>Brian Sibley</td>\n",
       "      <td>3</td>\n",
       "    </tr>\n",
       "    <tr>\n",
       "      <th>1796</th>\n",
       "      <td>Harry Potter Boxed Set, Books 1-5 (Harry Potter, #1-5)</td>\n",
       "      <td>J.K. Rowling</td>\n",
       "      <td>3</td>\n",
       "    </tr>\n",
       "    <tr>\n",
       "      <th>2231</th>\n",
       "      <td>Harry Potter Boxset</td>\n",
       "      <td>J.K. Rowling</td>\n",
       "      <td>3</td>\n",
       "    </tr>\n",
       "    <tr>\n",
       "      <th>3534</th>\n",
       "      <td>Harry Potter and the Cursed Child - Parts I &amp; II</td>\n",
       "      <td>John Tiffany</td>\n",
       "      <td>3</td>\n",
       "    </tr>\n",
       "    <tr>\n",
       "      <th>4331</th>\n",
       "      <td>Harry Potter: The Complete Series</td>\n",
       "      <td>J.K. Rowling</td>\n",
       "      <td>3</td>\n",
       "    </tr>\n",
       "    <tr>\n",
       "      <th>5226</th>\n",
       "      <td>Harry Potter: A Pop-Up Book: Based on the Film Phenomenon</td>\n",
       "      <td>Andrew Williamson</td>\n",
       "      <td>3</td>\n",
       "    </tr>\n",
       "    <tr>\n",
       "      <th>7687</th>\n",
       "      <td>Harry Potter: The Prequel</td>\n",
       "      <td>J.K. Rowling</td>\n",
       "      <td>3</td>\n",
       "    </tr>\n",
       "  </tbody>\n",
       "</table>\n",
       "</div>"
      ],
      "text/plain": [
       "                                                          title  \\\n",
       "45    Harry Potter and the Chamber of Secrets                     \n",
       "348   The Harry Potter Collection 1-4                             \n",
       "366   Harry Potter and the Cursed Child - Parts One and Two       \n",
       "619   Harry Potter and the Methods of Rationality                 \n",
       "967   Harry Potter and the Cursed Child, Parts 1 & 2              \n",
       "1377  The Harry Potter trilogy                                    \n",
       "1555  Harry Potter: Film Wizardry                                 \n",
       "1796  Harry Potter Boxed Set, Books 1-5 (Harry Potter, #1-5)      \n",
       "2231  Harry Potter Boxset                                         \n",
       "3534  Harry Potter and the Cursed Child - Parts I & II            \n",
       "4331  Harry Potter: The Complete Series                           \n",
       "5226  Harry Potter: A Pop-Up Book: Based on the Film Phenomenon   \n",
       "7687  Harry Potter: The Prequel                                   \n",
       "\n",
       "                 author  cluster  \n",
       "45    J.K. Rowling       3        \n",
       "348   J.K. Rowling       3        \n",
       "366   John Tiffany       3        \n",
       "619   Eliezer Yudkowsky  3        \n",
       "967   John Tiffany       3        \n",
       "1377  J.K. Rowling       3        \n",
       "1555  Brian Sibley       3        \n",
       "1796  J.K. Rowling       3        \n",
       "2231  J.K. Rowling       3        \n",
       "3534  John Tiffany       3        \n",
       "4331  J.K. Rowling       3        \n",
       "5226  Andrew Williamson  3        \n",
       "7687  J.K. Rowling       3        "
      ]
     },
     "execution_count": 27,
     "metadata": {},
     "output_type": "execute_result"
    }
   ],
   "source": [
    "# Get a copy of books\n",
    "\n",
    "cluster_df = books[[\"title\", \"author\"]]\n",
    "\n",
    "# Add the clusters onto the df\n",
    "\n",
    "cluster_df[\"cluster\"] = clusters\n",
    "\n",
    "# Display the books in cluster 3\n",
    "\n",
    "cluster_df[cluster_df[\"cluster\"] == 3]"
   ]
  },
  {
   "cell_type": "markdown",
   "metadata": {},
   "source": [
    "This has actually found some reasonable clusters - 3 is *Harry Potter*, 2 is *Death Note*, 4 is *Sandman*, and so on. However, this isn't particularly useful; it stands to reason that books in a series will have similar descriptions, but clustering that only shows you the obvious stuff is a waste of effort.\n",
    "\n",
    "We need more complex, text-specific techniques."
   ]
  },
  {
   "cell_type": "markdown",
   "metadata": {},
   "source": [
    "## Topic analysis\n",
    "\n",
    "Topic analysis is both conceptually and computationally difficult. Essentially, it allows you to identify \"topics\" from a set of documents, where \"topic\" means \"collection of words that frequently appear together\". Like clustering, topic analysis is a form of **unsupervised** learning, and so you need to evaluate your topics to work out what they mean. We'll look at [Latent Dirichlet Allocation](https://en.wikipedia.org/wiki/Latent_Dirichlet_allocation) (**LDA**) topic modelling: \n",
    "\n",
    "To give a brief (extremely crude) example, suppose that you have the following documents:\n",
    "\n",
    "| Document | Text |\n",
    "| --- | --- |\n",
    "| 0 | frogs are amphibious |\n",
    "| 1 | they use amphibious vehicles for transport over water |\n",
    "| 2 | ponds are home to many species including frogs and newts |\n",
    "| 3 | aeroplanes are not amphibious vehicles |\n",
    "| 4 | amphibious vehicles can travel over land and water|\n",
    "| 5 | frogs live in ponds |\n",
    "| 6 | cars are less expensive than aeroplanes |\n",
    "| 7 | vampires are fictional creatures |\n",
    "| 8 | cars and aeroplanes are used for transport |\n",
    "| 9 | cars are the most common type of vehicle |\n",
    "\n",
    "As humans, we can look at the above sentences and easily identify the main ideas. Machines do not have our conceptual understanding however, and so must rely on cruder methods: finding groups of words that seem to usefully split up the documents.\n",
    "\n",
    "Topic analysis might identify the following groups:\n",
    "\n",
    "| Topic | Top words |\n",
    "| --- | --- |\n",
    "| A | frogs, ponds |\n",
    "| B | cars, aeroplanes, vehicles, transport|\n",
    "| C | amphibious, water, over, vehicles |\n",
    "\n",
    "Topic analysis is essentially saying that, if you sort documents into categories based on the appearance of certain words, these are the sets of words that result in the neatest categories. We can then identify, for example, that documents 0, 2, and 5 are mostly concerned with topic A, and that document 7 is an outlier that doesn't have much in common with any other documents.\n",
    "\n",
    "The above is an oversimplification of the theory, but it works for a practical understanding; if you're interested in more specifics, [this article has a good overview](https://towardsdatascience.com/a-friendly-introduction-to-text-clustering-fa996bcefd04). This notebook, however, is going to focus on writing the code to run topic analysis."
   ]
  },
  {
   "cell_type": "code",
   "execution_count": 28,
   "metadata": {},
   "outputs": [],
   "source": [
    "# Get a copy of the text column again - lists of keywords\n",
    "\n",
    "lda_docs = books[\"text\"]"
   ]
  },
  {
   "cell_type": "code",
   "execution_count": 29,
   "metadata": {},
   "outputs": [
    {
     "name": "stdout",
     "output_type": "stream",
     "text": [
      "['explain', 'afraid', 'sir', 'said', 'alice', 'see', 'alice', 'sees', 'white', 'rabbit', 'take', 'watch', 'waistcoat', 'pocket', 'decides', 'follow', 'sequence', 'unusual', 'events', 'set', 'motion', 'mini', 'contains', 'entire', 'topsy-turvy', 'alice', 'adventures', 'wonderland', 'looking-glass', 'accompanied', 'practical', 'notes', 'martina', 'pelouso', 'memorable', 'full-colour', 'illustrations']\n"
     ]
    }
   ],
   "source": [
    "# Check a single document\n",
    "\n",
    "print(lda_docs[4])"
   ]
  },
  {
   "cell_type": "markdown",
   "metadata": {},
   "source": [
    "### Bag-of-words model\n",
    "\n",
    "Just as when we vectorised, we need to represent each document as a set of numbers, not words directly. What we're doing here is **count vectorisation**, as described earlier on, but it's often referred to as a \"bag-of-words\" model, because we're losing all the information about how each word in a document relates to the others, and just jumbling them all together.\n",
    "\n",
    "Every unique word in the documents will be given an ID, and then each document will be transformed into a vector of numbers, with each number representing the presence or absence of a particular ID (and therefore word).\n",
    "\n",
    "This is the same process as we went through with our TF-IDF vectors, but using different libraries; this makes the code a little more complex, but being familiar with two different approaches will help you read & understand text processing in other situations as you come across it."
   ]
  },
  {
   "cell_type": "code",
   "execution_count": 30,
   "metadata": {},
   "outputs": [],
   "source": [
    "# Create a dictionary mapping IDs to words\n",
    "# Equivalent to vectoriser.fit(lda_docs)\n",
    "\n",
    "lda_dict = Dictionary(lda_docs)"
   ]
  },
  {
   "cell_type": "markdown",
   "metadata": {},
   "source": [
    "Once we have the IDs stored in a dictionary, we can use it to convert each document into the bag-of-words form; because we have the dictionary now, we can later convert other new documents into exactly the same bag-of-words form. This collection of vectorised documents is called a **corpus**."
   ]
  },
  {
   "cell_type": "code",
   "execution_count": 31,
   "metadata": {},
   "outputs": [],
   "source": [
    "# Convert each document into a bag-of-words representation using the dictionary\n",
    "# The equivalent of vectoriser.transform(lda_docs)\n",
    "\n",
    "lda_corpus = [lda_dict.doc2bow(doc) for doc in lda_docs]"
   ]
  },
  {
   "cell_type": "code",
   "execution_count": 32,
   "metadata": {},
   "outputs": [
    {
     "name": "stdout",
     "output_type": "stream",
     "text": [
      "[(66, 1), (75, 1), (154, 1), (306, 1), (307, 1), (308, 3), (309, 1), (310, 1), (311, 1), (312, 1), (313, 1), (314, 1), (315, 1), (316, 1), (317, 1), (318, 1), (319, 1), (320, 1), (321, 1), (322, 1), (323, 1), (324, 1), (325, 1), (326, 1), (327, 1), (328, 1), (329, 1), (330, 1), (331, 1), (332, 1), (333, 1), (334, 1), (335, 1), (336, 1), (337, 1)]\n"
     ]
    }
   ],
   "source": [
    "# View a bag-of-words representation\n",
    "\n",
    "print(lda_corpus[4])"
   ]
  },
  {
   "cell_type": "markdown",
   "metadata": {},
   "source": [
    "Each document is now stored as a list of tuples, in the form `(word_id, word_frequency)`. You can map IDs back onto their words using the dictionary."
   ]
  },
  {
   "cell_type": "code",
   "execution_count": 33,
   "metadata": {},
   "outputs": [
    {
     "data": {
      "text/plain": [
       "'appeared'"
      ]
     },
     "execution_count": 33,
     "metadata": {},
     "output_type": "execute_result"
    }
   ],
   "source": [
    "# What is word 339?\n",
    "\n",
    "lda_dict[339]"
   ]
  },
  {
   "cell_type": "markdown",
   "metadata": {},
   "source": [
    "### LDA modelling\n",
    "\n",
    "Now that we have our data in the correct form, we can actually do some topic modelling. The model is a relatively complex one, and it has lots of tweakable parameters; for now, we're going to go with a basic implementation, but I encourage you to explore the options at leisure, looking for the best parameters for your dataset.\n",
    "\n",
    "The best parameters, of course, are those that result in the most meaningful topics. Unfortunately, as this is unsupervised modelling, there's no magic bullet metric - a lot of this is based on reviewing the results and making your own judgements."
   ]
  },
  {
   "cell_type": "code",
   "execution_count": 34,
   "metadata": {},
   "outputs": [],
   "source": [
    "# Choose the number of topics you want to look for - similar to k in K-Means\n",
    "# The number was an arbitrary choice here, not validated against anything precisely\n",
    "# I just tweaked it a bit until the topics looked vaguely interesting\n",
    "\n",
    "num_topics = 10"
   ]
  },
  {
   "cell_type": "code",
   "execution_count": 35,
   "metadata": {},
   "outputs": [],
   "source": [
    "# Run the model; it takes a while\n",
    "\n",
    "lda_model = LdaModel(corpus=lda_corpus,\n",
    "                     id2word=lda_dict,\n",
    "                     num_topics=num_topics, \n",
    "                     random_state=451)"
   ]
  },
  {
   "cell_type": "markdown",
   "metadata": {},
   "source": [
    "Once the topics have been generated, we can view them.\n",
    "\n",
    "Each topic has the following form:\n",
    "\n",
    "(`topic_num`, `importance_of_word_A` * `word_A` + `importance_of_word_B` * `word_B` ...)\n",
    "\n",
    "Essentially, for each topic, you get a list of the top words in the topic, plus a number (between 0 and 1) representing how central that word is to that topic."
   ]
  },
  {
   "cell_type": "code",
   "execution_count": 36,
   "metadata": {},
   "outputs": [
    {
     "data": {
      "text/plain": [
       "(6,\n",
       " '0.011*\"world\" + 0.007*\"one\" + 0.006*\"new\" + 0.006*\"time\" + 0.005*\"life\" + 0.004*\"human\" + 0.004*\"power\" + 0.004*\"vampire\" + 0.004*\"war\" + 0.004*\"must\"')"
      ]
     },
     "execution_count": 36,
     "metadata": {},
     "output_type": "execute_result"
    }
   ],
   "source": [
    "# Check a topic\n",
    "\n",
    "lda_model.print_topics()[6]"
   ]
  },
  {
   "cell_type": "code",
   "execution_count": 37,
   "metadata": {},
   "outputs": [
    {
     "data": {
      "text/plain": [
       "(7,\n",
       " '0.006*\"time\" + 0.006*\"world\" + 0.005*\"life\" + 0.005*\"one\" + 0.005*\"new\" + 0.004*\"must\" + 0.004*\"love\" + 0.003*\"find\" + 0.003*\"three\" + 0.003*\"back\"')"
      ]
     },
     "execution_count": 37,
     "metadata": {},
     "output_type": "execute_result"
    }
   ],
   "source": [
    "# Check a different topic\n",
    "\n",
    "lda_model.print_topics()[7]"
   ]
  },
  {
   "cell_type": "markdown",
   "metadata": {},
   "source": [
    "At a glance, we can see that topic 6 is probably dark fantasy - it's got vampires in. Topic 7 seems lighter on the fantastical elements, but the presence of \"love\" suggests that maybe this is the sub-genre of fantasy romance.\n",
    "\n",
    "The word \"world\" appears in both topics; this is because - if you look at word frequency for this dataset - \"world\" is one of the most frequent words overall. A lot of fantasy books are focused on saving it."
   ]
  },
  {
   "cell_type": "markdown",
   "metadata": {},
   "source": [
    "### Visualising topics\n",
    "\n",
    "We can go a step further in exploring the topics, and plot them in a visual way, using the [pyLDAvis](https://github.com/bmabey/pyLDAvis) library. This is also computationally expensive, but the end-result is worth it: an interactive plot that lets you not only explore the key words in a topic, but also narrow in on the ideal number of topics."
   ]
  },
  {
   "cell_type": "code",
   "execution_count": 38,
   "metadata": {},
   "outputs": [],
   "source": [
    "# Prepare the data for display\n",
    "\n",
    "lda_vis = pyLDAvis.gensim.prepare(lda_model, lda_corpus, lda_dict, sort_topics=True)"
   ]
  },
  {
   "cell_type": "code",
   "execution_count": 39,
   "metadata": {},
   "outputs": [
    {
     "data": {
      "text/html": [
       "\n",
       "<link rel=\"stylesheet\" type=\"text/css\" href=\"https://cdn.rawgit.com/bmabey/pyLDAvis/files/ldavis.v1.0.0.css\">\n",
       "\n",
       "\n",
       "<div id=\"ldavis_el941750326711525767224396\"></div>\n",
       "<script type=\"text/javascript\">\n",
       "\n",
       "var ldavis_el941750326711525767224396_data = {\"mdsDat\": {\"x\": [-0.055820693089871185, -0.06721326488986802, -0.033722249623300185, -0.011948593191473518, -0.02396964489151678, -0.015981632063140055, -0.015390955494868455, 0.06521338062645843, 0.08243741693320758, 0.07639623568437223], \"y\": [0.03552572711491857, 0.03760115692364548, 0.008085149172271001, -0.10320811757239327, -0.04557738782236022, 0.0010771899784955022, 0.035354785427858325, -0.03789413229158726, 0.03573018169422389, 0.033305447374928014], \"topics\": [1, 2, 3, 4, 5, 6, 7, 8, 9, 10], \"cluster\": [1, 1, 1, 1, 1, 1, 1, 1, 1, 1], \"Freq\": [23.765818737658744, 19.202072924225977, 13.87347537832359, 10.667566633324775, 10.3698029369633, 7.432671708707453, 6.858424618036266, 3.2641543846230707, 2.3002320316201175, 2.2657806465167116]}, \"tinfo\": {\"Term\": [\"new\", \"world\", \"one\", \"king\", \"tales\", \"time\", \"find\", \"must\", \"house\", \"two\", \"land\", \"annja\", \"first\", \"set\", \"dark\", \"vampire\", \"fantasy\", \"love\", \"life\", \"magic\", \"young\", \"kingdom\", \"family\", \"become\", \"magical\", \"mysterious\", \"tale\", \"man\", \"years\", \"evil\", \"laurence\", \"intrepid\", \"harm\", \"temeraire\", \"jensen\", \"omri\", \"real\\u2014and\", \"theo\", \"joanna\", \"rupert\", \"upstart\", \"cupboard\", \"necromancers\", \"baron\", \"jude\", \"ogre\", \"remind\", \"insists\", \"landover\", \"half-elf\", \"barrie\", \"mona\", \"maeve\", \"goblins\", \"debate\", \"mondega\", \"juniper\", \"passages\", \"falcon\", \"accusations\", \"healer\", \"whereabouts\", \"exorcist\", \"tempest\", \"guts\", \"spreads\", \"false\", \"crossing\", \"willow\", \"witch\", \"mab\", \"calla\", \"louise\", \"joe\", \"annie\", \"mercy\", \"castle\", \"seas\", \"king\", \"miss\", \"knight\", \"kingdom\", \"magic\", \"village\", \"magical\", \"must\", \"deep\", \"evil\", \"world\", \"determined\", \"could\", \"family\", \"one\", \"new\", \"spirit\", \"dark\", \"help\", \"may\", \"find\", \"life\", \"save\", \"dangerous\", \"young\", \"boy\", \"way\", \"ancient\", \"even\", \"children\", \"secret\", \"people\", \"mysterious\", \"old\", \"power\", \"home\", \"war\", \"ever\", \"time\", \"first\", \"hiccup\", \"cameron\", \"similar\", \"quill\", \"deltora\", \"lisa\", \"cop\", \"panic\", \"verity\", \"plagues\", \"constance\", \"artim\\u00e9\", \"oblivion\", \"arrow\", \"ambiguous\", \"notices\", \"cops\", \"whisper\", \"milton\", \"disappearances\", \"twenty-four\", \"inscrutable\", \"pockets\", \"burroughs\", \"unwanteds\", \"sol\", \"belt\", \"inmates\", \"rio\", \"lorien\", \"aaron\", \"elders\", \"joanne\", \"coven\", \"reviewer\", \"boring\", \"scream\", \"poppy\", \"jasmine\", \"odd\", \"fey\", \"alice\", \"werewolf\", \"girl\", \"school\", \"bit\", \"jess\", \"things\", \"abby\", \"town\", \"bad\", \"girls\", \"sam\", \"like\", \"thinks\", \"make\", \"hell\", \"something\", \"every\", \"one\", \"life\", \"mother\", \"find\", \"wants\", \"sees\", \"even\", \"back\", \"get\", \"must\", \"know\", \"world\", \"never\", \"help\", \"would\", \"powerful\", \"night\", \"good\", \"see\", \"finds\", \"time\", \"love\", \"friend\", \"dead\", \"new\", \"magic\", \"friends\", \"city\", \"first\", \"two\", \"villages\", \"thought-provoking\", \"creed\", \"vikram\", \"sabine\", \"aurora\", \"possessing\", \"bridges\", \"moorcock\", \"jules\", \"glen\", \"argonauts\", \"dragonets\", \"archaeologist\", \"dome\", \"mafia\", \"mayan\", \"devised\", \"annja\", \"fiona\", \"bull\", \"twenty-first-century\", \"ingenuity\", \"aspire\", \"dreamer\", \"conjuring\", \"ruth\", \"spores\", \"s\\u00e9ance\", \"corwin\", \"headquarters\", \"subway\", \"alexander\", \"jansson\", \"bridget\", \"asher\", \"inspector\", \"butler\", \"frankenstein\", \"gateway\", \"infiltrate\", \"assassinate\", \"vampire\", \"artistic\", \"amber\", \"maddy\", \"blood\", \"colin\", \"herald\", \"human\", \"vampires\", \"world\", \"humanity\", \"war\", \"power\", \"time\", \"dune\", \"chaos\", \"man\", \"end\", \"forces\", \"new\", \"battle\", \"life\", \"one\", \"years\", \"final\", \"death\", \"love\", \"must\", \"last\", \"evil\", \"first\", \"hope\", \"magic\", \"earth\", \"young\", \"past\", \"people\", \"dark\", \"two\", \"even\", \"city\", \"dead\", \"could\", \"miranda\", \"baggins\", \"impact\", \"eighty\", \"intricately\", \"plates\", \"raphael\", \"illusionist\", \"foreigner\", \"lifelong\", \"hercules\", \"sweden\", \"illuminating\", \"fritz\", \"colleague\", \"obscurity\", \"shire\", \"cup\", \"renamed\", \"saunders\", \"leiber\", \"addison\", \"miasma\", \"gary\", \"mara\", \"woodman\", \"malory\", \"resonant\", \"ozma\", \"morte\", \"anna\", \"dorothy\", \"kansas\", \"lovecraft\", \"novelette\", \"twenty-five\", \"scarecrow\", \"-page\", \"ellison\", \"tin\", \"neill\", \"stoker\", \"storybook\", \"expanded\", \"tara\", \"writers\", \"text\", \"published\", \"amanda\", \"excellent\", \"carter\", \"frank\", \"illustrations\", \"original\", \"classics\", \"poem\", \"tales\", \"literature\", \"planet\", \"collection\", \"classic\", \"translation\", \"work\", \"first\", \"george\", \"written\", \"works\", \"tolkien\", \"new\", \"horror\", \"books\", \"fantasy\", \"short\", \"years\", \"read\", \"history\", \"one\", \"tale\", \"many\", \"world\", \"time\", \"man\", \"young\", \"life\", \"even\", \"best\", \"characters\", \"volume\", \"human\", \"dark\", \"also\", \"find\", \"anita\", \"indispensable\", \"felix\", \"karen\", \"spiderwick\", \"hammer\", \"ramayana\", \"nora\", \"mccloud\", \"batman\", \"best-seller\", \"muggle\", \"skeeve\", \"evie\", \"constantine\", \"d.c.\", \"perennial\", \"high-tech\", \"sneaks\", \"comics\", \"marvin\", \"mutant\", \"angela\", \"rolling\", \"knees\", \"marvel\", \"genie\", \"allegedly\", \"duck\", \"intruders\", \"skyla\", \"wolfe\", \"seven-volume\", \"stuart\", \"gene\", \"carlos\", \"sandman\", \"survey\", \"gaiman\", \"neil\", \"weekly\", \"collects\", \"archer\", \"collecting\", \"walker\", \"graphic\", \"comic\", \"luke\", \"galaxy\", \"art\", \"new\", \"one\", \"volume\", \"first\", \"two\", \"time\", \"science\", \"adventure\", \"award-winning\", \"acclaimed\", \"tale\", \"set\", \"city\", \"epic\", \"original\", \"world\", \"fantasy\", \"power\", \"books\", \"great\", \"years\", \"collection\", \"journey\", \"secret\", \"york\", \"dark\", \"find\", \"ancient\", \"human\", \"may\", \"home\", \"life\", \"young\", \"magic\", \"death\", \"long\", \"must\", \"helen\", \"roux\", \"deverry\", \"weary\", \"ringworld\", \"saxon\", \"concerned\", \"tempus\", \"uther\", \"clumsy\", \"ned\", \"comprehensive\", \"greg\", \"nova\", \"straub\", \"prosperous\", \"odysseus\", \"constructs\", \"suppose\", \"recipes\", \"catherine\", \"cookery\", \"negi\", \"represented\", \"plaguing\", \"oedipus\", \"enigma\", \"desired\", \"daydreaming\", \"astray\", \"signed\", \"thor\", \"factory\", \"photos\", \"kitty\", \"parker\", \"nationally\", \"pigs\", \"june\", \"drizzt\", \"swamp\", \"expand\", \"norse\", \"arthurian\", \"arthur\", \"age-old\", \"jon\", \"whisks\", \"ruby\", \"britain\", \"crystal\", \"doctor\", \"cliff\", \"warriors\", \"chloe\", \"cats\", \"forest\", \"tribe\", \"gabriel\", \"clans\", \"time\", \"three\", \"love\", \"life\", \"warrior\", \"must\", \"world\", \"back\", \"one\", \"new\", \"history\", \"years\", \"find\", \"day\", \"jack\", \"family\", \"many\", \"old\", \"friends\", \"face\", \"save\", \"like\", \"ancient\", \"two\", \"young\", \"first\", \"tale\", \"man\", \"rin\", \"karna\", \"riverworld\", \"ran\", \"conjure\", \"neptune\", \"button\", \"finger\", \"watery\", \"polar\", \"alvin\", \"lint\", \"sookie\", \"required\", \"ragtag\", \"stock\", \"renegades\", \"dolphins\", \"qualities\", \"jazz\", \"clearer\", \"gem\", \"obsidian\", \"margo\", \"knocked\", \"burton\", \"lang\", \"blame\", \"folktales\", \"imaginable\", \"levine\", \"spook\", \"tom\", \"deck\", \"jake\", \"patrol\", \"seventh\", \"bree\", \"eva\", \"emma\", \"emily\", \"alcoholic\", \"note\", \"date\", \"notebook\", \"format\", \"world\", \"details\", \"dad\", \"publication\", \"life\", \"one\", \"new\", \"mysterious\", \"way\", \"death\", \"parents\", \"set\", \"ever\", \"father\", \"michael\", \"together\", \"people\", \"find\", \"like\", \"time\", \"land\", \"must\", \"two\", \"love\", \"first\", \"secret\", \"never\", \"magic\", \"could\", \"young\", \"even\", \"family\", \"friend\", \"strange\", \"prospero\", \"baum\", \"ciel\", \"mickey\", \"nathan\", \"ian\", \"donald\", \"phantomhive\", \"collectible\", \"infinity\", \"bloodline\", \"welcomes\", \"vortex\", \"suitors\", \"planetary\", \"merge\", \"conventional\", \"jade\", \"gage\", \"nestled\", \"severed\", \"scribe\", \"shea\", \"retells\", \"software\", \"archipelago\", \"improved\", \"delia\", \"auction\", \"suit\", \"frannie\", \"bea\", \"trumpet\", \"illustrator\", \"beowulf\", \"earl\", \"elspeth\", \"audrey\", \"andersen\", \"fables\", \"rapunzel\", \"tales\", \"charlie\", \"house\", \"cinderella\", \"jun\", \"richard\", \"new\", \"world\", \"two\", \"time\", \"king\", \"man\", \"first\", \"set\", \"brothers\", \"fairy\", \"collection\", \"dark\", \"one\", \"tale\", \"land\", \"night\", \"great\", \"young\", \"life\", \"magic\", \"old\", \"must\", \"could\", \"find\", \"people\", \"love\", \"last\", \"ninja\", \"goblin\", \"kyrin\", \"persecuted\", \"astrid\", \"hauntings\", \"shiva\", \"imperium\", \"jace\", \"extraterrestrial\", \"sang\", \"laurie\", \"world.but\", \"jameson\", \"darke\", \"fief\", \"naruto\", \"chest\", \"aladdin\", \"sati\", \"contending\", \"septimus\", \"meluha\", \"hermes\", \"closes\", \"gatekeeper\", \"mutants\", \"angie\", \"bickering\", \"faolan\", \"ophelia\", \"karl\", \"jenna\", \"ga'hoole\", \"kong\", \"owl\", \"methods\", \"soren\", \"heap\", \"inn\", \"cards\", \"ancestral\", \"betrothed\", \"ichigo\", \"succeeded\", \"morganville\", \"claire\", \"world\", \"new\", \"must\", \"king\", \"find\", \"set\", \"one\", \"dead\", \"become\", \"magic\", \"dark\", \"evil\", \"young\", \"family\", \"even\", \"old\", \"time\", \"first\", \"town\", \"way\", \"love\", \"secret\", \"ever\", \"years\", \"land\", \"back\", \"home\", \"tony\", \"hatter\", \"fog\", \"rhymes\", \"clio\", \"cathedral\", \"assured\", \"willa\", \"shadowhunter\", \"serena\", \"humphrey\", \"dialogue\", \"madigan\", \"great-aunt\", \"dons\", \"devoured\", \"imogen\", \"bath\", \"chases\", \"tore\", \"ecological\", \"voodoo\", \"recovery\", \"joss\", \"heartland\", \"tansy\", \"evvy\", \"clare\", \"l.a.\", \"wistful\", \"cheshire\", \"teenaged\", \"disney\", \"ivy\", \"darth\", \"bane\", \"instruments\", \"sections\", \"cassandra\", \"simon\", \"conference\", \"undoing\", \"julia\", \"sarah\", \"magnus\", \"sitting\", \"one\", \"jedi\", \"land\", \"find\", \"may\", \"fantasy\", \"dark\", \"new\", \"magical\", \"master\", \"magic\", \"king\", \"two\", \"young\", \"mysterious\", \"never\", \"war\", \"power\", \"world\", \"life\", \"must\", \"evil\", \"people\", \"kingdom\", \"become\"], \"Freq\": [3232.0, 4059.0, 3788.0, 970.0, 483.0, 2104.0, 1744.0, 2112.0, 593.0, 1251.0, 773.0, 232.0, 1631.0, 763.0, 1309.0, 550.0, 883.0, 1062.0, 2522.0, 1554.0, 1373.0, 423.0, 1078.0, 704.0, 817.0, 968.0, 738.0, 1128.0, 1170.0, 1209.0, 37.26168249232701, 37.492366724639446, 42.84458931540554, 30.180202973840004, 27.153971426265386, 25.4161931561119, 24.89609585102241, 50.36554787381644, 32.97889504754856, 24.009230133117654, 18.629101146489845, 18.405011377343747, 18.232186888616205, 20.881882213049696, 18.7620215094042, 16.28545752588605, 13.97934516790409, 35.27094747640391, 17.402048801255646, 12.205859595027663, 25.610356260333756, 12.99437537491478, 15.541466760814085, 68.96848653594665, 13.514214428628826, 12.170702148554287, 14.209968410961807, 17.936087868790736, 19.45014421124064, 13.422630486056423, 47.18747023522292, 26.65019255864127, 23.507178023767732, 21.170588191654865, 17.341408328838476, 29.322274751384537, 31.440067538112263, 29.337243801589285, 50.09450400219464, 333.848837441585, 26.375009041355515, 32.15818170595608, 27.809297156377447, 63.6014092498284, 61.32350632806754, 44.485082100627636, 185.49819308368242, 55.227203394261615, 506.15372821356306, 104.9590919707044, 101.39431577440244, 223.16736765774817, 612.2235564911841, 163.8884955994604, 362.8921644951192, 734.8723988249608, 188.40437681291652, 462.5944706232052, 1127.2332904252694, 196.0201202968154, 422.6261078774822, 401.6484572872122, 998.4522224866581, 873.6846744332472, 165.82193121057634, 434.65065785371974, 363.73982365181155, 339.9603571944429, 522.7145674718126, 663.3559108290796, 346.06208817191873, 265.61357134951, 426.0319613233038, 264.2442710972181, 353.327829570307, 324.51485893184116, 392.6303726222782, 237.73684676021384, 318.6600734467169, 335.6271621306404, 307.8707998355294, 304.10233477578436, 329.3454823571204, 269.0336352916808, 298.8584481605388, 288.21091357731495, 325.4295147848408, 282.73816478374164, 52.1013772168403, 31.62410929462144, 28.382706225765162, 43.973466403083286, 23.402637448796373, 20.142963207145396, 20.03878441389576, 27.906411476245175, 26.483335812917552, 16.61666073604939, 19.007146106337437, 27.90904782245879, 15.812384190587421, 17.03784630218936, 14.155734720405432, 31.92678401481896, 25.943476169118632, 14.300793819106469, 17.68681864885732, 23.307650449091746, 12.310982255866492, 11.617520026921953, 12.189401575708597, 20.40786364427052, 20.30641359254572, 14.340762490820449, 15.920069385898039, 10.771434603130777, 10.083121102904238, 17.012124987466237, 79.24197631568639, 33.27214290203172, 27.20802611713421, 57.41523483506155, 23.140627444990727, 37.212501101084854, 19.792757259010145, 24.417259619870798, 28.52833047578652, 88.656190013565, 31.04949361458347, 107.24099561237215, 85.19649070256536, 441.8810440687088, 329.190622277799, 58.21855662897419, 46.66246562472003, 332.19130168263393, 78.8646646630815, 244.31153410804038, 144.15310723729044, 138.1173896912197, 64.05774934806983, 427.061821698242, 98.76015934848617, 337.7499267996645, 150.64271982959656, 292.6134867738824, 255.0473272198662, 871.023361788236, 646.6498488475133, 239.4936976382856, 477.6553751924556, 197.8739833095911, 100.41489777564766, 393.460899320748, 334.4757572736042, 249.88309456864235, 493.8722552761321, 237.64576677504053, 697.082117086453, 300.20116220290816, 293.86747593782496, 242.8537332069108, 260.0984433714013, 221.6201819437238, 213.5796216571987, 188.49799047212247, 238.51581030303228, 355.85815122348686, 260.0670536043345, 217.27508916369428, 221.84641494310137, 370.75712922660284, 276.9661806660947, 232.7138775331099, 244.60254238027392, 261.81485258896157, 244.49181583930215, 32.444548374442626, 26.346793471250027, 123.02570505177933, 25.203968152816326, 19.094152755051415, 19.683857535233525, 18.500687414753582, 16.4205792030041, 19.59417151424882, 18.991086705678644, 14.6469343888509, 15.974184028391727, 19.11030091171401, 102.72918329300629, 13.764313128223106, 12.692070630422942, 19.97182298239076, 13.269183097176137, 217.675905709052, 13.129678555392129, 12.63925478744856, 13.653080655403771, 10.70085404914851, 10.551045795165775, 22.654582091927832, 14.237226927201815, 24.286496068204848, 11.053179591280339, 10.963165355729323, 12.762250692842903, 15.637964364435987, 19.696167250357885, 45.26805169350178, 17.827333536423428, 16.923293772012276, 19.445197704078748, 24.318536485427494, 30.947551724163493, 21.21588747454338, 31.277646570534305, 19.56190190312563, 18.29093271726935, 313.5566239413267, 20.19436580945194, 35.933277848568295, 20.813723384960742, 238.69182039277902, 31.83046225864634, 34.86986265371432, 335.36388508367753, 123.96240939738499, 838.3636247085329, 118.24179194494573, 312.5593501008394, 313.6806645703745, 438.8246286050181, 39.371942919117856, 91.93961562806277, 256.7128160996116, 165.1692653331568, 142.62132071011993, 476.9913320336988, 181.9490892863873, 393.60512596512865, 498.977925164716, 229.70054812480643, 123.82181340309403, 196.53598599921318, 199.31082542718144, 288.59234365444235, 168.74064924840582, 209.14515741832773, 234.57172402779275, 120.43421184351226, 213.56317915181916, 146.10873510079685, 194.6575216910889, 155.2655610212012, 173.87987965658758, 180.11658836864783, 169.01546831144253, 169.91602677626727, 158.90215171374672, 150.31214233603907, 156.01078387622815, 46.938273898609616, 30.795085878687892, 21.71308400369164, 18.383830963805828, 16.926731394288137, 25.989173301131263, 19.406436433194234, 13.38724377192652, 19.435991969397623, 12.852166915688604, 22.017100181201137, 12.704231824151186, 14.657289169092495, 26.984897502180463, 15.333138082694187, 11.70813719508369, 12.28508952722816, 10.615294124868301, 10.623906362420678, 10.08337146748363, 22.06712763998607, 12.313203559480446, 9.735921107718077, 10.620741897663924, 12.429665101842147, 10.345978412204289, 9.554469552206584, 10.911906019471688, 24.133934617778696, 8.949956691107374, 75.79872288521979, 63.568739872537805, 22.102130948985078, 55.68112796330349, 43.14589515370697, 17.51963694048612, 23.790805347898612, 17.104420496163456, 20.643116788462898, 18.22751718402087, 17.715784136871235, 19.204293949159666, 24.917977599449234, 30.95983652017361, 27.15757513215931, 77.69287789779234, 67.14733802079412, 111.21772569306682, 25.25126871179953, 23.633134757866504, 49.9465326675654, 48.08185790790383, 85.30120590205507, 168.2471534695121, 42.83103989307553, 41.87104103623883, 176.6549831951465, 77.7050327275474, 150.0023570589011, 137.6245245038776, 126.53150399272631, 43.67119801431203, 158.14041252818143, 336.35611418991715, 52.511646601701365, 114.51925394954175, 93.00281674953933, 53.698367937541825, 464.2253612250098, 99.24326786266798, 145.77773244673773, 184.70900882223506, 95.63690386738672, 202.46536723174304, 107.17250116669699, 134.57864462052794, 344.1090340231411, 151.85410704604442, 137.38883304717453, 320.9319911154036, 229.96327417507615, 164.69424745577183, 173.59749599689562, 179.26940768580567, 148.30273407389487, 115.65555943324784, 104.16016341208015, 96.63169044924874, 109.54499937525505, 105.76544274383556, 101.46116840831105, 103.42029290222638, 19.07099963734585, 18.554047611223123, 34.39851170089182, 28.99963267924488, 15.023539355692, 14.727653248948696, 19.864594254199872, 33.58539747263616, 13.911921104167291, 12.783955011771189, 11.73252805002319, 12.587429980789103, 11.14611641148098, 25.07293419249888, 12.11267397897274, 10.488780690696592, 10.751819762200386, 10.550278443898316, 12.14080078098476, 85.89506534355239, 12.712320732352076, 18.65308768451327, 22.081147918240106, 9.446005826640421, 17.23505677370939, 34.55853392755969, 12.789709771097165, 8.913014487928086, 26.510378268289116, 11.359225461318358, 53.39959267565229, 35.428919653685476, 23.24561182527471, 14.74173577704495, 45.3308180130973, 18.72957775001683, 41.77362164538565, 21.49648931909951, 52.61196903740528, 37.072156251487954, 41.33679216868785, 28.09344769308085, 32.79481994636518, 42.35597667757062, 29.75626045194308, 45.510805595530776, 54.26471595712277, 29.505592449764897, 44.09417013070218, 83.09678202001695, 420.43513204872977, 417.99436896960896, 104.22984830832962, 241.0013637023396, 203.2443012768976, 272.8896227736368, 93.914864675728, 148.5663969266202, 55.878520121100834, 67.89249498795736, 134.29627032923995, 134.95120851084272, 157.19403855453893, 111.07466549706095, 94.4517803943911, 288.6618147370073, 138.93943635207, 150.99704759628963, 100.94227738406711, 123.2466933319027, 142.35543487636562, 87.53911026882089, 108.0572755334773, 124.48329464399113, 97.80332561423579, 133.14533176984662, 145.0500992675287, 113.2640686723043, 113.65207916179514, 111.83953621404225, 106.4466481297052, 126.78913689174689, 114.00191530560686, 113.31585485333713, 103.90520670043406, 99.47451437540022, 105.58423257892335, 45.48944279774428, 18.30546977123596, 17.099590436825082, 20.49814021587495, 12.41587360284191, 10.505459050630906, 16.071978232818243, 11.041787567043954, 10.53199478821693, 10.805406229539715, 9.200998479497763, 32.66952834607134, 10.243624434309147, 9.044137328881437, 8.45150486268093, 8.767561960717673, 17.813823674539055, 8.318550791517861, 8.882650097592007, 9.20810300926747, 7.244472137456698, 8.667048868891486, 7.257263748234272, 8.275922420764413, 7.069704519954579, 7.811049296559847, 10.299027725947262, 6.91093178053286, 7.307109901602148, 7.339322587046774, 10.804441792156764, 21.103151218003596, 9.960723596733846, 21.79560056906905, 22.312679678284944, 16.764995040242518, 14.425225840202254, 12.942116655398642, 18.264261233514766, 24.295937268086078, 31.915412224987026, 12.551221481501845, 31.781032360115667, 16.944075206858138, 100.72375165445224, 24.68232497876293, 18.448132591529742, 15.491915044179093, 34.23105618483104, 49.9913458990808, 26.429291833335604, 83.01056803413898, 17.265991053372645, 91.13807856257095, 35.26669741946108, 46.98025079171859, 90.35081154563363, 46.128842132071426, 27.80570968559963, 36.172491287279065, 260.2116243759658, 125.01140835138632, 153.4785480299496, 209.7107551206149, 71.30272737379632, 179.17622410210916, 238.0096606786813, 121.75820488898255, 207.76381712204858, 189.93939298124351, 84.77429869400096, 115.31940633606855, 134.49359457016607, 79.41278981132982, 63.47192976145492, 96.72967907739104, 79.16051492723781, 90.13833490331224, 84.65064089318678, 74.13046254914761, 85.46276154493219, 86.89210304760253, 82.98204262289147, 87.03233629634322, 85.90656964001843, 88.56730097840712, 73.89211657282124, 76.710109619256, 40.034075801535934, 27.481835215622255, 18.858716234922344, 15.84050831839835, 13.96542293908914, 22.166014504087446, 28.039894153450227, 14.853468082862756, 12.390179615629972, 15.160996055463444, 11.287837428462415, 11.430355247609441, 10.403815098136217, 15.278941381641252, 12.244555308876844, 10.065392754282929, 10.49197378430057, 13.88097905768605, 9.60049544370732, 9.965586939657744, 8.839214574814807, 9.428904904680111, 11.936815030288912, 8.767589904926483, 8.872921175375126, 22.58807660666675, 7.598304779900191, 16.040378454938885, 10.351793531075272, 8.843816004579793, 13.742866862782094, 44.3332698431677, 85.19519379086087, 18.3509672158851, 26.861235114070045, 14.939642313063436, 46.59245635451835, 18.83164447147116, 15.85267356147054, 53.4680022518851, 53.34435876501339, 15.230510315836082, 46.86024350638759, 37.33910100051359, 15.690923899966057, 27.837840455331037, 349.9965358572407, 33.66509858991982, 30.145760541017903, 32.417947218986434, 225.22480436788237, 277.79935262345873, 237.61374094845752, 120.20216742301767, 124.03539712398249, 116.02226074541055, 66.33630155097501, 94.5334627395151, 103.46727228200393, 91.44857974268623, 42.76007147737841, 75.29423697383812, 93.19254252420522, 110.08041237926102, 90.11293087603372, 116.90658008411268, 78.64463225838277, 110.05014832578402, 89.9728749263139, 84.41789427022613, 94.49752252596464, 81.12892471794943, 80.71289298543267, 90.92719143900733, 82.05889094394009, 84.9623216236296, 77.3873672022332, 73.27897134130362, 65.83054688818063, 65.92967288363423, 17.96575336134885, 22.871495879339893, 13.275136210060323, 16.756010858024865, 34.78072652942368, 16.31344014202233, 12.224978631749305, 11.319209657914321, 10.737763231229382, 11.172777146755445, 10.352395725262891, 10.65090033845861, 7.576943218714439, 7.469411424321759, 7.177678299096296, 8.522316549321188, 7.446213816429838, 11.476474246242258, 7.7970820204566325, 6.166030875465051, 5.663019891275854, 8.852878142562274, 20.008996193352544, 10.390776565149972, 8.906400854652523, 8.416808243486187, 5.1325271577025, 7.963983963860839, 5.57468218161841, 5.893246817472886, 8.763155141643868, 12.336645881799713, 11.639961650869441, 19.527404869541197, 17.13462781768793, 22.008898151679904, 18.623018045717153, 11.081423313532465, 11.543868718442289, 18.612321042299165, 10.977210249791048, 83.63677873524044, 22.36220501280933, 73.28469294664667, 15.781787763648133, 11.020773105135808, 25.113473035416384, 99.87061646038279, 106.59990278363881, 60.66163417008026, 60.69873442704054, 44.58602749119016, 46.64030867578121, 51.12568283294544, 40.175436026284444, 25.496822811783574, 30.996041696971428, 30.243461016015456, 42.77852290855211, 56.57616208274756, 35.95228085619544, 35.672872948984185, 32.05475394618348, 32.78222975694077, 33.36560386405764, 36.4551991735089, 32.7872620394806, 30.70591375050867, 32.85608682752529, 28.781977688615843, 29.475680873272527, 27.460466368157316, 26.859807009236988, 26.45189475184208, 12.749473914692382, 28.944184823112682, 12.99490113628604, 7.198760694842523, 7.907762420085359, 9.974900189078127, 31.364134092211042, 6.861572938746575, 19.4790397196516, 7.3115712987274115, 5.428636025375327, 8.452624812599304, 6.233454747418223, 4.595782887632493, 6.9965035293095195, 4.48970280141002, 4.238951081054974, 4.92195381601823, 4.060316951531642, 5.889628338972471, 4.044030227735813, 17.78106473853498, 6.769793219520369, 6.26559063572974, 5.324365944067166, 3.675844753968514, 5.857102484253609, 6.025686032065627, 3.8937131196532166, 3.5449765286953174, 39.300939970687054, 17.71985661474693, 9.049582585039996, 9.07724548118251, 8.739249753059994, 13.542635334395788, 9.55355052489962, 15.828160194493057, 10.118435128318529, 8.54876536714699, 19.64926577498064, 12.896217867945154, 8.100812393885468, 11.921096720614539, 8.1611756519471, 9.853860814380187, 11.751697822035984, 63.39878904285435, 58.476980588013504, 47.98982834771293, 32.34013183384993, 36.3878931214509, 28.262454182920024, 44.65716141094693, 27.921996169269963, 25.944361040349072, 30.524462998737164, 28.49261479151852, 27.703759604460824, 27.47117581765662, 24.20550931555406, 24.758377640934, 22.410754781008468, 25.68238920799768, 23.914930108344162, 19.523028815848775, 21.462762309046635, 21.29281221859242, 21.11466287228503, 20.886642098277445, 20.732393966476543, 19.635535415646952, 19.65735582548228, 19.554608347166656, 22.112039593384466, 28.069441019468062, 10.323822345386251, 9.997345990262417, 9.805788260395833, 7.9848541663536015, 7.81262337619555, 9.599965910217124, 17.10698073490554, 15.309327495506007, 8.60894983898524, 6.900500263884453, 6.441539412384715, 5.60138009575454, 5.962186826070093, 6.715603863130301, 4.79064364813309, 6.549766204545949, 4.789592299244804, 4.721937471337266, 7.523468634666294, 5.6954716420261295, 7.029555611242085, 8.747155156031514, 4.260332075814005, 4.303676141457206, 4.064459927004551, 17.540309460657426, 8.690750088298797, 4.449853612171754, 6.189693201643271, 6.243825495111441, 26.03303527843352, 18.048708785286205, 12.516707904053415, 24.034172831886007, 10.747607163601273, 10.396483527350139, 17.31970135836369, 34.24355477871908, 8.31953925590142, 9.510479511927683, 10.128735164982844, 24.729461504833186, 15.190465835088023, 8.328462456939427, 71.53046695516996, 12.770398063726475, 33.48920886237838, 39.082803597872385, 31.127038325543637, 30.451465442395026, 32.531277028993614, 40.49111250787224, 27.94225578665558, 22.313189201079396, 30.68386260723144, 27.03187850222534, 27.933391458248025, 28.267154209918736, 25.417788670934875, 25.385968377586014, 25.302587289121387, 24.367394827543666, 28.78606775025297, 26.344432245112657, 25.565746493603694, 23.90516036706167, 22.065472069518282, 20.064847804992752, 20.450703385921106], \"Total\": [3232.0, 4059.0, 3788.0, 970.0, 483.0, 2104.0, 1744.0, 2112.0, 593.0, 1251.0, 773.0, 232.0, 1631.0, 763.0, 1309.0, 550.0, 883.0, 1062.0, 2522.0, 1554.0, 1373.0, 423.0, 1078.0, 704.0, 817.0, 968.0, 738.0, 1128.0, 1170.0, 1209.0, 38.108013317739854, 38.409101761121356, 44.04635545793254, 31.037582999872253, 28.019658284197362, 26.231395964839432, 25.812367424535605, 52.4950692906798, 34.38745793771332, 25.053696889706348, 19.444066934934163, 19.220344233966312, 19.047043309811922, 21.936611456130837, 19.750444645514126, 17.229307365569642, 14.827764915610802, 37.464912758676476, 18.502611222578555, 13.020865105407037, 27.32232826706658, 13.868978460171645, 16.60165151848028, 73.69174514232763, 14.439912469374873, 13.013605733394654, 15.22754971193208, 19.226212100420266, 20.887687514584954, 14.429455299799194, 51.04941499404772, 28.68048676908003, 25.277820349036475, 22.762392774587475, 18.646094270902775, 32.05554930834081, 34.84397858304025, 32.477174288056695, 58.223978678215055, 461.606157026351, 29.24654622370877, 36.44401603285781, 31.04794602402346, 78.9392844740217, 75.80678503189287, 53.088923374598885, 279.169762389914, 69.25479899328852, 970.5661714397282, 150.48482181229332, 154.1438928575542, 423.48345900287484, 1554.3454259697032, 292.1156504870308, 817.4350338538726, 2112.7032800784455, 363.81250969524547, 1209.1908195424865, 4059.0637941853342, 406.35022301255077, 1150.1743003383606, 1078.4525530803865, 3788.883872626732, 3232.485472453259, 325.1505836641138, 1309.4381765533115, 1018.4275450564479, 930.952049755776, 1744.9546245865422, 2522.910594543146, 977.4862703425774, 672.1740005087328, 1373.920968663691, 668.6800839240434, 1093.2662377318181, 959.578954825872, 1396.8617160390281, 603.3467702477951, 1016.1932860941787, 1130.460428281644, 968.2645492140674, 969.8853744869981, 1211.9072772748718, 803.0905479908507, 1125.7698293940177, 1052.9280766686368, 2104.8070377559097, 1631.0129510121199, 53.02005791210019, 32.45982016526531, 29.247032323143696, 45.404335054077045, 24.312620860727456, 20.964232466642212, 20.895012949222192, 29.172754759477062, 27.77613327141516, 17.43156562695351, 19.985509113390247, 29.38251443911148, 16.6738690904907, 18.02245275478933, 15.01476086393516, 33.90962078574694, 27.59577743926066, 15.217193145758964, 18.8520523053161, 24.901577428302502, 13.173552946633535, 12.432475482903419, 13.05058744008868, 21.873689802841703, 21.852125139782654, 15.4336873157588, 17.19209207336145, 11.643103428595715, 10.9341700057024, 18.4599188000904, 86.75487558761499, 36.42187735808472, 29.688975019215885, 66.40985668282549, 25.5578835592026, 42.40359001969475, 21.694589420427633, 27.226855396828757, 32.31584542506462, 114.65321865138321, 35.812841735050064, 154.44537510677768, 121.03854194489736, 871.8529334743832, 626.7953957856241, 77.96744045023826, 60.68317940158118, 688.2578741813991, 117.6022429553879, 489.5379274719511, 251.37084068726227, 239.12318778165053, 91.13218923112164, 1047.2210773692912, 158.8183380147166, 834.2767859552284, 287.42475761309413, 726.196068225149, 646.0695110870906, 3788.883872626732, 2522.910594543146, 636.0750824230778, 1744.9546245865422, 489.90826555560864, 182.64080425730967, 1396.8617160390281, 1123.046490558449, 731.6388968845358, 2112.7032800784455, 689.4428703934917, 4059.0637941853342, 1029.2680204736232, 1018.4275450564479, 745.1828780663994, 849.0181431430819, 649.1142703101239, 622.5536694188473, 521.2616796264382, 854.3830381600021, 2104.8070377559097, 1062.9114079676276, 713.3980631910442, 754.2390822702707, 3232.485472453259, 1554.3454259697032, 881.162619927677, 1068.2599125810357, 1631.0129510121199, 1251.6554003818526, 33.28644239178641, 27.17151768564738, 127.04220150583963, 26.231227360032197, 19.924604432357665, 20.554539252175925, 19.343307828815487, 17.250026875229153, 20.61393419396044, 20.059608804135415, 15.471444134983551, 16.907682110173543, 20.248448443755034, 108.9164343336271, 14.656892951384462, 13.516661825826235, 21.30443930011033, 14.163182492367717, 232.8151253876515, 14.103331326996166, 13.58113762155195, 14.705921076478576, 11.527177388275236, 11.381530396655505, 24.438478678561527, 15.365588184964402, 26.229893150767936, 11.976094688254387, 11.892596263879968, 13.878325760568117, 17.02418263942069, 21.669514275831254, 51.18676960694928, 19.627362987206467, 18.658279849788666, 21.598888126895375, 27.69717597718257, 36.1032791857943, 23.860871378980736, 36.59896839307444, 21.936683304888145, 20.395715866474568, 550.763160779007, 23.001761074957937, 45.99111614825764, 23.9079329093783, 520.4782679974342, 41.28215715803853, 46.49209353397773, 974.0777804326167, 279.5818600050834, 4059.0637941853342, 270.333307001474, 1125.7698293940177, 1211.9072772748718, 2104.8070377559097, 59.29940884882936, 222.60295219278177, 1128.9912338871923, 592.3023173475316, 471.61935949012604, 3232.485472453259, 710.8774159258339, 2522.910594543146, 3788.883872626732, 1170.1544971653625, 419.03460180840835, 972.4344926659596, 1062.9114079676276, 2112.7032800784455, 800.9316484428601, 1209.1908195424865, 1631.0129510121199, 454.57762103011254, 1554.3454259697032, 688.1750164300754, 1373.920968663691, 800.0241884190016, 1130.460428281644, 1309.4381765533115, 1251.6554003818526, 1396.8617160390281, 1068.2599125810357, 754.2390822702707, 1150.1743003383606, 47.775658131314515, 31.98217390593333, 22.550785648574127, 19.285376943219717, 17.791159612808023, 27.412357261876366, 20.488358609139016, 14.277936396099596, 20.803240891361725, 13.768078999317273, 23.589218478738157, 13.661384934057946, 15.77538343633321, 29.050900241793084, 16.508997519102184, 12.606871008375476, 13.264266869777014, 11.509421927904148, 11.521401437588976, 10.935710183391246, 23.944609569299715, 13.370674953746228, 10.574666569066947, 11.540716856881554, 13.523318595714773, 11.26812482784952, 10.413565790557199, 11.937096465541728, 26.4322508156693, 9.813427869799682, 83.79438203077568, 70.17918632844615, 24.272589308764257, 62.18663594053164, 48.36560557617338, 19.268594494867305, 26.42317048423518, 18.890303639448, 23.132438136806336, 20.297118383247195, 19.820640479109937, 21.691547825750824, 28.987035521939582, 37.72455410905447, 32.78400115457809, 112.60915758108902, 101.74619111676951, 197.84128882378602, 31.099270099808564, 28.660639361353095, 75.85039872064637, 72.5241021071792, 155.39350004784018, 388.7621502039373, 63.2859793441382, 62.427850871569866, 483.3663725502679, 151.63213981396916, 412.7961647563626, 374.52643006774565, 332.7017705257725, 68.11410408738129, 501.5497200613044, 1631.0129510121199, 91.38509668382777, 314.8070590068105, 226.8737218099091, 95.60924678969155, 3232.485472453259, 258.247262190068, 488.15431325352273, 883.9212274027092, 280.6543660745862, 1170.1544971653625, 355.73067112711317, 568.3232908613069, 3788.883872626732, 738.2460651247712, 640.0032967589814, 4059.0637941853342, 2104.8070377559097, 1128.9912338871923, 1373.920968663691, 2522.910594543146, 1396.8617160390281, 597.3840340902328, 423.7409020583667, 364.0866524254844, 974.0777804326167, 1309.4381765533115, 780.4534066758146, 1744.9546245865422, 19.964231436510623, 19.483444992366845, 36.20860461593495, 30.61876915441849, 15.867253984314, 15.601331617822927, 21.06703120340957, 35.66575144799165, 14.802616127953854, 13.627638601404565, 12.576246041821772, 13.535397793757848, 11.989810269862378, 26.990608735989593, 13.089373037684325, 11.335162568642026, 11.620494032302439, 11.405054190500879, 13.135431825765508, 93.3997778407248, 13.825224465165949, 20.30785747106773, 24.065802887271705, 10.300290097191334, 18.80394855291106, 37.7154794098663, 13.973389892438117, 9.758783819639245, 29.031580694221635, 12.505545331941375, 60.6076725808994, 40.26155172489829, 26.09591367035156, 16.37647195094278, 56.89495357591734, 21.47836938961962, 53.133016444461454, 25.141985769286133, 72.63452344311561, 49.85250300158129, 57.011955473507484, 37.84322532310231, 46.33631718832086, 64.87199153595982, 43.0635702088326, 79.80242981621934, 106.35275902907313, 43.56487703068107, 80.83250488186987, 227.94644617221826, 3232.485472453259, 3788.883872626732, 364.0866524254844, 1631.0129510121199, 1251.6554003818526, 2104.8070377559097, 323.7913071526574, 754.8705706316928, 132.50020533606946, 194.18485271764547, 738.2460651247712, 763.5642292826865, 1068.2599125810357, 529.9858185023044, 388.7621502039373, 4059.0637941853342, 883.9212274027092, 1211.9072772748718, 488.15431325352273, 778.1418461120155, 1170.1544971653625, 374.52643006774565, 692.3345422869995, 1016.1932860941787, 554.4447935234931, 1309.4381765533115, 1744.9546245865422, 959.578954825872, 974.0777804326167, 930.952049755776, 803.0905479908507, 2522.910594543146, 1373.920968663691, 1554.3454259697032, 972.4344926659596, 703.3513817962378, 2112.7032800784455, 46.33842819697142, 19.299122496631135, 18.075775339876035, 21.691872484359134, 13.272508934214914, 11.413699185332742, 17.463754486279637, 12.003120029364709, 11.484249120486552, 11.786911990440245, 10.061332902120782, 35.98974343516038, 11.301593829937978, 9.99674407011626, 9.343968927879299, 9.71110032895599, 19.79772115720286, 9.258666005559435, 9.892088734866066, 10.28561074863048, 8.09324790678525, 9.684723547430758, 8.13997040058219, 9.284213914503813, 7.938734665899973, 8.774203351237997, 11.581481565938669, 7.792266445951843, 8.246130971186442, 8.284345602979013, 12.232355426672433, 24.13634027040059, 11.308622624844269, 25.98225433036296, 26.805496916096203, 19.832755471970994, 16.93214330253342, 15.142470406900813, 22.3000149780721, 30.729700974906237, 42.33649038255124, 14.688160368224384, 43.26249244219733, 20.86761362832702, 173.38413871039876, 33.34103036187668, 23.955583023947625, 19.39654645496661, 54.00373028660196, 88.87558096769686, 40.62834339273523, 201.42178614006752, 22.852827428191866, 241.54078260668214, 63.03274824783343, 100.5254814119953, 267.96112402161447, 98.49178299953122, 49.25224670329624, 76.78771269889502, 2104.8070377559097, 731.2576817018743, 1062.9114079676276, 2522.910594543146, 317.0212091240591, 2112.7032800784455, 4059.0637941853342, 1123.046490558449, 3788.883872626732, 3232.485472453259, 568.3232908613069, 1170.1544971653625, 1744.9546245865422, 621.7075518050724, 358.57034929952755, 1078.4525530803865, 640.0032967589814, 969.8853744869981, 881.162619927677, 607.9462909846142, 977.4862703425774, 1047.2210773692912, 959.578954825872, 1251.6554003818526, 1373.920968663691, 1631.0129510121199, 738.2460651247712, 1128.9912338871923, 40.93775131371656, 28.70612935016976, 19.727020327226683, 16.78989606858877, 14.839228537223741, 23.590986471986174, 29.878242561269158, 15.84580636062973, 13.274569359050089, 16.338325131279433, 12.177186872328734, 12.363579059459902, 11.256969892844184, 16.536737254219123, 13.281547289957848, 10.918417358585618, 11.40969374943492, 15.115288867527175, 10.48370538806331, 10.920951241050462, 9.72249591647241, 10.420188789188623, 13.219110473650495, 9.709507576115422, 9.838421430800341, 25.098332947733564, 8.451439593903524, 17.89686421829986, 11.55346894704569, 9.943056228065279, 15.613465809216631, 52.724482358156195, 121.15683196883847, 22.347999094820434, 34.974208601248684, 17.93942759827653, 70.41939020699034, 23.647261440273137, 20.201987045989192, 110.63469471982454, 113.02491793729067, 19.478338862051523, 104.09498301244726, 75.3460502925665, 20.509196090409606, 53.05408754646768, 4059.0637941853342, 75.7634443654736, 63.70730038126725, 73.3282863160971, 2522.910594543146, 3788.883872626732, 3232.485472453259, 968.2645492140674, 1093.2662377318181, 972.4344926659596, 318.6100230306043, 763.5642292826865, 1052.9280766686368, 863.6585119449944, 161.24012176165456, 625.4965460954357, 1130.460428281644, 1744.9546245865422, 1047.2210773692912, 2104.8070377559097, 773.6106011954058, 2112.7032800784455, 1251.6554003818526, 1062.9114079676276, 1631.0129510121199, 1016.1932860941787, 1029.2680204736232, 1554.3454259697032, 1150.1743003383606, 1373.920968663691, 1396.8617160390281, 1078.4525530803865, 713.3980631910442, 767.0701775199296, 18.837593555257552, 24.199343326973047, 14.149881997667558, 17.92374669745773, 37.2192167271568, 17.52418765080212, 13.136989006746532, 12.190606849967386, 11.608897762326102, 12.092570776963804, 11.2318667415075, 11.625197031306454, 8.448926798729163, 8.367360358771062, 8.048923738768021, 9.599200571367478, 8.415775145347354, 13.025262113649022, 8.898854801790643, 7.083330199968516, 6.5340305037590465, 10.235232955744854, 23.14158137243036, 12.017972458042754, 10.398616378355046, 9.828429440836889, 6.004904441499564, 9.333476133156953, 6.544891145337384, 6.9401483502360755, 10.352294481591503, 14.719721555389148, 13.875112774818522, 25.477242448461393, 22.761760334294415, 30.960668513308285, 26.344787854887613, 15.21041607643485, 16.562503500550736, 35.58203166028632, 15.422043024402429, 483.3663725502679, 58.38026362410267, 593.3300665829286, 31.687917083820142, 16.529884499064277, 103.81972295351535, 3232.485472453259, 4059.0637941853342, 1251.6554003818526, 2104.8070377559097, 970.5661714397282, 1128.9912338871923, 1631.0129510121199, 763.5642292826865, 176.6827224095068, 378.1765473000704, 374.52643006774565, 1309.4381765533115, 3788.883872626732, 738.2460651247712, 773.6106011954058, 649.1142703101239, 778.1418461120155, 1373.920968663691, 2522.910594543146, 1554.3454259697032, 969.8853744869981, 2112.7032800784455, 1150.1743003383606, 1744.9546245865422, 1130.460428281644, 1062.9114079676276, 800.9316484428601, 13.695391298347367, 31.47477447882882, 14.26535822118492, 8.076738018011964, 8.89377753294039, 11.239320384325323, 35.34444620114591, 7.739540372806336, 22.358119815237224, 8.441082308596332, 6.3066369531295585, 10.01888877026063, 7.410905505912014, 5.5661264713737815, 8.48056049851697, 5.4444746520031675, 5.140845343459486, 5.973203310714222, 4.938261942527288, 7.185798039133254, 4.936960789669599, 21.778054739150953, 8.348789495900697, 7.727215643716156, 6.675069090643278, 4.619722828811805, 7.38037789221188, 7.603064488639033, 4.916192453211055, 4.498032086814669, 49.89266956328283, 24.082115706174427, 11.98222661079099, 12.044958944319783, 11.655598325424812, 19.376368826010047, 13.187505797142322, 25.356128278028542, 15.359083087383677, 12.455308351295999, 47.48286842946374, 25.82871306085254, 12.258387893908939, 24.58865625895617, 12.738853854785932, 20.758870893289423, 32.573440270614554, 4059.0637941853342, 3232.485472453259, 2112.7032800784455, 970.5661714397282, 1744.9546245865422, 763.5642292826865, 3788.883872626732, 754.2390822702707, 704.8100997613269, 1554.3454259697032, 1309.4381765533115, 1209.1908195424865, 1373.920968663691, 1078.4525530803865, 1396.8617160390281, 969.8853744869981, 2104.8070377559097, 1631.0129510121199, 489.5379274719511, 1093.2662377318181, 1062.9114079676276, 1016.1932860941787, 1052.9280766686368, 1170.1544971653625, 773.6106011954058, 1123.046490558449, 803.0905479908507, 22.99202127588716, 29.287529473497585, 11.204766392356914, 10.877363502554406, 10.905465712114259, 8.953670977833148, 8.813113800492236, 10.838119943377256, 19.318158169845642, 17.353911535390203, 9.838425235378246, 7.896854839802695, 7.416916766728759, 6.481602527870048, 6.904125564914714, 8.008064434150779, 5.715113084854103, 7.835387202229288, 5.777998018827777, 5.711257784704106, 9.112242719063262, 6.916063600174063, 8.569979975225468, 10.665027657352159, 5.221255122403967, 5.289251460525335, 5.002739054160714, 21.599888515159712, 10.73172348346105, 5.5008606302388285, 7.658293147488914, 7.948316054831228, 38.12485832582266, 25.636372347493488, 17.89447789386486, 41.75120654261501, 15.75245745879936, 15.733712882256107, 32.18524496446517, 89.57904999467739, 11.829826587931217, 15.522050756967477, 17.401779657463774, 88.9567496277723, 45.7170805675798, 13.129776385760291, 3788.883872626732, 41.356712013844444, 773.6106011954058, 1744.9546245865422, 930.952049755776, 883.9212274027092, 1309.4381765533115, 3232.485472453259, 817.4350338538726, 385.38797993673296, 1554.3454259697032, 970.5661714397282, 1251.6554003818526, 1373.920968663691, 968.2645492140674, 1029.2680204736232, 1125.7698293940177, 1211.9072772748718, 4059.0637941853342, 2522.910594543146, 2112.7032800784455, 1209.1908195424865, 1130.460428281644, 423.48345900287484, 704.8100997613269], \"Category\": [\"Default\", \"Default\", \"Default\", \"Default\", \"Default\", \"Default\", \"Default\", \"Default\", \"Default\", \"Default\", \"Default\", \"Default\", \"Default\", \"Default\", \"Default\", \"Default\", \"Default\", \"Default\", \"Default\", \"Default\", \"Default\", \"Default\", \"Default\", \"Default\", \"Default\", \"Default\", \"Default\", \"Default\", \"Default\", \"Default\", \"Topic1\", \"Topic1\", \"Topic1\", \"Topic1\", \"Topic1\", \"Topic1\", \"Topic1\", \"Topic1\", \"Topic1\", \"Topic1\", \"Topic1\", \"Topic1\", \"Topic1\", \"Topic1\", \"Topic1\", \"Topic1\", \"Topic1\", \"Topic1\", \"Topic1\", \"Topic1\", \"Topic1\", \"Topic1\", \"Topic1\", \"Topic1\", \"Topic1\", \"Topic1\", \"Topic1\", \"Topic1\", \"Topic1\", \"Topic1\", \"Topic1\", \"Topic1\", \"Topic1\", \"Topic1\", \"Topic1\", \"Topic1\", \"Topic1\", \"Topic1\", \"Topic1\", \"Topic1\", \"Topic1\", \"Topic1\", \"Topic1\", \"Topic1\", \"Topic1\", \"Topic1\", \"Topic1\", \"Topic1\", \"Topic1\", \"Topic1\", \"Topic1\", \"Topic1\", \"Topic1\", \"Topic1\", \"Topic1\", \"Topic1\", \"Topic1\", \"Topic1\", \"Topic1\", \"Topic1\", \"Topic1\", \"Topic1\", \"Topic1\", \"Topic1\", \"Topic1\", \"Topic1\", \"Topic1\", \"Topic1\", \"Topic1\", \"Topic1\", \"Topic1\", \"Topic1\", \"Topic1\", \"Topic1\", \"Topic1\", \"Topic1\", \"Topic1\", \"Topic1\", \"Topic1\", \"Topic1\", \"Topic1\", \"Topic1\", \"Topic1\", \"Topic1\", \"Topic1\", \"Topic1\", \"Topic1\", \"Topic1\", \"Topic2\", \"Topic2\", \"Topic2\", \"Topic2\", \"Topic2\", \"Topic2\", \"Topic2\", \"Topic2\", \"Topic2\", \"Topic2\", \"Topic2\", \"Topic2\", \"Topic2\", \"Topic2\", \"Topic2\", \"Topic2\", \"Topic2\", \"Topic2\", \"Topic2\", \"Topic2\", \"Topic2\", \"Topic2\", \"Topic2\", \"Topic2\", \"Topic2\", \"Topic2\", \"Topic2\", \"Topic2\", \"Topic2\", \"Topic2\", \"Topic2\", \"Topic2\", \"Topic2\", \"Topic2\", \"Topic2\", \"Topic2\", \"Topic2\", \"Topic2\", \"Topic2\", \"Topic2\", \"Topic2\", \"Topic2\", \"Topic2\", \"Topic2\", \"Topic2\", \"Topic2\", \"Topic2\", \"Topic2\", \"Topic2\", \"Topic2\", \"Topic2\", \"Topic2\", \"Topic2\", \"Topic2\", \"Topic2\", \"Topic2\", \"Topic2\", \"Topic2\", \"Topic2\", \"Topic2\", \"Topic2\", \"Topic2\", \"Topic2\", \"Topic2\", \"Topic2\", \"Topic2\", \"Topic2\", \"Topic2\", \"Topic2\", \"Topic2\", \"Topic2\", \"Topic2\", \"Topic2\", \"Topic2\", \"Topic2\", \"Topic2\", \"Topic2\", \"Topic2\", \"Topic2\", \"Topic2\", \"Topic2\", \"Topic2\", \"Topic2\", \"Topic2\", \"Topic2\", \"Topic2\", \"Topic2\", \"Topic2\", \"Topic2\", \"Topic3\", \"Topic3\", \"Topic3\", \"Topic3\", \"Topic3\", \"Topic3\", \"Topic3\", \"Topic3\", \"Topic3\", \"Topic3\", \"Topic3\", \"Topic3\", \"Topic3\", \"Topic3\", \"Topic3\", \"Topic3\", \"Topic3\", \"Topic3\", \"Topic3\", \"Topic3\", \"Topic3\", \"Topic3\", \"Topic3\", \"Topic3\", \"Topic3\", \"Topic3\", \"Topic3\", \"Topic3\", \"Topic3\", \"Topic3\", \"Topic3\", \"Topic3\", \"Topic3\", \"Topic3\", \"Topic3\", \"Topic3\", \"Topic3\", \"Topic3\", \"Topic3\", \"Topic3\", \"Topic3\", \"Topic3\", \"Topic3\", \"Topic3\", \"Topic3\", \"Topic3\", \"Topic3\", \"Topic3\", \"Topic3\", \"Topic3\", \"Topic3\", \"Topic3\", \"Topic3\", \"Topic3\", \"Topic3\", \"Topic3\", \"Topic3\", \"Topic3\", \"Topic3\", \"Topic3\", \"Topic3\", \"Topic3\", \"Topic3\", \"Topic3\", \"Topic3\", \"Topic3\", \"Topic3\", \"Topic3\", \"Topic3\", \"Topic3\", \"Topic3\", \"Topic3\", \"Topic3\", \"Topic3\", \"Topic3\", \"Topic3\", \"Topic3\", \"Topic3\", \"Topic3\", \"Topic3\", \"Topic3\", \"Topic3\", \"Topic3\", \"Topic3\", \"Topic3\", \"Topic4\", \"Topic4\", \"Topic4\", \"Topic4\", \"Topic4\", \"Topic4\", \"Topic4\", \"Topic4\", \"Topic4\", \"Topic4\", \"Topic4\", \"Topic4\", \"Topic4\", \"Topic4\", \"Topic4\", \"Topic4\", \"Topic4\", \"Topic4\", \"Topic4\", \"Topic4\", \"Topic4\", \"Topic4\", \"Topic4\", \"Topic4\", \"Topic4\", \"Topic4\", \"Topic4\", \"Topic4\", \"Topic4\", \"Topic4\", \"Topic4\", \"Topic4\", \"Topic4\", \"Topic4\", \"Topic4\", \"Topic4\", \"Topic4\", \"Topic4\", \"Topic4\", \"Topic4\", \"Topic4\", \"Topic4\", \"Topic4\", \"Topic4\", \"Topic4\", \"Topic4\", \"Topic4\", \"Topic4\", \"Topic4\", \"Topic4\", \"Topic4\", \"Topic4\", \"Topic4\", \"Topic4\", \"Topic4\", \"Topic4\", \"Topic4\", \"Topic4\", \"Topic4\", \"Topic4\", \"Topic4\", \"Topic4\", \"Topic4\", \"Topic4\", \"Topic4\", \"Topic4\", \"Topic4\", \"Topic4\", \"Topic4\", \"Topic4\", \"Topic4\", \"Topic4\", \"Topic4\", \"Topic4\", \"Topic4\", \"Topic4\", \"Topic4\", \"Topic4\", \"Topic4\", \"Topic4\", \"Topic4\", \"Topic4\", \"Topic4\", \"Topic4\", \"Topic4\", \"Topic4\", \"Topic4\", \"Topic4\", \"Topic4\", \"Topic4\", \"Topic4\", \"Topic4\", \"Topic5\", \"Topic5\", \"Topic5\", \"Topic5\", \"Topic5\", \"Topic5\", \"Topic5\", \"Topic5\", \"Topic5\", \"Topic5\", \"Topic5\", \"Topic5\", \"Topic5\", \"Topic5\", \"Topic5\", \"Topic5\", \"Topic5\", \"Topic5\", \"Topic5\", \"Topic5\", \"Topic5\", \"Topic5\", \"Topic5\", \"Topic5\", \"Topic5\", \"Topic5\", \"Topic5\", \"Topic5\", \"Topic5\", \"Topic5\", \"Topic5\", \"Topic5\", \"Topic5\", \"Topic5\", \"Topic5\", \"Topic5\", \"Topic5\", \"Topic5\", \"Topic5\", \"Topic5\", \"Topic5\", \"Topic5\", \"Topic5\", \"Topic5\", \"Topic5\", \"Topic5\", \"Topic5\", \"Topic5\", \"Topic5\", \"Topic5\", \"Topic5\", \"Topic5\", \"Topic5\", \"Topic5\", \"Topic5\", \"Topic5\", \"Topic5\", \"Topic5\", \"Topic5\", \"Topic5\", \"Topic5\", \"Topic5\", \"Topic5\", \"Topic5\", \"Topic5\", \"Topic5\", \"Topic5\", \"Topic5\", \"Topic5\", \"Topic5\", \"Topic5\", \"Topic5\", \"Topic5\", \"Topic5\", \"Topic5\", \"Topic5\", \"Topic5\", \"Topic5\", \"Topic5\", \"Topic5\", \"Topic5\", \"Topic5\", \"Topic5\", \"Topic5\", \"Topic5\", \"Topic5\", \"Topic5\", \"Topic6\", \"Topic6\", \"Topic6\", \"Topic6\", \"Topic6\", \"Topic6\", \"Topic6\", \"Topic6\", \"Topic6\", \"Topic6\", \"Topic6\", \"Topic6\", \"Topic6\", \"Topic6\", \"Topic6\", \"Topic6\", \"Topic6\", \"Topic6\", \"Topic6\", \"Topic6\", \"Topic6\", \"Topic6\", \"Topic6\", \"Topic6\", \"Topic6\", \"Topic6\", \"Topic6\", \"Topic6\", \"Topic6\", \"Topic6\", \"Topic6\", \"Topic6\", \"Topic6\", \"Topic6\", \"Topic6\", \"Topic6\", \"Topic6\", \"Topic6\", \"Topic6\", \"Topic6\", \"Topic6\", \"Topic6\", \"Topic6\", \"Topic6\", \"Topic6\", \"Topic6\", \"Topic6\", \"Topic6\", \"Topic6\", \"Topic6\", \"Topic6\", \"Topic6\", \"Topic6\", \"Topic6\", \"Topic6\", \"Topic6\", \"Topic6\", \"Topic6\", \"Topic6\", \"Topic6\", \"Topic6\", \"Topic6\", \"Topic6\", \"Topic6\", \"Topic6\", \"Topic6\", \"Topic6\", \"Topic6\", \"Topic6\", \"Topic6\", \"Topic6\", \"Topic6\", \"Topic6\", \"Topic6\", \"Topic6\", \"Topic6\", \"Topic6\", \"Topic6\", \"Topic6\", \"Topic6\", \"Topic6\", \"Topic6\", \"Topic6\", \"Topic6\", \"Topic6\", \"Topic6\", \"Topic6\", \"Topic6\", \"Topic7\", \"Topic7\", \"Topic7\", \"Topic7\", \"Topic7\", \"Topic7\", \"Topic7\", \"Topic7\", \"Topic7\", \"Topic7\", \"Topic7\", \"Topic7\", \"Topic7\", \"Topic7\", \"Topic7\", \"Topic7\", \"Topic7\", \"Topic7\", \"Topic7\", \"Topic7\", \"Topic7\", \"Topic7\", \"Topic7\", \"Topic7\", \"Topic7\", \"Topic7\", \"Topic7\", \"Topic7\", \"Topic7\", \"Topic7\", \"Topic7\", \"Topic7\", \"Topic7\", \"Topic7\", \"Topic7\", \"Topic7\", \"Topic7\", \"Topic7\", \"Topic7\", \"Topic7\", \"Topic7\", \"Topic7\", \"Topic7\", \"Topic7\", \"Topic7\", \"Topic7\", \"Topic7\", \"Topic7\", \"Topic7\", \"Topic7\", \"Topic7\", \"Topic7\", \"Topic7\", \"Topic7\", \"Topic7\", \"Topic7\", \"Topic7\", \"Topic7\", \"Topic7\", \"Topic7\", \"Topic7\", \"Topic7\", \"Topic7\", \"Topic7\", \"Topic7\", \"Topic7\", \"Topic7\", \"Topic7\", \"Topic7\", \"Topic7\", \"Topic7\", \"Topic7\", \"Topic7\", \"Topic7\", \"Topic7\", \"Topic7\", \"Topic7\", \"Topic7\", \"Topic7\", \"Topic7\", \"Topic8\", \"Topic8\", \"Topic8\", \"Topic8\", \"Topic8\", \"Topic8\", \"Topic8\", \"Topic8\", \"Topic8\", \"Topic8\", \"Topic8\", \"Topic8\", \"Topic8\", \"Topic8\", \"Topic8\", \"Topic8\", \"Topic8\", \"Topic8\", \"Topic8\", \"Topic8\", \"Topic8\", \"Topic8\", \"Topic8\", \"Topic8\", \"Topic8\", \"Topic8\", \"Topic8\", \"Topic8\", \"Topic8\", \"Topic8\", \"Topic8\", \"Topic8\", \"Topic8\", \"Topic8\", \"Topic8\", \"Topic8\", \"Topic8\", \"Topic8\", \"Topic8\", \"Topic8\", \"Topic8\", \"Topic8\", \"Topic8\", \"Topic8\", \"Topic8\", \"Topic8\", \"Topic8\", \"Topic8\", \"Topic8\", \"Topic8\", \"Topic8\", \"Topic8\", \"Topic8\", \"Topic8\", \"Topic8\", \"Topic8\", \"Topic8\", \"Topic8\", \"Topic8\", \"Topic8\", \"Topic8\", \"Topic8\", \"Topic8\", \"Topic8\", \"Topic8\", \"Topic8\", \"Topic8\", \"Topic8\", \"Topic8\", \"Topic8\", \"Topic8\", \"Topic8\", \"Topic8\", \"Topic8\", \"Topic9\", \"Topic9\", \"Topic9\", \"Topic9\", \"Topic9\", \"Topic9\", \"Topic9\", \"Topic9\", \"Topic9\", \"Topic9\", \"Topic9\", \"Topic9\", \"Topic9\", \"Topic9\", \"Topic9\", \"Topic9\", \"Topic9\", \"Topic9\", \"Topic9\", \"Topic9\", \"Topic9\", \"Topic9\", \"Topic9\", \"Topic9\", \"Topic9\", \"Topic9\", \"Topic9\", \"Topic9\", \"Topic9\", \"Topic9\", \"Topic9\", \"Topic9\", \"Topic9\", \"Topic9\", \"Topic9\", \"Topic9\", \"Topic9\", \"Topic9\", \"Topic9\", \"Topic9\", \"Topic9\", \"Topic9\", \"Topic9\", \"Topic9\", \"Topic9\", \"Topic9\", \"Topic9\", \"Topic9\", \"Topic9\", \"Topic9\", \"Topic9\", \"Topic9\", \"Topic9\", \"Topic9\", \"Topic9\", \"Topic9\", \"Topic9\", \"Topic9\", \"Topic9\", \"Topic9\", \"Topic9\", \"Topic9\", \"Topic9\", \"Topic9\", \"Topic9\", \"Topic9\", \"Topic9\", \"Topic9\", \"Topic9\", \"Topic9\", \"Topic9\", \"Topic9\", \"Topic9\", \"Topic9\", \"Topic10\", \"Topic10\", \"Topic10\", \"Topic10\", \"Topic10\", \"Topic10\", \"Topic10\", \"Topic10\", \"Topic10\", \"Topic10\", \"Topic10\", \"Topic10\", \"Topic10\", \"Topic10\", \"Topic10\", \"Topic10\", \"Topic10\", \"Topic10\", \"Topic10\", \"Topic10\", \"Topic10\", \"Topic10\", \"Topic10\", \"Topic10\", \"Topic10\", \"Topic10\", \"Topic10\", \"Topic10\", \"Topic10\", \"Topic10\", \"Topic10\", \"Topic10\", \"Topic10\", \"Topic10\", \"Topic10\", \"Topic10\", \"Topic10\", \"Topic10\", \"Topic10\", \"Topic10\", \"Topic10\", \"Topic10\", \"Topic10\", \"Topic10\", \"Topic10\", \"Topic10\", \"Topic10\", \"Topic10\", \"Topic10\", \"Topic10\", \"Topic10\", \"Topic10\", \"Topic10\", \"Topic10\", \"Topic10\", \"Topic10\", \"Topic10\", \"Topic10\", \"Topic10\", \"Topic10\", \"Topic10\", \"Topic10\", \"Topic10\", \"Topic10\", \"Topic10\", \"Topic10\", \"Topic10\", \"Topic10\", \"Topic10\", \"Topic10\", \"Topic10\"], \"logprob\": [30.0, 29.0, 28.0, 27.0, 26.0, 25.0, 24.0, 23.0, 22.0, 21.0, 20.0, 19.0, 18.0, 17.0, 16.0, 15.0, 14.0, 13.0, 12.0, 11.0, 10.0, 9.0, 8.0, 7.0, 6.0, 5.0, 4.0, 3.0, 2.0, 1.0, -8.164799690246582, -8.158599853515625, -8.025199890136719, -8.37559986114502, -8.481200218200684, -8.54740047454834, -8.567999839782715, -7.863399982452393, -8.28689956665039, -8.604299545288086, -8.857999801635742, -8.870100021362305, -8.879599571228027, -8.743900299072266, -8.850899696350098, -8.992500305175781, -9.1451997756958, -8.21969985961914, -8.926199913024902, -9.280799865722656, -8.539799690246582, -9.218199729919434, -9.039199829101562, -7.549099922180176, -9.178999900817871, -9.283699989318848, -9.128800392150879, -8.895899772644043, -8.814900398254395, -9.185799598693848, -7.928599834442139, -8.5, -8.625399589538574, -8.73009967803955, -8.929699897766113, -8.404399871826172, -8.334699630737305, -8.403900146484375, -7.868800163269043, -5.972099781036377, -8.510299682617188, -8.312100410461426, -8.45740032196045, -7.630099773406982, -7.666600227355957, -7.987599849700928, -6.559700012207031, -7.771299839019775, -5.5559000968933105, -7.129199981689453, -7.163700103759766, -6.374800205230713, -5.365699768066406, -6.683599948883057, -5.888599872589111, -5.18310022354126, -6.5441999435424805, -5.645899772644043, -4.755199909210205, -6.504499912261963, -5.736299991607666, -5.787199974060059, -4.876500129699707, -5.010000228881836, -6.671800136566162, -5.708199977874756, -5.886300086975098, -5.95389986038208, -5.52370023727417, -5.285399913787842, -5.936100006103516, -6.200699806213379, -5.7281999588012695, -6.205900192260742, -5.91540002822876, -6.000400066375732, -5.809899806976318, -6.311600208282471, -6.018599987030029, -5.966700077056885, -6.053100109100342, -6.065400123596191, -5.985599994659424, -6.187900066375732, -6.082799911499023, -6.119100093841553, -5.997600078582764, -6.138199806213379, -7.616300106048584, -8.115599632263184, -8.223699569702148, -7.785900115966797, -8.41670036315918, -8.566699981689453, -8.571800231933594, -8.240699768066406, -8.293000221252441, -8.759099960327148, -8.624699592590332, -8.240599632263184, -8.808699607849121, -8.734100341796875, -8.919400215148926, -8.106100082397461, -8.313599586486816, -8.909199714660645, -8.696700096130371, -8.420700073242188, -9.059000015258789, -9.116999626159668, -9.069000244140625, -8.553600311279297, -8.558600425720215, -8.906399726867676, -8.801899909973145, -9.19260025024414, -9.258700370788574, -8.735600471496582, -7.197000026702881, -8.064800262451172, -8.265999794006348, -7.519199848175049, -8.427900314331055, -7.952899932861328, -8.584199905395508, -8.374199867248535, -8.218600273132324, -7.084799766540527, -8.133899688720703, -6.894400119781494, -7.124599933624268, -5.478499889373779, -5.772900104522705, -7.505300045013428, -7.726600170135498, -5.763800144195557, -7.2017998695373535, -6.071100234985352, -6.598599910736084, -6.64139986038208, -7.4096999168396, -5.512599945068359, -6.976799964904785, -5.747200012207031, -6.554599761962891, -5.890699863433838, -6.02810001373291, -4.799900054931641, -5.097700119018555, -6.091000080108643, -5.400599956512451, -6.281899929046631, -6.96019983291626, -5.5945000648498535, -5.756999969482422, -6.048500061035156, -5.367199897766113, -6.098700046539307, -5.022600173950195, -5.865099906921387, -5.88640022277832, -6.077099800109863, -6.008500099182129, -6.168600082397461, -6.20550012588501, -6.330399990081787, -6.095099925994873, -5.695000171661377, -6.008600234985352, -6.188399791717529, -6.167500019073486, -5.6539998054504395, -5.9456000328063965, -6.119699954986572, -6.069900035858154, -6.0019001960754395, -6.070300102233887, -7.764900207519531, -7.973100185394287, -6.43209981918335, -8.017499923706055, -8.295100212097168, -8.264699935913086, -8.326700210571289, -8.445899963378906, -8.269200325012207, -8.30049991607666, -8.560199737548828, -8.47350025177002, -8.294300079345703, -6.612400054931641, -8.622400283813477, -8.703499794006348, -8.250200271606445, -8.659000396728516, -5.861499786376953, -8.669599533081055, -8.7076997756958, -8.630499839782715, -8.874199867248535, -8.888299942016602, -8.124099731445312, -8.588600158691406, -8.05459976196289, -8.84179973602295, -8.849900245666504, -8.697999954223633, -8.494799613952637, -8.264100074768066, -7.4319000244140625, -8.363699913024902, -8.415800094604492, -8.276900291442871, -8.053199768066406, -7.81220006942749, -8.18970012664795, -7.801599979400635, -8.270899772644043, -8.33810043334961, -5.496500015258789, -8.239100456237793, -7.662799835205078, -8.208900451660156, -5.7692999839782715, -7.78410005569458, -7.69290018081665, -5.429299831390381, -6.424499988555908, -4.513000011444092, -6.471700191497803, -5.49970006942749, -5.496099948883057, -5.160399913787842, -7.571400165557861, -6.723299980163574, -5.696499824523926, -6.137499809265137, -6.284299850463867, -5.077000141143799, -6.040800094604492, -5.269100189208984, -5.031899929046631, -5.807700157165527, -6.425600051879883, -5.963600158691406, -5.9496002197265625, -5.579500198364258, -6.116099834442139, -5.901500225067139, -5.7866997718811035, -6.453400135040283, -5.880499839782715, -6.2600998878479, -5.973199844360352, -6.1992998123168945, -6.086100101470947, -6.050899982452393, -6.114500045776367, -6.1092000007629395, -6.176199913024902, -6.231800079345703, -6.1946001052856445, -7.132900238037109, -7.5543999671936035, -7.903800010681152, -8.070199966430664, -8.152799606323242, -7.723999977111816, -8.01609992980957, -8.387399673461914, -8.014599800109863, -8.428199768066406, -7.889900207519531, -8.439800262451172, -8.296799659729004, -7.686399936676025, -8.251700401306152, -8.521400451660156, -8.473299980163574, -8.619400024414062, -8.618599891662598, -8.67080020904541, -7.887599945068359, -8.470999717712402, -8.705900192260742, -8.618900299072266, -8.461600303649902, -8.645099639892578, -8.724699974060059, -8.591899871826172, -7.798099994659424, -8.79010009765625, -6.653600215911865, -6.829599857330322, -7.886000156402588, -6.962100028991699, -7.217100143432617, -8.118399620056152, -7.812399864196777, -8.142399787902832, -7.9542999267578125, -8.078800201416016, -8.1072998046875, -8.026599884033203, -7.76609992980957, -7.548999786376953, -7.680099964141846, -6.628900051116943, -6.774799823760986, -6.270199775695801, -7.752799987792969, -7.8190999031066895, -7.070799827575684, -7.108799934387207, -6.5355000495910645, -5.856299877166748, -7.224400043487549, -7.247099876403809, -5.807499885559082, -6.628799915313721, -5.971099853515625, -6.057199954986572, -6.141200065612793, -7.204999923706055, -5.9182000160217285, -5.16349983215332, -7.020699977874756, -6.241000175476074, -6.449100017547607, -6.998300075531006, -4.841300010681152, -6.384099960327148, -5.999599933624268, -5.762899875640869, -6.421199798583984, -5.67110013961792, -6.307300090789795, -6.079599857330322, -5.1407999992370605, -5.958799839019775, -6.058899879455566, -5.2104997634887695, -5.543799877166748, -5.877600193023682, -5.824999809265137, -5.792799949645996, -5.982500076293945, -6.231100082397461, -6.3358001708984375, -6.410799980163574, -6.285399913787842, -6.320499897003174, -6.361999988555908, -6.342899799346924, -8.005200386047363, -8.032699584960938, -7.41540002822876, -7.586100101470947, -8.243800163269043, -8.263699531555176, -7.9644999504089355, -7.439300060272217, -8.320699691772461, -8.405200004577637, -8.491000175476074, -8.420700073242188, -8.5423002243042, -7.731599807739258, -8.459099769592285, -8.603099822998047, -8.578300476074219, -8.597200393676758, -8.45680046081543, -6.50029993057251, -8.410799980163574, -8.027400016784668, -7.858699798583984, -8.707799911499023, -8.106499671936035, -7.410699844360352, -8.404800415039062, -8.765899658203125, -7.675899982452393, -8.52340030670166, -6.975599765777588, -7.385900020599365, -7.807300090789795, -8.262700080871582, -7.139400005340576, -8.023300170898438, -7.221099853515625, -7.885499954223633, -6.990499973297119, -7.3404998779296875, -7.231599807739258, -7.6178998947143555, -7.463099956512451, -7.207300186157227, -7.560400009155273, -7.13539981842041, -6.959499835968018, -7.56879997253418, -7.167099952697754, -6.533400058746338, -4.912099838256836, -4.917900085449219, -6.30679988861084, -5.468599796295166, -5.638999938964844, -5.344299793243408, -6.410999774932861, -5.952400207519531, -6.930200099945068, -6.735499858856201, -6.053400039672852, -6.048500061035156, -5.895899772644043, -6.243199825286865, -6.405300140380859, -5.288099765777588, -6.019400119781494, -5.936100006103516, -6.338900089263916, -6.139200210571289, -5.995100021362305, -6.481299877166748, -6.270699977874756, -6.129199981689453, -6.3703999519348145, -6.061999797821045, -5.97629976272583, -6.223700046539307, -6.220300197601318, -6.236299991607666, -6.285799980163574, -6.110899925231934, -6.217199802398682, -6.223199844360352, -6.309899806976318, -6.353499889373779, -6.293900012969971, -6.8028998374938965, -7.713200092315674, -7.781300067901611, -7.600100040435791, -8.101400375366211, -8.268500328063965, -7.843299865722656, -8.218700408935547, -8.265999794006348, -8.240300178527832, -8.401100158691406, -7.133900165557861, -8.293700218200684, -8.418299674987793, -8.486000061035156, -8.449299812316895, -7.7403998374938965, -8.501899719238281, -8.436300277709961, -8.400300025939941, -8.64009952545166, -8.46090030670166, -8.638400077819824, -8.506999969482422, -8.664600372314453, -8.564800262451172, -8.288299560546875, -8.687299728393555, -8.631500244140625, -8.627099990844727, -8.240400314331055, -7.571000099182129, -8.321700096130371, -7.538700103759766, -7.515200138092041, -7.80109977722168, -7.951399803161621, -8.059900283813477, -7.715400218963623, -7.430099964141846, -7.157299995422363, -8.09060001373291, -7.161499977111816, -7.790500164031982, -6.007999897003174, -7.414299964904785, -7.705399990081787, -7.880099773406982, -7.087299823760986, -6.708499908447266, -7.345900058746338, -6.201399803161621, -7.771599769592285, -6.107999801635742, -7.057400226593018, -6.770699977874756, -6.116700172424316, -6.788899898529053, -7.295100212097168, -7.032100200653076, -5.058899879455566, -5.791999816894531, -5.5868000984191895, -5.274700164794922, -6.353499889373779, -5.432000160217285, -5.148099899291992, -5.818399906158447, -5.283999919891357, -5.373700141906738, -6.1803998947143555, -5.872700214385986, -5.718900203704834, -6.245699882507324, -6.469799995422363, -6.048500061035156, -6.248899936676025, -6.11899995803833, -6.1819000244140625, -6.314599990844727, -6.172299861907959, -6.155700206756592, -6.2017998695373535, -6.154099941253662, -6.167099952697754, -6.136600017547607, -6.317800045013428, -6.280399799346924, -6.850200176239014, -7.226500034332275, -7.603000164031982, -7.777400016784668, -7.90339994430542, -7.441400051116943, -7.206399917602539, -7.841700077056885, -8.023099899291992, -7.821300029754639, -8.116299629211426, -8.103699684143066, -8.197799682617188, -7.813499927520752, -8.034899711608887, -8.230899810791016, -8.189399719238281, -7.9095001220703125, -8.278200149536133, -8.240799903869629, -8.360799789428711, -8.296199798583984, -8.060400009155273, -8.368900299072266, -8.357000350952148, -7.422599792480469, -8.512100219726562, -7.764900207519531, -8.202799797058105, -8.360300064086914, -7.91949987411499, -6.748199939727783, -6.09499979019165, -7.630300045013428, -7.249300003051758, -7.835999965667725, -6.698500156402588, -7.604400157928467, -7.776599884033203, -6.5609002113342285, -6.563199996948242, -7.816699981689453, -6.692800045013428, -6.919899940490723, -7.786900043487549, -7.213600158691406, -4.68209981918335, -7.023499965667725, -7.133900165557861, -7.061299800872803, -5.122900009155273, -4.913099765777588, -5.069300174713135, -5.750800132751465, -5.719399929046631, -5.786200046539307, -6.345200061798096, -5.991000175476074, -5.900700092315674, -6.024199962615967, -6.78439998626709, -6.218599796295166, -6.005300045013428, -5.838799953460693, -6.038899898529053, -5.778600215911865, -6.175000190734863, -5.839000225067139, -6.040500164031982, -6.1041998863220215, -5.991399765014648, -6.143899917602539, -6.149099826812744, -6.029900074005127, -6.132500171661377, -6.097799777984619, -6.191199779510498, -6.245699882507324, -6.35290002822876, -6.351399898529053, -6.908999919891357, -6.667600154876709, -7.211599826812744, -6.978700160980225, -6.2484002113342285, -7.005499839782715, -7.294000148773193, -7.370999813079834, -7.423699855804443, -7.383999824523926, -7.460299968719482, -7.4319000244140625, -7.77239990234375, -7.7866997718811035, -7.826499938964844, -7.654799938201904, -7.78980016708374, -7.3572001457214355, -7.743800163269043, -7.978400230407715, -8.06350040435791, -7.616799831390381, -6.801300048828125, -7.456600189208984, -7.6107001304626465, -7.667300224304199, -8.16189956665039, -7.722599983215332, -8.079299926757812, -8.023699760437012, -7.6269001960754395, -7.284900188446045, -7.343100070953369, -6.825699806213379, -6.956399917602539, -6.706099987030029, -6.8730998039245605, -7.392199993133545, -7.35129976272583, -6.873700141906738, -7.401700019836426, -5.370999813079834, -6.690100193023682, -5.503200054168701, -7.038599967956543, -7.39769983291626, -6.574100017547607, -5.193600177764893, -5.128399848937988, -5.692200183868408, -5.6915998458862305, -6.000100135803223, -5.954999923706055, -5.8632001876831055, -6.1041998863220215, -6.558899879455566, -6.36359977722168, -6.388199806213379, -6.041500091552734, -5.761899948120117, -6.2153000831604, -6.223100185394287, -6.330100059509277, -6.307600021362305, -6.289999961853027, -6.201399803161621, -6.307499885559082, -6.373000144958496, -6.3053998947143555, -6.43779993057251, -6.413899898529053, -6.484799861907959, -6.506899833679199, -6.522200107574463, -6.9019999504089355, -6.082099914550781, -6.882999897003174, -7.473599910736084, -7.379700183868408, -7.14739990234375, -6.001800060272217, -7.521599769592285, -6.4781999588012695, -7.458099842071533, -7.755799770355225, -7.313000202178955, -7.617599964141846, -7.922399997711182, -7.502099990844727, -7.945700168609619, -8.003199577331543, -7.853799819946289, -8.046199798583984, -7.674300193786621, -8.050299644470215, -6.569399833679199, -7.534999847412109, -7.612400054931641, -7.775199890136719, -8.145700454711914, -7.679900169372559, -7.651500225067139, -8.08810043334961, -8.182000160217285, -5.776299953460693, -6.572800159454346, -7.244800090789795, -7.241700172424316, -7.279699802398682, -6.841700077056885, -7.1905999183654785, -6.685699939727783, -7.133200168609619, -7.301700115203857, -6.4695000648498535, -6.890600204467773, -7.355500221252441, -6.969200134277344, -7.348100185394287, -7.159599781036377, -6.983500003814697, -5.298099994659424, -5.378900051116943, -5.576499938964844, -5.971199989318848, -5.853300094604492, -6.105999946594238, -5.648499965667725, -6.118100166320801, -6.1915998458862305, -6.0289998054504395, -6.097899913787842, -6.125899791717529, -6.134399890899658, -6.260900020599365, -6.23829984664917, -6.3379998207092285, -6.201700210571289, -6.2729997634887695, -6.475900173187256, -6.381199836730957, -6.389100074768066, -6.397500038146973, -6.408400058746338, -6.415800094604492, -6.470200061798096, -6.469099998474121, -6.474299907684326, -6.336299896240234, -6.097700119018555, -7.0980000495910645, -7.130099773406982, -7.149400234222412, -7.354899883270264, -7.376699924468994, -7.1707000732421875, -6.592899799346924, -6.703999996185303, -7.279600143432617, -7.500800132751465, -7.569699764251709, -7.709400177001953, -7.646999835968018, -7.5279998779296875, -7.865799903869629, -7.552999973297119, -7.866000175476074, -7.880199909210205, -7.414400100708008, -7.692699909210205, -7.4822998046875, -7.263700008392334, -7.983099937438965, -7.9730000495910645, -8.030099868774414, -6.56790018081665, -7.270199775695801, -7.939499855041504, -7.609499931335449, -7.600800037384033, -6.173099994659424, -6.539299964904785, -6.905399799346924, -6.252900123596191, -7.057700157165527, -7.091000080108643, -6.580599784851074, -5.898900032043457, -7.313799858093262, -7.179999828338623, -7.117000102996826, -6.224400043487549, -6.7118000984191895, -7.312699794769287, -5.162300109863281, -6.885300159454346, -5.921199798583984, -5.76669979095459, -5.99429988861084, -6.016300201416016, -5.950200080871582, -5.731299877166748, -6.10230016708374, -6.327199935913086, -6.008699893951416, -6.13539981842041, -6.10260009765625, -6.090700149536133, -6.197000026702881, -6.198200225830078, -6.201499938964844, -6.239200115203857, -6.072500228881836, -6.161200046539307, -6.191199779510498, -6.258299827575684, -6.338399887084961, -6.433499813079834, -6.414400100708008], \"loglift\": [30.0, 29.0, 28.0, 27.0, 26.0, 25.0, 24.0, 23.0, 22.0, 21.0, 20.0, 19.0, 18.0, 17.0, 16.0, 15.0, 14.0, 13.0, 12.0, 11.0, 10.0, 9.0, 8.0, 7.0, 6.0, 5.0, 4.0, 3.0, 2.0, 1.0, 1.4145, 1.4128, 1.4093, 1.4089, 1.4055, 1.4054, 1.4008, 1.3955, 1.3951, 1.3943, 1.3941, 1.3936, 1.3932, 1.3876, 1.3856, 1.3806, 1.378, 1.3766, 1.3756, 1.3723, 1.3722, 1.3718, 1.3709, 1.3707, 1.3707, 1.37, 1.3678, 1.3675, 1.3656, 1.3646, 1.3583, 1.3635, 1.3643, 1.3644, 1.3644, 1.3478, 1.3341, 1.3352, 1.2865, 1.1129, 1.3336, 1.3118, 1.3268, 1.2209, 1.2249, 1.2601, 1.0281, 1.2106, 0.7859, 1.0766, 1.0181, 0.7963, 0.5052, 0.859, 0.6249, 0.3809, 0.7789, 0.4761, 0.1557, 0.7079, 0.4357, 0.4492, 0.1033, 0.1286, 0.7635, 0.3341, 0.4073, 0.4295, 0.2315, 0.1011, 0.3986, 0.5084, 0.266, 0.5085, 0.3074, 0.3528, 0.1678, 0.5056, 0.2772, 0.2225, 0.2911, 0.2771, 0.1341, 0.3433, 0.1107, 0.1413, -0.4299, -0.3155, 1.6327, 1.6241, 1.6202, 1.6181, 1.612, 1.6102, 1.6083, 1.6058, 1.6025, 1.6023, 1.6, 1.5987, 1.5971, 1.594, 1.5912, 1.5899, 1.5884, 1.588, 1.5863, 1.584, 1.5824, 1.5824, 1.5819, 1.5808, 1.5768, 1.5767, 1.5733, 1.5723, 1.5691, 1.5685, 1.5596, 1.5597, 1.5629, 1.5046, 1.5508, 1.5196, 1.5584, 1.5412, 1.5255, 1.393, 1.5074, 1.2854, 1.299, 0.9706, 1.0062, 1.3581, 1.3874, 0.9217, 1.2506, 0.9551, 1.0941, 1.1013, 1.2976, 0.7532, 1.1751, 0.7459, 1.0041, 0.7412, 0.7207, 0.18, 0.2888, 0.6734, 0.3546, 0.7436, 1.0519, 0.3832, 0.4389, 0.5759, 0.1967, 0.585, -0.1117, 0.418, 0.4073, 0.529, 0.4671, 0.5755, 0.5803, 0.633, 0.3742, -0.1273, 0.2423, 0.4613, 0.4264, -0.5153, -0.0748, 0.3187, 0.176, -0.1792, 0.0171, 1.9496, 1.9444, 1.9431, 1.9352, 1.9326, 1.9319, 1.9307, 1.9259, 1.9245, 1.9205, 1.9204, 1.9184, 1.9173, 1.9167, 1.9124, 1.9122, 1.9106, 1.91, 1.908, 1.9037, 1.9033, 1.9009, 1.9008, 1.8994, 1.8994, 1.8989, 1.8982, 1.895, 1.8938, 1.8914, 1.8903, 1.8797, 1.8523, 1.879, 1.8776, 1.8701, 1.8451, 1.8211, 1.8577, 1.8181, 1.8606, 1.8663, 1.4119, 1.845, 1.7284, 1.8366, 1.1956, 1.7152, 1.6875, 0.9089, 1.1619, 0.3979, 1.1483, 0.6938, 0.6236, 0.4073, 1.5656, 1.0909, 0.4941, 0.6981, 0.7792, 0.0617, 0.6124, 0.1174, -0.0521, 0.3471, 0.7561, 0.3762, 0.3013, -0.0155, 0.4178, 0.2205, 0.036, 0.6469, -0.0097, 0.4255, 0.021, 0.3357, 0.1032, -0.0086, -0.027, -0.1315, 0.0697, 0.3622, -0.0226, 2.2203, 2.2001, 2.2001, 2.1901, 2.1882, 2.1846, 2.1837, 2.1735, 2.17, 2.1691, 2.169, 2.1653, 2.1644, 2.1642, 2.1641, 2.164, 2.1613, 2.1571, 2.1569, 2.1568, 2.1563, 2.1556, 2.1553, 2.1549, 2.1536, 2.1526, 2.1519, 2.1482, 2.147, 2.1459, 2.1377, 2.139, 2.1443, 2.1275, 2.1238, 2.1428, 2.133, 2.1387, 2.1241, 2.1304, 2.1257, 2.1162, 2.0867, 2.0403, 2.0497, 1.8668, 1.8224, 1.662, 2.0297, 2.0451, 1.8202, 1.8269, 1.6382, 1.4004, 1.8476, 1.8385, 1.2314, 1.5694, 1.2257, 1.2368, 1.2712, 1.7935, 1.0837, 0.6592, 1.6839, 1.2267, 1.3462, 1.6611, 0.2973, 1.2816, 1.0294, 0.6724, 1.1614, 0.4836, 1.0382, 0.7974, -0.1609, 0.6566, 0.6993, -0.2995, 0.0239, 0.313, 0.1693, -0.4063, -0.0048, 0.596, 0.8348, 0.9115, 0.0528, -0.2782, 0.1978, -0.5877, 2.2205, 2.2174, 2.215, 2.2119, 2.2116, 2.2086, 2.2075, 2.2062, 2.2042, 2.2024, 2.1968, 2.1937, 2.1933, 2.1926, 2.1887, 2.1887, 2.1886, 2.1884, 2.1875, 2.1825, 2.1823, 2.1813, 2.1802, 2.1797, 2.1792, 2.1789, 2.1778, 2.1756, 2.1754, 2.1701, 2.1397, 2.1384, 2.1506, 2.1611, 2.0391, 2.1293, 2.0257, 2.1096, 1.9438, 1.9701, 1.9448, 1.9684, 1.9206, 1.84, 1.8966, 1.7047, 1.5934, 1.8766, 1.6602, 1.2572, 0.2266, 0.0619, 1.0155, 0.3541, 0.4485, 0.2234, 1.0286, 0.6408, 1.4029, 1.2154, 0.562, 0.5332, 0.35, 0.7036, 0.8514, -0.3772, 0.4159, 0.1836, 0.6902, 0.4236, 0.1597, 0.8127, 0.4089, 0.1666, 0.5313, -0.0196, -0.2211, 0.1295, 0.1179, 0.1471, 0.2454, -0.7244, -0.2229, -0.3524, 0.0299, 0.3103, -0.7299, 2.5808, 2.5464, 2.5438, 2.5427, 2.5326, 2.5164, 2.5162, 2.5158, 2.5127, 2.5123, 2.5099, 2.5025, 2.501, 2.4991, 2.4989, 2.4971, 2.4937, 2.4922, 2.4916, 2.4886, 2.4885, 2.4883, 2.4845, 2.4843, 2.4833, 2.483, 2.4819, 2.4793, 2.4784, 2.4782, 2.4752, 2.465, 2.4724, 2.4236, 2.4158, 2.4312, 2.439, 2.4423, 2.3996, 2.3644, 2.3167, 2.4421, 2.2909, 2.391, 2.0562, 2.2986, 2.338, 2.3745, 2.1434, 2.0239, 2.1693, 1.7129, 2.3189, 1.6246, 2.0186, 1.8386, 1.5121, 1.8408, 2.0276, 1.8465, 0.5088, 0.8329, 0.6641, 0.1118, 1.1073, 0.1319, -0.2371, 0.3775, -0.3041, -0.235, 0.6966, 0.2821, 0.0363, 0.5415, 0.8678, 0.1879, 0.5093, 0.2235, 0.2566, 0.495, 0.1624, 0.1101, 0.1514, -0.0667, -0.1729, -0.3139, 0.2976, -0.0898, 2.6574, 2.6361, 2.6347, 2.6215, 2.619, 2.6174, 2.6162, 2.615, 2.6107, 2.6049, 2.6039, 2.6012, 2.6009, 2.6006, 2.5984, 2.5983, 2.5958, 2.5945, 2.5917, 2.5881, 2.5844, 2.5797, 2.5777, 2.5776, 2.5764, 2.5743, 2.5733, 2.5702, 2.5699, 2.5625, 2.5521, 2.5063, 2.3276, 2.4826, 2.4158, 2.4967, 2.2667, 2.452, 2.4372, 1.9525, 1.9289, 2.4337, 1.8816, 1.9776, 2.4119, 2.0348, 0.2289, 1.8685, 1.9314, 1.8635, 0.2636, 0.0668, 0.0693, 0.5934, 0.5033, 0.5537, 1.1105, 0.5906, 0.3596, 0.4343, 1.3524, 0.5626, 0.184, -0.0836, 0.2269, -0.2109, 0.3936, -0.2751, 0.047, 0.1467, -0.1687, 0.1519, 0.134, -0.1591, 0.0395, -0.1035, -0.2135, -0.0093, 0.2967, 0.2257, 3.3748, 3.3657, 3.3584, 3.3548, 3.3544, 3.3506, 3.3502, 3.348, 3.3442, 3.3431, 3.3406, 3.3346, 3.3132, 3.3086, 3.3076, 3.3032, 3.2998, 3.2956, 3.29, 3.2835, 3.2791, 3.2771, 3.2767, 3.2767, 3.2673, 3.2671, 3.2652, 3.2635, 3.2617, 3.2587, 3.2555, 3.2456, 3.2465, 3.1562, 3.1382, 3.0809, 3.0753, 3.1055, 3.0612, 2.7742, 3.0822, 1.6679, 2.4626, 1.3308, 2.7251, 3.0168, 2.0029, -0.055, -0.2175, 0.3953, -0.1239, 0.3417, 0.2356, -0.0405, 0.4774, 1.4864, 0.9207, 0.9058, 0.0009, -0.7821, 0.4001, 0.3455, 0.414, 0.2551, -0.2957, -0.8149, -0.4366, -0.0306, -0.7414, -0.2657, -0.6587, -0.2955, -0.256, 0.0117, 3.7006, 3.6883, 3.6789, 3.6571, 3.6547, 3.6528, 3.6527, 3.6518, 3.6343, 3.6285, 3.6222, 3.6022, 3.5991, 3.5806, 3.5798, 3.5793, 3.5793, 3.5786, 3.5764, 3.5732, 3.5727, 3.5694, 3.5625, 3.5625, 3.5461, 3.5436, 3.541, 3.5396, 3.539, 3.5341, 3.5335, 3.4654, 3.4915, 3.4893, 3.4842, 3.4139, 3.4498, 3.3009, 3.3548, 3.3958, 2.8898, 3.0776, 3.3579, 3.0482, 3.3269, 3.027, 2.7527, -0.3871, -0.2402, -0.0126, 0.3706, -0.0981, 0.4757, -0.6687, 0.4759, 0.4702, -0.1581, -0.0555, -0.004, -0.1401, -0.0245, -0.2607, 0.0045, -0.634, -0.4503, 0.5503, -0.1584, -0.1382, -0.1017, -0.1481, -0.261, 0.0984, -0.2732, 0.0569, 3.7482, 3.7448, 3.7054, 3.7029, 3.681, 3.6727, 3.6668, 3.6659, 3.6657, 3.6619, 3.6538, 3.6524, 3.6463, 3.6413, 3.6406, 3.6112, 3.6108, 3.608, 3.5996, 3.597, 3.5957, 3.5931, 3.5891, 3.589, 3.5839, 3.581, 3.5795, 3.5791, 3.5763, 3.5752, 3.5743, 3.5459, 3.4058, 3.4363, 3.4298, 3.235, 3.4049, 3.3729, 3.1676, 2.8256, 3.4352, 3.2974, 3.2461, 2.5071, 2.6854, 3.332, -0.1825, 2.6121, 0.6474, -0.0116, 0.3891, 0.419, 0.0921, -0.5927, 0.4112, 0.9382, -0.1378, 0.2064, -0.0151, -0.0965, 0.1472, 0.0848, -0.0081, -0.1195, -1.1616, -0.7747, -0.6272, -0.1364, -0.1491, 0.7377, 0.2473]}, \"token.table\": {\"Topic\": [4, 10, 1, 2, 7, 8, 1, 2, 3, 4, 5, 6, 7, 1, 2, 3, 4, 5, 6, 7, 8, 9, 10, 1, 4, 1, 2, 3, 4, 5, 6, 7, 8, 9, 10, 4, 6, 7, 9, 3, 5, 7, 1, 3, 5, 6, 7, 1, 2, 3, 4, 5, 6, 7, 8, 9, 10, 5, 1, 2, 3, 4, 5, 6, 7, 8, 9, 10, 7, 1, 4, 10, 1, 3, 5, 7, 2, 2, 9, 1, 2, 3, 4, 5, 6, 7, 8, 9, 10, 1, 3, 4, 8, 5, 8, 9, 5, 1, 4, 8, 1, 2, 7, 1, 3, 6, 2, 3, 5, 1, 2, 3, 5, 9, 10, 5, 8, 3, 2, 1, 2, 3, 4, 5, 6, 7, 8, 9, 10, 1, 2, 3, 4, 5, 6, 7, 8, 9, 10, 4, 6, 8, 1, 2, 3, 4, 3, 5, 3, 1, 3, 5, 10, 6, 9, 8, 2, 5, 8, 3, 1, 2, 3, 4, 5, 6, 7, 8, 9, 1, 2, 3, 4, 5, 6, 7, 8, 9, 10, 1, 2, 3, 4, 5, 6, 7, 8, 9, 10, 4, 1, 2, 3, 4, 5, 6, 7, 10, 1, 1, 4, 3, 10, 5, 1, 2, 3, 4, 5, 6, 7, 8, 9, 10, 1, 8, 5, 8, 1, 2, 3, 4, 5, 6, 7, 8, 9, 10, 2, 3, 8, 9, 1, 2, 3, 4, 5, 6, 7, 8, 9, 10, 5, 1, 3, 5, 9, 9, 1, 2, 3, 4, 5, 6, 7, 8, 10, 2, 7, 1, 2, 3, 4, 5, 6, 7, 8, 9, 10, 8, 1, 2, 3, 4, 5, 6, 7, 8, 9, 10, 2, 4, 5, 6, 8, 1, 2, 3, 4, 5, 6, 7, 8, 9, 10, 1, 2, 4, 7, 3, 2, 3, 1, 2, 3, 4, 5, 6, 7, 8, 9, 10, 1, 2, 3, 4, 5, 6, 7, 8, 9, 10, 3, 2, 10, 6, 7, 9, 3, 6, 8, 4, 7, 1, 8, 2, 1, 3, 4, 5, 7, 9, 10, 5, 8, 1, 2, 3, 4, 5, 6, 7, 8, 10, 1, 2, 3, 7, 8, 9, 10, 1, 2, 3, 4, 5, 6, 7, 8, 9, 10, 10, 6, 1, 2, 3, 4, 5, 6, 7, 8, 9, 10, 1, 2, 3, 4, 5, 6, 7, 8, 9, 10, 1, 2, 3, 4, 5, 6, 7, 8, 9, 10, 1, 3, 4, 5, 6, 7, 8, 9, 10, 10, 9, 1, 2, 3, 4, 5, 6, 7, 8, 9, 10, 2, 3, 4, 5, 6, 8, 1, 2, 3, 6, 7, 8, 1, 2, 3, 4, 5, 6, 7, 8, 9, 10, 1, 2, 3, 4, 5, 6, 9, 10, 1, 2, 3, 4, 5, 6, 7, 8, 9, 10, 3, 10, 1, 2, 3, 4, 5, 6, 7, 8, 9, 10, 1, 2, 3, 4, 5, 6, 7, 8, 9, 7, 6, 7, 10, 9, 6, 3, 7, 4, 8, 1, 2, 4, 5, 6, 7, 8, 10, 1, 2, 3, 4, 5, 6, 7, 8, 9, 10, 3, 4, 5, 6, 7, 8, 1, 2, 3, 4, 5, 6, 7, 8, 9, 10, 1, 2, 4, 5, 6, 8, 1, 6, 6, 9, 10, 7, 3, 2, 5, 6, 9, 8, 6, 2, 2, 10, 3, 1, 2, 3, 4, 5, 6, 7, 8, 9, 10, 1, 2, 3, 4, 7, 9, 10, 3, 7, 1, 5, 1, 2, 4, 5, 6, 7, 9, 4, 1, 5, 1, 2, 3, 4, 5, 6, 7, 9, 1, 2, 3, 4, 5, 6, 7, 8, 9, 10, 1, 2, 3, 4, 5, 6, 7, 8, 9, 10, 9, 1, 3, 4, 6, 10, 1, 2, 3, 4, 5, 7, 8, 9, 10, 1, 2, 3, 4, 5, 6, 7, 8, 9, 10, 6, 1, 2, 3, 4, 5, 6, 7, 8, 9, 10, 1, 2, 3, 4, 5, 6, 7, 8, 9, 10, 1, 1, 6, 7, 1, 2, 3, 4, 5, 6, 7, 8, 9, 10, 3, 8, 2, 6, 1, 2, 3, 4, 5, 6, 7, 8, 9, 10, 1, 2, 3, 4, 5, 6, 7, 8, 9, 10, 6, 3, 10, 10, 2, 3, 2, 3, 5, 6, 7, 9, 10, 1, 2, 3, 4, 5, 6, 7, 9, 10, 7, 3, 8, 10, 1, 3, 4, 5, 8, 10, 3, 3, 9, 1, 3, 4, 6, 2, 4, 5, 3, 4, 5, 7, 8, 10, 1, 5, 7, 8, 1, 2, 3, 4, 5, 6, 7, 8, 9, 10, 5, 10, 4, 2, 4, 2, 3, 4, 2, 3, 6, 7, 8, 1, 2, 4, 5, 6, 7, 10, 1, 2, 3, 4, 5, 6, 7, 8, 9, 1, 2, 3, 4, 5, 6, 7, 8, 9, 10, 6, 1, 2, 3, 4, 5, 6, 7, 8, 9, 10, 2, 5, 7, 1, 2, 3, 4, 5, 6, 7, 8, 9, 10, 1, 2, 3, 4, 5, 6, 7, 8, 9, 10, 1, 2, 3, 4, 5, 6, 7, 8, 9, 10, 3, 5, 7, 1, 2, 3, 4, 5, 6, 7, 8, 9, 10, 10, 1, 2, 4, 6, 7, 1, 5, 6, 7, 9, 3, 4, 7, 8, 9, 2, 3, 4, 5, 6, 8, 1, 2, 3, 4, 5, 6, 7, 8, 9, 10, 6, 7, 1, 2, 3, 4, 5, 6, 7, 8, 9, 10, 1, 4, 1, 3, 8, 1, 2, 3, 4, 5, 6, 7, 8, 9, 10, 1, 2, 3, 4, 5, 6, 7, 8, 9, 10, 9, 1, 2, 3, 4, 5, 6, 7, 8, 9, 10, 5, 2, 5, 10, 9, 1, 2, 3, 4, 5, 6, 7, 8, 9, 10, 1, 2, 3, 4, 5, 6, 7, 8, 9, 10, 1, 2, 3, 4, 5, 6, 7, 8, 9, 10, 7, 3, 1, 2, 3, 4, 5, 6, 7, 8, 9, 10, 10, 7, 1, 2, 3, 4, 5, 6, 7, 8, 9, 10, 2, 4, 1, 2, 3, 4, 5, 6, 7, 8, 9, 10, 1, 2, 3, 4, 5, 7, 8, 10, 1, 3, 4, 6, 8, 9, 1, 3, 6, 1, 8, 1, 2, 3, 4, 5, 6, 7, 8, 9, 10, 1, 2, 3, 4, 5, 6, 7, 8, 9, 10, 3, 4, 2, 8, 9, 1, 2, 3, 4, 6, 7, 10, 8, 1, 2, 3, 4, 5, 6, 8, 1, 2, 3, 4, 5, 6, 7, 10, 4, 9, 2, 3, 5, 6, 8, 7, 1, 2, 3, 4, 5, 7, 5, 1, 2, 3, 4, 5, 7, 8, 9, 10, 1, 2, 3, 4, 5, 6, 7, 8, 9, 10, 1, 2, 3, 4, 5, 6, 7, 8, 9, 10, 1, 2, 3, 4, 5, 6, 7, 8, 9, 10, 3, 1, 9, 1, 7, 8, 10, 1, 2, 3, 4, 5, 6, 7, 8, 9, 10, 1, 2, 3, 4, 5, 6, 8, 1, 2, 3, 4, 5, 6, 7, 8, 9, 10, 10, 6, 1, 1, 5, 1, 10, 9, 3, 1, 2, 7, 1, 2, 4, 9, 10, 6, 1, 2, 3, 4, 5, 6, 7, 8, 9, 10, 1, 2, 3, 4, 5, 6, 7, 8, 9, 10, 3, 5, 6, 7, 4, 9, 2, 9, 2, 5, 1, 2, 3, 4, 5, 6, 7, 8, 9, 10, 1, 2, 3, 4, 5, 6, 7, 8, 9, 10, 1, 2, 3, 4, 5, 6, 7, 8, 9, 10, 1, 2, 3, 4, 5, 6, 7, 8, 9, 10, 1, 2, 3, 4, 5, 6, 7, 8, 9, 10, 1, 2, 3, 4, 5, 6, 7, 8, 9, 10, 1, 2, 3, 4, 5, 6, 7, 8, 9, 10, 10, 8, 2, 6, 9, 10, 4, 4, 1, 2, 3, 4, 5, 6, 7, 8, 9, 10, 3, 7, 8, 7, 10, 4, 9, 8, 5, 1, 3, 5, 8, 3, 2, 6, 8, 9, 2, 1, 9, 3, 6, 8, 3, 8, 10, 1, 4, 5, 1, 10, 2, 9, 1, 2, 3, 4, 5, 6, 7, 8, 9, 10, 3, 8, 1, 2, 7, 8, 9, 9, 1, 3, 2, 5, 7, 1, 4, 5, 6, 7, 10, 1, 4, 9, 1, 2, 3, 4, 7, 8, 10, 1, 2, 6, 1, 2, 3, 5, 6, 7, 9, 3, 5, 6, 7, 9, 3, 10, 1, 2, 3, 4, 5, 6, 7, 8, 9, 10, 1, 3, 1, 2, 5, 6, 10, 1, 8, 2, 6, 1, 4, 5, 5, 7, 8, 9, 7, 1, 2, 3, 4, 5, 6, 7, 8, 9, 10, 1, 2, 3, 4, 5, 6, 7, 8, 9, 10, 1, 3, 6, 10, 5, 10, 1, 2, 3, 4, 5, 6, 7, 8, 9, 10, 7, 1, 2, 3, 4, 5, 6, 7, 8, 9, 10, 7, 9, 9, 8, 10, 1, 2, 3, 4, 5, 6, 7, 8, 9, 10, 1, 7, 1, 2, 3, 4, 5, 6, 7, 8, 9, 10, 1, 1, 9, 3, 4, 7, 1, 2, 3, 4, 5, 6, 7, 8, 9, 10, 4, 1, 2, 3, 4, 5, 6, 7, 8, 9, 10, 7, 2, 1, 2, 3, 4, 5, 6, 7, 8, 9, 10, 1, 2, 3, 4, 5, 6, 7, 8, 9, 10, 2, 3, 1, 3, 1, 2, 3, 4, 5, 6, 7, 8, 9, 10, 1, 2, 3, 4, 5, 8, 10, 1, 5, 6, 10, 1, 3, 2, 3, 10, 1, 3, 1, 2, 3, 4, 5, 6, 7, 8, 9, 10, 1, 2, 3, 4, 5, 6, 7, 8, 9, 10, 1, 3, 4, 5, 6, 7, 10, 1, 2, 3, 4, 5, 6, 7, 8, 9, 10, 4, 1, 2, 3, 4, 5, 6, 7, 8, 9, 10, 1, 2, 3, 4, 5, 6, 7, 8, 9, 10, 4, 7, 2, 5, 5, 1, 2, 3, 4, 5, 6, 7, 8, 9, 10, 1, 2, 3, 4, 5, 6, 7, 8, 9, 10, 1, 3, 5, 9, 1, 2, 3, 5, 9, 8, 8, 9, 4, 1, 2, 3, 4, 5, 6, 7, 8, 9, 10, 8, 2, 4, 1, 2, 3, 4, 5, 6, 7, 9, 1, 1, 3, 1, 3, 5, 9, 10, 4, 1, 2, 3, 4, 5, 6, 7, 8, 9, 10, 5, 1, 2, 3, 4, 5, 6, 7, 8, 9, 10, 5, 10, 2, 9, 1, 2, 3, 4, 5, 6, 7, 8, 9, 10, 9, 1, 7, 8, 10, 1, 3, 6, 1, 6, 6, 2, 3, 4, 5, 6, 8, 4, 5, 7, 8, 1, 2, 3, 4, 5, 6, 7, 8, 9, 10, 1, 2, 3, 4, 5, 6, 7, 8, 9, 10, 1, 2, 3, 4, 5, 6, 7, 8, 9, 10, 9, 5, 7, 1, 2, 6, 1, 2, 3, 4, 5, 6, 7, 8, 9, 10, 3, 5, 7, 10, 1, 2, 6, 2, 3, 4, 5, 9, 2, 4, 7, 1, 2, 3, 4, 5, 6, 7, 8, 9, 10, 5, 6, 6, 1, 1, 2, 3, 4, 5, 6, 7, 8, 9, 10, 1, 1, 2, 3, 4, 5, 6, 7, 8, 9, 10, 1, 4, 5, 6, 7, 9, 1, 2, 3, 4, 5, 6, 7, 8, 9, 10, 1, 3, 5, 9, 4, 8, 2, 7, 1, 2, 3, 4, 5, 6, 7, 8, 9, 10, 1, 6, 10, 1, 5, 1, 2, 3, 4, 5, 6, 7, 8, 9, 10, 5, 7, 1, 2, 3, 4, 5, 6, 7, 8, 9, 10, 5, 9, 8, 4, 6, 6, 8, 2, 6, 1, 2, 3, 4, 5, 6, 7, 8, 9, 10, 8, 4, 2, 1, 2, 3, 4, 5, 6, 8, 9, 7, 2, 4, 3, 1, 2, 3, 4, 5, 6, 7, 8, 9, 10, 1, 2, 3, 4, 5, 6, 7, 8, 9, 10, 8, 6, 1, 2, 3, 4, 5, 6, 7, 8, 9, 10, 1, 2, 3, 4, 5, 6, 7, 8, 9, 10, 7, 1, 2, 7, 5, 7, 4, 1, 3, 5, 8, 1, 2, 3, 4, 5, 6, 7, 8, 9, 10, 1, 6, 4, 10, 1, 4, 7, 6, 7, 4, 1, 8, 2, 5, 6, 10, 1, 2, 3, 4, 5, 6, 7, 8, 9, 10, 7, 6, 2, 7, 5, 6, 1, 2, 3, 6, 7, 10, 1, 3, 4, 7, 3, 1, 2, 3, 6, 7, 8, 9, 1, 2, 3, 4, 5, 6, 8, 9, 1, 2, 3, 4, 5, 7, 8, 9, 10, 9, 4, 1, 2, 3, 4, 5, 6, 7, 8, 9, 10, 6, 4, 5, 1, 2, 3, 4, 5, 6, 7, 8, 9, 10, 1, 2, 3, 4, 5, 6, 7, 8, 9, 10, 2, 7, 2, 8, 1, 2, 3, 4, 5, 6, 7, 1, 2, 3, 4, 5, 6, 7, 8, 9, 10, 3, 10, 1, 2, 3, 4, 5, 6, 7, 8, 9, 10, 1, 2, 3, 4, 5, 6, 7, 8, 9, 10, 1, 4, 9, 8, 10, 1, 2, 3, 4, 5, 6, 7, 8, 9, 10, 4, 5, 1, 2, 3, 4, 5, 6, 7, 8, 10, 8, 10, 1, 3, 8, 4, 4, 6, 9, 1, 2, 3, 4, 5, 6, 7, 8, 9, 10, 1, 6, 2, 1, 2, 3, 4, 5, 6, 7, 9, 10, 2, 5, 10, 5, 1, 5, 5, 3, 8, 2, 1, 2, 3, 4, 5, 6, 7, 8, 9, 10, 7, 2, 5, 8, 9, 5, 1, 2, 3, 4, 5, 6, 7, 8, 9, 10, 2, 3, 7, 10, 3, 1, 2, 7, 3, 4, 4, 5, 1, 2, 3, 4, 5, 6, 7, 8, 9, 10, 6, 5, 3, 4, 3, 9, 8, 8, 6, 2, 5, 9, 1, 6, 10, 4, 3, 1, 2, 3, 4, 5, 6, 7, 8, 9, 10, 1, 2, 3, 4, 5, 6, 7, 8, 9, 10, 10, 2, 4, 5, 6, 10, 1, 1, 6, 1, 2, 3, 4, 5, 6, 7, 8, 9, 10, 1, 8, 1, 2, 3, 4, 5, 6, 7, 8, 9, 10, 1, 2, 3, 4, 5, 6, 7, 8, 9, 10, 1, 2, 6, 3, 1, 2, 3, 4, 5, 6, 7, 8, 9, 10, 1, 2, 3, 4, 5, 6, 7, 8, 9, 10, 4, 8, 1, 2, 3, 4, 5, 6, 7, 8, 9, 10, 1, 2, 3, 4, 5, 6, 7, 8, 9, 10, 1, 2, 3, 4, 5, 6, 7, 8, 9, 10, 10, 1, 2, 3, 4, 5, 6, 7, 8, 9, 10, 1, 2, 3, 4, 5, 6, 7, 8, 10, 1, 2, 3, 4, 5, 6, 7, 8, 9, 10, 2, 8, 3, 4, 2, 1, 2, 3, 4, 5, 6, 7, 8, 9, 10, 1, 10, 1, 2, 1, 6, 1, 2, 3, 4, 5, 6, 7, 8, 9, 10, 1, 2, 3, 4, 5, 6, 7, 8, 9, 10, 2, 3, 1, 2, 3, 4, 5, 6, 7, 8, 9, 10, 3, 1, 2, 3, 4, 5, 6, 7, 8, 9, 10, 10, 8, 1, 5, 8, 10, 1, 2, 3, 4, 5, 6, 7, 8, 9, 10, 1, 2, 3, 4, 5, 6, 7, 8, 9, 10, 1, 2, 3, 4, 5, 6, 7, 8, 9, 10, 1, 2, 3, 4, 5, 6, 7, 8, 9, 10, 7, 1, 2, 3, 4, 5, 6, 7, 8, 9, 10, 6, 1, 3, 4, 5, 8, 8, 1, 2, 3, 4, 5, 6, 7, 9, 10, 1, 3, 6, 7, 2, 10, 1, 2, 4, 10, 1, 2, 3, 4, 5, 6, 7, 8, 9, 10, 1, 4, 5, 4, 1, 2, 3, 4, 5, 6, 7, 8, 9, 10, 1, 2, 3, 4, 5, 6, 7, 8, 9, 10, 1, 2, 3, 4, 5, 6, 7, 8, 9, 10, 9, 1, 2, 3, 4, 5, 6, 7, 8, 9, 10, 1, 2, 3, 4, 5, 6, 7, 8, 9, 10, 1, 2, 3, 4, 5, 6, 7, 8, 9, 10, 1, 2, 3, 4, 5, 6, 7, 8, 9, 10, 1, 2, 3, 4, 5, 6, 7, 8, 9, 10, 1, 2, 3, 4, 5, 6, 7, 8, 9, 10], \"Freq\": [0.8999325963453261, 0.05293721154972506, 0.03458018906349831, 0.9106116453387887, 0.02305345937566554, 0.01152672968783277, 0.11904534852546021, 0.6717558952508113, 0.01700647836078003, 0.008503239180390015, 0.13605182688624023, 0.03401295672156006, 0.008503239180390015, 0.11329410966976454, 0.04119785806173256, 0.12359357418519767, 0.1699411645046468, 0.3501817935247267, 0.06179678709259884, 0.07209625160803197, 0.04634759031944913, 0.01029946451543314, 0.01544919677314971, 0.9009349091771269, 0.8974864800402474, 0.28216757718049174, 0.10862789356244282, 0.08080855496718307, 0.1179010064275294, 0.1973848309854144, 0.09538058946946198, 0.07418490292069266, 0.013247304092980833, 0.017221495320875083, 0.015896764911577, 0.1799584456412185, 0.7498268568384103, 0.029993074273536414, 0.8100015848800626, 0.05133908014857673, 0.10267816029715346, 0.770086202228651, 0.019536298298930683, 0.8791334234518808, 0.019536298298930683, 0.019536298298930683, 0.039072596597861366, 0.03884868676612574, 0.6928015806625757, 0.025899124510750497, 0.11007127917068961, 0.025899124510750497, 0.006474781127687624, 0.07769737353225148, 0.006474781127687624, 0.006474781127687624, 0.012949562255375248, 0.9222460673724305, 0.21525948706606646, 0.25754260059690093, 0.12300542118060939, 0.12941195353376614, 0.10891105000366456, 0.061502710590304696, 0.056377484707779306, 0.015375677647576174, 0.01921959705947022, 0.011531758235682131, 0.903328503974612, 0.12862038199490164, 0.8038773874681352, 0.03215509549872541, 0.021743329663415543, 0.7827598678829596, 0.13045997798049327, 0.04348665932683109, 0.9324157825002345, 0.46459922225811084, 0.5033158241129534, 0.3386902123744215, 0.13130759002823728, 0.14485519852321413, 0.09587538319522086, 0.11775998153326041, 0.08649626962177534, 0.03543220683301641, 0.018758227146891036, 0.017716103416508203, 0.01354760849497686, 0.0603773457295721, 0.1207546914591442, 0.0603773457295721, 0.7245281487548653, 0.9141602340487756, 0.04155273791130798, 0.7891554792104644, 0.9517020507612812, 0.08353781996302648, 0.906982045312859, 0.011933974280432354, 0.8046773118571976, 0.06595715670960636, 0.11872288207729145, 0.05154304291879345, 0.9363652796914144, 0.008590507153132242, 0.018362701756042665, 0.9456791404361973, 0.027544052634064, 0.1079067198991865, 0.1079067198991865, 0.021581343979837297, 0.7121843513346309, 0.021581343979837297, 0.043162687959674595, 0.1017456559076493, 0.8139652472611943, 0.9463154024153684, 0.9432678354771871, 0.06141793493644867, 0.15793183269372515, 0.06580493028905214, 0.184253804809346, 0.36412061426608855, 0.07019192564165562, 0.06141793493644867, 0.01316098605781043, 0.004386995352603476, 0.01316098605781043, 0.12688588566193076, 0.0057675402573604895, 0.046140322058883916, 0.051907862316244405, 0.12688588566193076, 0.5825215659934094, 0.0057675402573604895, 0.028837701286802447, 0.0057675402573604895, 0.017302620772081466, 0.047921147947771886, 0.814659515112122, 0.047921147947771886, 0.0340338469695053, 0.9529477151461485, 0.8694986412050876, 0.08694986412050876, 0.8796749114293904, 0.046298679548915284, 0.9664781111714451, 0.04902990444398908, 0.8825382799918035, 0.04902990444398908, 0.9077381934581599, 0.8449671628236795, 0.8995052968628847, 0.9167455755584923, 0.06574442112397419, 0.13148884224794838, 0.7231886323637161, 0.9730210808730622, 0.09056589738531777, 0.07547158115443148, 0.12075452984709036, 0.1433960041934198, 0.42264085446481625, 0.03773579057721574, 0.06792442303898832, 0.03773579057721574, 0.007547158115443147, 0.22706094729275014, 0.29740531919913155, 0.12822265258884713, 0.07479654734349415, 0.0739061122560716, 0.10863308066555104, 0.04185044910885983, 0.02048000701071864, 0.017808701748450992, 0.010685221049070595, 0.18697474962290497, 0.5728588073552834, 0.039781861621894676, 0.039781861621894676, 0.05569460627065255, 0.011934558486568403, 0.05569460627065255, 0.023869116973136806, 0.007956372324378935, 0.007956372324378935, 0.9692899579365017, 0.14370842178838267, 0.02395140363139711, 0.07185421089419133, 0.02395140363139711, 0.07185421089419133, 0.02395140363139711, 0.04790280726279422, 0.5748336871535307, 0.95730373134411, 0.9516026506181586, 0.03660010194685226, 0.12762611140844254, 0.8933827798590978, 0.9539437007567932, 0.20537999481929275, 0.2180404054588382, 0.2560216373774745, 0.026727533572373716, 0.12379068180888879, 0.07033561466414136, 0.02813424586565654, 0.03235438274550503, 0.01406712293282827, 0.026727533572373716, 0.04132343537129708, 0.9504390135398328, 0.06793606769238665, 0.8152328123086398, 0.2553879407530542, 0.18302802420635553, 0.1447198330933974, 0.05959051950904599, 0.12201868280423703, 0.06242816329519103, 0.07803520411898879, 0.02837643786145047, 0.03688936921988561, 0.02837643786145047, 0.9306604415405292, 0.04393333315672128, 0.7468666636642617, 0.17573333262688512, 0.2176154576979604, 0.3029876757179295, 0.07198049754624844, 0.1941799468689493, 0.09039411319761433, 0.04519705659880716, 0.04519705659880716, 0.01506568553293572, 0.01004379035529048, 0.00669586023686032, 0.9541798053325699, 0.1631535906115174, 0.0815767953057587, 0.0815767953057587, 0.6526143624460696, 0.8136377975576128, 0.02565173344732889, 0.7439002699725378, 0.10260693378931555, 0.02565173344732889, 0.012825866723664444, 0.02565173344732889, 0.02565173344732889, 0.012825866723664444, 0.02565173344732889, 0.055875710280993376, 0.894011364495894, 0.18636705116087227, 0.1498621648510107, 0.459193043581943, 0.04419012553299033, 0.030740956892515013, 0.05956060397924784, 0.026898337280950636, 0.013449168640475318, 0.019213098057821884, 0.01152785883469313, 0.8903239532788327, 0.0635045090422056, 0.12291195298491407, 0.07989276944019415, 0.29908575226329087, 0.20690178752460534, 0.075795704340697, 0.08808689963918842, 0.024582390596982813, 0.02663092314673138, 0.012291195298491406, 0.8725676288921528, 0.023582908888977103, 0.023582908888977103, 0.023582908888977103, 0.023582908888977103, 0.39480763125283724, 0.21834058395043274, 0.05682837116518112, 0.12711609339579988, 0.05234192081003524, 0.053837404261750536, 0.05832385461689641, 0.010468384162007049, 0.011963867613722342, 0.01645031796886822, 0.12686458461912065, 0.04228819487304021, 0.04228819487304021, 0.803475702587764, 0.9275347867994236, 0.053595508699121934, 0.9111236478850729, 0.22503369071949353, 0.011251684535974676, 0.07876179175182273, 0.0450067381438987, 0.03375505360792403, 0.5625842267987338, 0.011251684535974676, 0.02250336907194935, 0.011251684535974676, 0.011251684535974676, 0.20375506732662244, 0.15281630049496683, 0.09055780770072108, 0.011319725962590135, 0.16979588943885204, 0.07357821875683589, 0.11319725962590135, 0.14149657453237668, 0.028299314906475338, 0.011319725962590135, 0.9572099453119641, 0.9143404784592728, 0.04571702392296364, 0.03984328369866104, 0.916395525069204, 0.03984328369866104, 0.8586477654970935, 0.05539663003207055, 0.05539663003207055, 0.03346917068329478, 0.9371367791322538, 0.8780591022446291, 0.10975738778057864, 0.9858341739749575, 0.14742159080803147, 0.04212045451658042, 0.10530113629145105, 0.04212045451658042, 0.18954204532461189, 0.4212045451658042, 0.02106022725829021, 0.8846109150717278, 0.09311693842860293, 0.02636769263884704, 0.1318384631942352, 0.03955153895827056, 0.6591923159711759, 0.0659192315971176, 0.01318384631942352, 0.01318384631942352, 0.02636769263884704, 0.01318384631942352, 0.031070137918915084, 0.06214027583783017, 0.2174909654324056, 0.06214027583783017, 0.031070137918915084, 0.031070137918915084, 0.5281923446215564, 0.6626792186096863, 0.06805894677612995, 0.06805894677612995, 0.0752230464367752, 0.042984597963871544, 0.014328199321290513, 0.021492298981935772, 0.0250743488122584, 0.021492298981935772, 0.0035820498303226283, 0.8934882708785952, 0.8649185198109788, 0.3083795229286104, 0.04973863273042103, 0.019895453092168412, 0.009947726546084206, 0.06963408582258944, 0.46754314766595767, 0.029843179638252615, 0.009947726546084206, 0.029843179638252615, 0.019895453092168412, 0.18418443958682362, 0.16621522596859692, 0.413291913219214, 0.02246151702278337, 0.04941533745012341, 0.05390764085468008, 0.04043073064101006, 0.03593842723645339, 0.008984606809113347, 0.02246151702278337, 0.14395589310280404, 0.09911717230029131, 0.10855690299555715, 0.24543299807691182, 0.12035656636463946, 0.12979629705990528, 0.06607811486686088, 0.0471986534763292, 0.01887946139053168, 0.01887946139053168, 0.15416168823678097, 0.03425815294150688, 0.03425815294150688, 0.06851630588301376, 0.22267799411979472, 0.05138722941226032, 0.3768396823565757, 0.03425815294150688, 0.8653516293545537, 0.783464394016746, 0.8370717921205573, 0.39446635291053794, 0.059667179431846074, 0.05469491447919223, 0.14916794857961518, 0.11933435886369215, 0.11104725060926908, 0.051380071177423006, 0.03646327631946149, 0.019889059810615357, 0.006629686603538453, 0.3648896905076729, 0.03172953830501503, 0.015864769152507514, 0.015864769152507514, 0.555266920337763, 0.9187355768862876, 0.031557770028078, 0.126231080112312, 0.15778885014038999, 0.031557770028078, 0.15778885014038999, 0.504924320449248, 0.2471308685188293, 0.22934493479967114, 0.14884018217611308, 0.08424915972232817, 0.14696797862672803, 0.05242169938278197, 0.04680508873462676, 0.012169323071002958, 0.014041526620388028, 0.017785933719158167, 0.12279943312001085, 0.15349929140001356, 0.09209957484000814, 0.030699858280002712, 0.15349929140001356, 0.030699858280002712, 0.36839829936003254, 0.061399716560005424, 0.20836667010437257, 0.02604583376304657, 0.091160418170663, 0.013022916881523286, 0.06511458440761643, 0.4688250077348383, 0.013022916881523286, 0.013022916881523286, 0.03906875064456986, 0.06511458440761643, 0.09259307049646648, 0.8333376344681983, 0.11121070964404088, 0.03306264340768783, 0.12623918392026262, 0.3817232466160322, 0.1623075221831948, 0.09918793022306349, 0.03306264340768783, 0.024045558841954785, 0.006011389710488696, 0.024045558841954785, 0.047403864664660074, 0.047403864664660074, 0.047403864664660074, 0.6794553935267944, 0.1106090175508735, 0.01580128822155336, 0.01580128822155336, 0.03160257644310672, 0.01580128822155336, 0.9256882262867999, 0.7438904465286575, 0.21879130780254635, 0.9169713851735439, 0.7490559171902367, 0.9332384944353136, 0.7751532914691428, 0.2180118632256964, 0.9085954481878044, 0.9475490460169153, 0.07707486515545621, 0.015414973031091243, 0.015414973031091243, 0.6474288673058322, 0.09248983818654745, 0.015414973031091243, 0.1079048112176387, 0.015414973031091243, 0.08010115599738447, 0.05874084773141528, 0.07476107893089218, 0.3684653175879686, 0.23496339092566113, 0.06942100186439988, 0.021360308265969193, 0.08010115599738447, 0.010680154132984596, 0.002670038533246149, 0.026424808970749274, 0.07927442691224783, 0.7398946511809796, 0.1056992358829971, 0.026424808970749274, 0.026424808970749274, 0.07522136776736633, 0.12223472262197028, 0.06581869679644554, 0.06581869679644554, 0.5077442324297228, 0.1034293806801287, 0.028208012912762374, 0.018805341941841584, 0.009402670970920792, 0.009402670970920792, 0.01070666358227646, 0.02141332716455292, 0.01070666358227646, 0.9207730680757755, 0.01070666358227646, 0.02141332716455292, 0.05557138809847944, 0.9169279036249107, 0.916183287652742, 0.16906418577939247, 0.6762567431175699, 0.9434452717593396, 0.9111268525144607, 0.9506888161918298, 0.9167742385713954, 0.8640553612363099, 0.8102150635609354, 0.8317712722956884, 0.9292985964878256, 0.9571661931295664, 0.9421731298285388, 0.03623742807032842, 0.9367124121654742, 0.36777034565592454, 0.19649195772633318, 0.1356316168376459, 0.05390487335855158, 0.07303240906642472, 0.04955770615221678, 0.0712935421838908, 0.02521356979674187, 0.013910935060271376, 0.013910935060271376, 0.04517401707894126, 0.8583063244998839, 0.015058005692980419, 0.015058005692980419, 0.015058005692980419, 0.015058005692980419, 0.030116011385960838, 0.9681822145875375, 0.023614200355793598, 0.8929348268659134, 0.0615817121976492, 0.024613358963063464, 0.12306679481531732, 0.09845343585225386, 0.04922671792612693, 0.6399473330396501, 0.024613358963063464, 0.024613358963063464, 0.9557387042463815, 0.936507680657992, 0.8822105496452548, 0.2511486109793581, 0.06278715274483952, 0.01569678818620988, 0.09418072911725928, 0.04709036455862964, 0.03139357637241976, 0.4709036455862964, 0.01569678818620988, 0.39573086700568416, 0.1576972627917388, 0.17257436305511037, 0.04314359076377759, 0.08033634142220655, 0.053557560948137704, 0.060996111079823494, 0.014877100263371584, 0.010413970184360109, 0.010413970184360109, 0.33220354178538014, 0.1725931044678067, 0.13746353453188145, 0.08095074811321908, 0.10157027829300129, 0.05422172750979768, 0.04200274666251933, 0.03283851102706057, 0.021383216482737114, 0.025201647997511598, 0.8254171409099809, 0.16764948481836137, 0.05588316160612046, 0.05588316160612046, 0.05588316160612046, 0.726481100879566, 0.05308838332557735, 0.2123535333023094, 0.07963257498836603, 0.026544191662788676, 0.05308838332557735, 0.4910675457615905, 0.03981628749418301, 0.013272095831394338, 0.026544191662788676, 0.18819137657295773, 0.30239298115996627, 0.12385244441126278, 0.0739897719859492, 0.07238129868190682, 0.12706939101934753, 0.06433893216169495, 0.02091015295255086, 0.014476259736381364, 0.01286778643233899, 0.8488829518302993, 0.32350484844348876, 0.2943363785018627, 0.19887593142017754, 0.03314598857002959, 0.029168469941626037, 0.01856175359921657, 0.03579766765563196, 0.019887593142017754, 0.03712350719843314, 0.007955037256807101, 0.21698119677093816, 0.21183946225029981, 0.2025843401131508, 0.06889924257655382, 0.10694807802927757, 0.031878754027957736, 0.1192882408788096, 0.016453550466042705, 0.015425203561915034, 0.01028346904127669, 0.9695349628809823, 0.0894934706017389, 0.0894934706017389, 0.80544123541565, 0.5167496855934993, 0.13193608993876577, 0.04672736518664621, 0.08520872475211956, 0.06596804496938288, 0.07421405059055575, 0.019240679782736674, 0.013743342701954767, 0.021989348323127628, 0.01649201124234572, 0.10714121788424825, 0.857129743073986, 0.9460107214172145, 0.8983265714221781, 0.13198977532965928, 0.03959693259889778, 0.026397955065931854, 0.09239284273076148, 0.06599488766482964, 0.13198977532965928, 0.4487652361208415, 0.026397955065931854, 0.013198977532965927, 0.026397955065931854, 0.4823425432055103, 0.18210891937350898, 0.08859352834386923, 0.036913970143278844, 0.059062352229246155, 0.05414048954347564, 0.059062352229246155, 0.012304656714426283, 0.012304656714426283, 0.009843725371541026, 0.9404852450504393, 0.9178728020348156, 0.8741188407710808, 0.8864288557917694, 0.9236362662655573, 0.0401580985332851, 0.026229605667089966, 0.0786888170012699, 0.05245921133417993, 0.10491842266835986, 0.026229605667089966, 0.05245921133417993, 0.6819697473443391, 0.06454118121542164, 0.03475294373138088, 0.1141882436888229, 0.06454118121542164, 0.12411765618350315, 0.41207061852923044, 0.1737647186569044, 0.004964706247340126, 0.009929412494680252, 0.9262145184718766, 0.9551819779564936, 0.9134513238792673, 0.8690456081057845, 0.014249239016820348, 0.014249239016820348, 0.9119512970765022, 0.014249239016820348, 0.04274771705046104, 0.014249239016820348, 0.9383435008749978, 0.941138779648202, 0.040919077376008785, 0.03254180705554527, 0.06508361411109054, 0.09762542116663579, 0.7810033693330863, 0.034445248108692796, 0.034445248108692796, 0.9300216989347054, 0.6576794062049053, 0.18549931969881944, 0.016863574518074496, 0.03372714903614899, 0.050590723554223484, 0.03372714903614899, 0.06459808835007262, 0.16149522087518153, 0.03229904417503631, 0.7105789718507988, 0.18163984017966903, 0.26301448858016074, 0.21215533332985342, 0.10753078538636406, 0.127874447486487, 0.05085915525030733, 0.03487484931449645, 0.010171831050061465, 0.004359356164312056, 0.008718712328624112, 0.10974246745073532, 0.8779397396058826, 0.9333496593297532, 0.9060488473880067, 0.05491205135684889, 0.04322933856284204, 0.04322933856284204, 0.9078161098196829, 0.07591634485790517, 0.07591634485790517, 0.03795817242895259, 0.11387451728685777, 0.7212052761500992, 0.12386649117292511, 0.12386649117292511, 0.017695213024703588, 0.22119016280879486, 0.017695213024703588, 0.46892314515464506, 0.017695213024703588, 0.0723100472257776, 0.225968897580555, 0.0090387559032222, 0.090387559032222, 0.0271162677096666, 0.045193779516111, 0.4790540628707766, 0.0180775118064444, 0.0180775118064444, 0.221170838207503, 0.15701441185723494, 0.2785739565209007, 0.13844281475584155, 0.07428638840557353, 0.0506498102765274, 0.04389650223965708, 0.0168832700921758, 0.011818289064523061, 0.0067533080368703206, 0.8634473873714196, 0.1094368905264355, 0.09811583288576976, 0.2018921945918724, 0.1717027075500971, 0.20943956635231623, 0.09056846112532593, 0.037736858802219136, 0.03396317292199723, 0.015094743520887657, 0.030189487041775313, 0.14850024372209494, 0.04950008124069832, 0.7920012998511731, 0.28134495740523224, 0.28134495740523224, 0.12170138106587655, 0.1059517905749984, 0.06514603339408685, 0.043669319088343934, 0.055123566718073495, 0.017181371444594334, 0.017897261921452433, 0.010022466676013362, 0.27352295601348603, 0.22033793678864153, 0.14435933789600652, 0.08642565624037232, 0.07787806386495089, 0.0427379618771072, 0.09782244607426759, 0.020894114695474628, 0.019944382209316693, 0.014245987292369065, 0.19038199123966942, 0.3946943720822415, 0.10989529575623194, 0.06810412694752402, 0.09132144295236176, 0.0526259162776322, 0.04024334774171874, 0.018573852803870188, 0.009286926401935094, 0.023217316004837736, 0.03704992391174151, 0.9262480977935377, 0.03704992391174151, 0.38290069070751154, 0.18607484969587493, 0.17284286038416827, 0.05044695925088165, 0.06285194923060665, 0.05458195591078998, 0.031425974615303325, 0.01653998663963333, 0.02315598129548666, 0.019847983967559994, 0.799561991280207, 0.03489105694370626, 0.03489105694370626, 0.8373853666489504, 0.06978211388741253, 0.03489105694370626, 0.9494489504477714, 0.03956037293532381, 0.8850665892866704, 0.06808204532974388, 0.06808204532974388, 0.10603173700706349, 0.821745961804742, 0.026507934251765872, 0.026507934251765872, 0.8292775433395851, 0.1124162902835159, 0.16862443542527386, 0.028104072570878973, 0.1124162902835159, 0.028104072570878973, 0.5339773788467005, 0.3783228936679553, 0.18587168254121283, 0.11514175024676901, 0.0345425250740307, 0.06250552156253175, 0.12172127883229866, 0.057570875123384505, 0.018093703610206558, 0.018093703610206558, 0.008224410731912072, 0.8842809890950544, 0.08842809890950544, 0.17187739552877318, 0.20096433938748864, 0.07932802870558762, 0.07932802870558762, 0.17981019839933193, 0.05024108484687216, 0.13221338117597936, 0.08197229632910721, 0.007932802870558761, 0.015865605741117523, 0.9096267830861188, 0.04787509384663783, 0.8896802621468938, 0.02869936329506109, 0.05739872659012218, 0.3727563153814848, 0.2095595205876009, 0.09087094255568534, 0.03616292611909927, 0.0713985977223242, 0.08994368803981101, 0.06768957965882684, 0.021326853865109827, 0.022254108380984166, 0.018545090317486804, 0.1900621851719149, 0.14141531634815097, 0.1312334135710841, 0.2092946681952634, 0.15725383177914387, 0.04185893363905269, 0.050909513885334344, 0.026020418208059778, 0.01810116049256332, 0.03393967592355623, 0.8892777825497116, 0.3091499664592028, 0.26283536474246827, 0.10189212377681589, 0.05441965701716304, 0.046314601716734495, 0.0648404424034283, 0.10536571890557098, 0.020841570772530522, 0.020841570772530522, 0.013894380515020349, 0.9390033214656669, 0.8656112862906455, 0.027922944719053083, 0.08376883415715924, 0.7346898012516769, 0.12170832618571747, 0.18614214593109732, 0.2959182832750778, 0.09307107296554866, 0.13602695279580188, 0.05011519313529543, 0.04295587983025322, 0.03579656652521102, 0.023864377683474013, 0.014318626610084408, 0.29972126073130534, 0.273932624530715, 0.08424287825526172, 0.05902732285912896, 0.0830967166463466, 0.0767928277973134, 0.0630388884903319, 0.01661934332926932, 0.020630908960472257, 0.022350151373844947, 0.27973401779453627, 0.27973401779453627, 0.1416226617286146, 0.06437393714937027, 0.08310090068373253, 0.04213566795231509, 0.05969219626577971, 0.019897398755259903, 0.015215657871669338, 0.014045222650771697, 0.9466226999509972, 0.9217680346994187, 0.17351180432036745, 0.16063637007751333, 0.1440822403367009, 0.20600694788566595, 0.1477609358346592, 0.05456731655304842, 0.05763289613468035, 0.031268911732645725, 0.014714781991833282, 0.009809854661222188, 0.8924773306136289, 0.8655409077424383, 0.27988672929522435, 0.14842478068686138, 0.3032106234031597, 0.03392566415699689, 0.06997168232380609, 0.04028672618643381, 0.04664778821587073, 0.04452743420605842, 0.012722124058873834, 0.021203540098123055, 0.048069433278313714, 0.9133192322879606, 0.42543484774606505, 0.0783695772163804, 0.03358696166416303, 0.01865942314675724, 0.01492753851740579, 0.3358696166416303, 0.01492753851740579, 0.022391307776108687, 0.026123192405460134, 0.022391307776108687, 0.018848689068945823, 0.018848689068945823, 0.037697378137891646, 0.2450329578962957, 0.05654606720683747, 0.527763293930483, 0.05654606720683747, 0.018848689068945823, 0.027577039106865674, 0.2619818715152239, 0.6618489385647761, 0.013788519553432837, 0.013788519553432837, 0.013788519553432837, 0.041909617805530326, 0.8801019739161369, 0.041909617805530326, 0.0965969430041045, 0.8693724870369405, 0.2901605859063939, 0.3041780055153984, 0.08971148549762903, 0.06728361412322177, 0.050462710592416325, 0.07148884000592313, 0.09251496941942994, 0.008410451765402721, 0.014017419609004536, 0.012615677648104081, 0.2439958245365044, 0.26442338193956055, 0.11008183711646942, 0.08624968681290388, 0.07603590811137578, 0.09646346551443197, 0.07149645091069663, 0.022697286003395756, 0.011348643001697878, 0.018157828802716606, 0.034422341190011876, 0.9294032121303206, 0.08302228381372646, 0.08302228381372646, 0.7472005543235382, 0.16242913847551638, 0.06091092692831865, 0.06091092692831865, 0.06091092692831865, 0.5685019846643073, 0.06091092692831865, 0.020303642309439547, 0.8989920813620003, 0.013767557803048837, 0.04130267340914651, 0.04130267340914651, 0.06883778901524418, 0.7296805635615884, 0.04130267340914651, 0.04130267340914651, 0.08659882568565617, 0.012371260812236596, 0.09897008649789277, 0.12371260812236595, 0.5443354757384102, 0.061856304061182976, 0.012371260812236596, 0.024742521624473192, 0.9531470303286115, 0.8658528115698235, 0.02732317450207772, 0.8470184095644093, 0.02732317450207772, 0.02732317450207772, 0.05464634900415544, 0.8637079598152648, 0.01757625126920365, 0.10545750761522191, 0.01757625126920365, 0.0351525025384073, 0.7909313071141643, 0.01757625126920365, 0.9303397457645636, 0.054713516551816915, 0.03282810993109015, 0.10942703310363383, 0.5799632754492593, 0.03282810993109015, 0.07659892317254369, 0.054713516551816915, 0.054713516551816915, 0.010942703310363384, 0.3198299065241318, 0.3416986180813374, 0.041003834169760486, 0.07654049045021957, 0.08337446281184632, 0.043737423114411186, 0.056038573365339336, 0.013667944723253497, 0.013667944723253497, 0.009567561306277447, 0.15025469889509643, 0.5069662359666612, 0.05276119197843081, 0.08372971770490106, 0.0779948055333325, 0.026380595989215404, 0.058496104149999374, 0.021792666251960552, 0.008028877040195993, 0.012616806777450846, 0.13800418230511857, 0.5771083987304958, 0.025091669510021557, 0.016727779673347706, 0.08782084328507545, 0.06691111869339082, 0.03763750426503234, 0.020909724591684633, 0.016727779673347706, 0.012545834755010778, 0.9695281105712985, 0.0635429493337682, 0.9213727653396389, 0.9363328262444317, 0.013570040960064226, 0.013570040960064226, 0.013570040960064226, 0.248974518365127, 0.34374546406540113, 0.10601495620708633, 0.06425148861035535, 0.1188652539291574, 0.0401571803814721, 0.03533831873569544, 0.011244010506812186, 0.011244010506812186, 0.020881733798365488, 0.07518568060919541, 0.037592840304597704, 0.07518568060919541, 0.08771662737739463, 0.5764235513371647, 0.13784041445019157, 0.02506189353639847, 0.1786306708661323, 0.16706465620573524, 0.17734555812608815, 0.11566014660397055, 0.1580688670254264, 0.08096210262277938, 0.05525984782189704, 0.04240872042145587, 0.016706465620573523, 0.007710676440264703, 0.9256969976484644, 0.8848309495524384, 0.9117190845982418, 0.9215977512136952, 0.961456391508532, 0.9762442216375453, 0.9560383037885569, 0.8897335121744804, 0.9398395411331453, 0.9206765641776722, 0.019588863067610048, 0.019588863067610048, 0.06510805328095556, 0.06510805328095556, 0.13021610656191113, 0.6510805328095557, 0.7660993202259617, 0.9711162365870041, 0.1426460279221687, 0.5253548833231092, 0.156562713573112, 0.01739585706367911, 0.06610425684198062, 0.027833371301886577, 0.020875028476414932, 0.013916685650943289, 0.020875028476414932, 0.003479171412735822, 0.35741374216250676, 0.2886803302081785, 0.07167912960951371, 0.04124004717259693, 0.08444390611531753, 0.0648057884140809, 0.05105910602321525, 0.02258383535642213, 0.011782870620741981, 0.0068733411954328225, 0.7528161745269873, 0.04301806711582785, 0.12905420134748355, 0.0860361342316557, 0.9326294561148527, 0.042392248005220574, 0.1294127207143765, 0.776476324286259, 0.9807609053579062, 0.9644846763781059, 0.10381415111561618, 0.16187969326502863, 0.1601201313817131, 0.23754085424759636, 0.08797809416577643, 0.14956276008181993, 0.04574860896620374, 0.02111474259978634, 0.015836056949839757, 0.019355180716470813, 0.33495600299739126, 0.20670147396865038, 0.07346618653102634, 0.06724023851992242, 0.13199009783540325, 0.07844694493990949, 0.05727872170215613, 0.017432654431090995, 0.024903792044415708, 0.008716327215545498, 0.29257929525569343, 0.2155847438726162, 0.2639813190276933, 0.028597976228000106, 0.04179704217938477, 0.06379548543169254, 0.03739735352892322, 0.021998443252307775, 0.01759875460184622, 0.015398910276615442, 0.11616773686421593, 0.143273542132533, 0.18199612108727162, 0.3833535316519126, 0.046467094745686374, 0.03485032105926478, 0.023233547372843187, 0.04259483685021251, 0.011616773686421594, 0.015489031581895457, 0.3640469481750258, 0.16179864363334479, 0.04382046598403088, 0.10280955480868784, 0.09943874973299316, 0.05056207613542025, 0.026966440605557467, 0.12303438526285594, 0.006741610151389367, 0.020224830454168098, 0.15296519743405368, 0.1447523009275273, 0.3439150412107918, 0.11292732696473762, 0.1170337752180008, 0.04003787046931606, 0.05235721522910562, 0.013345956823105354, 0.01437256888642115, 0.009239508569842169, 0.17385944973381964, 0.12207152853651165, 0.43649819294873865, 0.08508015625272025, 0.06658447011082454, 0.040690509512170556, 0.040690509512170556, 0.014796548913516564, 0.007398274456758282, 0.011097411685137424, 0.9147805451259282, 0.9130237771259911, 0.4473607619771154, 0.04066916017973776, 0.48802992215685315, 0.04066916017973776, 0.9508485204519734, 0.9104957214651342, 0.14157606330526679, 0.03861165362870913, 0.019305826814354565, 0.5469984264067126, 0.08365858286220311, 0.07722330725741826, 0.025741102419139416, 0.05148220483827883, 0.012870551209569708, 0.006435275604784854, 0.039250715693542076, 0.1570028627741683, 0.7850143138708415, 0.9051542899452376, 0.8748733272226479, 0.9755757667534323, 0.9044464739269549, 0.832652717243138, 0.9751868833999199, 0.04558574266225424, 0.9117148532450849, 0.04558574266225424, 0.9096494205313945, 0.9542665675630663, 0.9447652910978838, 0.0802870528609553, 0.1605741057219106, 0.7225834757485978, 0.9652140490043082, 0.9342074336445471, 0.026691640961272776, 0.8665143341606967, 0.036104763923362364, 0.07220952784672473, 0.19044647527831873, 0.06348215842610624, 0.6983037426871687, 0.9633133372947638, 0.9555307450426975, 0.8796097817425086, 0.2730495526089674, 0.7021274209944875, 0.08945296011147526, 0.849803121059015, 0.1450203568186348, 0.19800856411775136, 0.1310760917399199, 0.13665379777140588, 0.119920679676948, 0.17569773999180754, 0.030677383173172746, 0.03346623618891572, 0.00836655904722893, 0.019521971110200837, 0.07677388687265736, 0.844512755599231, 0.05718499660142686, 0.08577749490214029, 0.7719974541192626, 0.02859249830071343, 0.02859249830071343, 0.8982907639117917, 0.050949279363296095, 0.9170870285393297, 0.8973925830672279, 0.09283371548971323, 0.9156711516494347, 0.36269807897152573, 0.12089935965717526, 0.1450792315886103, 0.02417987193143505, 0.02417987193143505, 0.31433833510865566, 0.08345694272710691, 0.08345694272710691, 0.7511124845439622, 0.9636091820301594, 0.7745144612310039, 0.03295806218004272, 0.04943709327006408, 0.01647903109002136, 0.11535321763014952, 0.03295806218004272, 0.9596522098194507, 0.9094284993848567, 0.0673650740285079, 0.810749684728418, 0.050671855295526126, 0.012667963823881532, 0.050671855295526126, 0.025335927647763063, 0.025335927647763063, 0.025335927647763063, 0.08348784490031674, 0.04174392245015837, 0.7513906041028506, 0.04174392245015837, 0.04174392245015837, 0.09376440756912892, 0.8438796681221603, 0.3365425033255274, 0.11410668567689554, 0.118439850955765, 0.11266229725060573, 0.15599395003930025, 0.08088575187222975, 0.040442875936114876, 0.020221437968057438, 0.012999495836608354, 0.008666330557738902, 0.9620036581969018, 0.9471769955993873, 0.05746538685605592, 0.11493077371211184, 0.05746538685605592, 0.17239616056816776, 0.5746538685605592, 0.241985961863583, 0.6654613951248532, 0.13452905762394957, 0.8071743457436974, 0.9193862614042106, 0.9063721929351938, 0.04119873604250881, 0.9471314752642533, 0.032659706043594944, 0.24914754472596679, 0.7474426341779004, 0.940565677477529, 0.5213451847898269, 0.044304037442613756, 0.08036546326799704, 0.09994166585891939, 0.055637628416305644, 0.05872860777276707, 0.031940120016768055, 0.046364690346921374, 0.03297044646892187, 0.027818814208152822, 0.5265849120177469, 0.051950081006235126, 0.1369593044709835, 0.042504611732374194, 0.05667281564316559, 0.04722734636930466, 0.018890938547721864, 0.028336407821582796, 0.04486597905083943, 0.04722734636930466, 0.03730578109147153, 0.03730578109147153, 0.8207271840123735, 0.03730578109147153, 0.9040654388180727, 0.05318031993047487, 0.6552319273092125, 0.0583870034235932, 0.045412113773905825, 0.051899558598749514, 0.045412113773905825, 0.09082422754781165, 0.025949779299374757, 0.006487444824843689, 0.006487444824843689, 0.012974889649687378, 0.9147808988771752, 0.2291705473867955, 0.34520626758264134, 0.05656741359547484, 0.09572946916157281, 0.05656741359547484, 0.08412589714198822, 0.09137812965422859, 0.02030625103427302, 0.01015312551713651, 0.011603572019584582, 0.08579568136100409, 0.7721611322490368, 0.9112985316200621, 0.09318167781168861, 0.8386351003051974, 0.3399643174403307, 0.10082591924085853, 0.10858175918246303, 0.10858175918246303, 0.08272895937711469, 0.041364479688557346, 0.10211855923112595, 0.04653503964962701, 0.02585279980534834, 0.04265711967882476, 0.9187892344219537, 0.9465842962151475, 0.27343157237670807, 0.16355952502898974, 0.21100427274732264, 0.0761613055478502, 0.06492439161456082, 0.08240403551078873, 0.06742148359973624, 0.03246219580728041, 0.011236913933289372, 0.01747964389622791, 0.9709244008995856, 0.099811468410382, 0.798491747283056, 0.04176305306235344, 0.9187871673717758, 0.896661905246931, 0.2627917142343514, 0.2564498327445329, 0.15616883168677895, 0.07094979916734374, 0.05033868432543383, 0.08323719455386695, 0.08918270845057173, 0.014269233352091478, 0.006341881489818435, 0.010305557420954957, 0.9442130598353364, 0.13273224059735303, 0.4077458038494226, 0.1107693518654169, 0.0868966467220081, 0.047745410286817634, 0.08307701389906269, 0.08594173851627174, 0.021962888731936112, 0.007639265645890822, 0.016233439497517994, 0.889710006066846, 0.9540058302551035, 0.039569447528480024, 0.07913889505696005, 0.06594907921413339, 0.5144028178702403, 0.1582777901139201, 0.0857338029783734, 0.013189815842826675, 0.02637963168565335, 0.013189815842826675, 0.019784723764240012, 0.2473870166510999, 0.15639409098632753, 0.1706117356214482, 0.10236704137286892, 0.14075468188769477, 0.055448814076970665, 0.07108822317560343, 0.03270058266077757, 0.017061173562144823, 0.008530586781072411, 0.9209141266600127, 0.054171419215294864, 0.9018309932107875, 0.06441649951505625, 0.12606883226158877, 0.2446111670747245, 0.1872216240302699, 0.06585685267396428, 0.09031796938143674, 0.1439442637016648, 0.07902822320875715, 0.02540192888852908, 0.019757055802189286, 0.015993807077962757, 0.016080625441072072, 0.016080625441072072, 0.016080625441072072, 0.9005150247000361, 0.016080625441072072, 0.032161250882144145, 0.016080625441072072, 0.04590854230097968, 0.6886281345146953, 0.02295427115048984, 0.2295427115048984, 0.8889938593475031, 0.068384143026731, 0.08365424177744223, 0.8783695386631434, 0.8089614847661702, 0.9637595381513371, 0.9617759301457812, 0.39373487371263954, 0.17821006538954437, 0.13767853427206678, 0.06176233313139444, 0.07269941295674553, 0.036671385296765446, 0.058545544947467644, 0.021230802013916836, 0.01994408674034612, 0.01994408674034612, 0.44407198733409203, 0.1382372853133675, 0.041593519474818534, 0.07584700610113969, 0.11254717034362663, 0.07095365086880809, 0.04648687470715013, 0.023243437353575064, 0.01345672688891188, 0.03425348662632115, 0.2624839524094586, 0.1312419762047293, 0.021873662700788214, 0.06562098810236465, 0.1312419762047293, 0.04374732540157643, 0.3281049405118232, 0.22414623437698694, 0.40514132202899245, 0.09948736606037388, 0.058733505264558075, 0.05274029044164399, 0.05993214822914089, 0.05513757637080962, 0.02277421632707354, 0.008390500752079725, 0.014383715574993815, 0.9602858618387746, 0.22320811042291902, 0.1594343645877993, 0.22763684277258012, 0.14614816753881602, 0.05934501348545863, 0.06820247818478081, 0.04960180231620422, 0.04163008408681426, 0.009743211169254402, 0.016829182928712147, 0.18437405025499046, 0.13906178366689959, 0.14218676756952653, 0.21406139732994653, 0.07656210561436044, 0.1234368641537648, 0.06718715390647957, 0.021874887318388696, 0.012499935610507827, 0.01874990341576174, 0.8873561555964911, 0.9269265129510016, 0.05302862462028797, 0.9280009308550395, 0.9403102302429024, 0.3347276166246213, 0.08043841949894001, 0.18941950398137486, 0.09600714585357356, 0.07005926859585097, 0.05189575451544516, 0.07265405632162324, 0.01556872635463355, 0.02854266498349484, 0.05708532996698968, 0.36521752123451995, 0.20409214421929056, 0.10419441046984834, 0.05585679736527952, 0.12030694817137128, 0.024705891142335172, 0.06337598162599023, 0.01933504524182753, 0.010741691801015293, 0.03329924458314741, 0.046938573971051244, 0.9387714794210249, 0.9457787649820789, 0.8384449031128453, 0.8287981221531495, 0.056508962874078375, 0.03767264191605225, 0.018836320958026124, 0.018836320958026124, 0.9375780757040566, 0.22748805165644648, 0.7582935055214883, 0.94565629419012, 0.12403860640569371, 0.15504825800711713, 0.2728849340925262, 0.05581737288256217, 0.0434135122419928, 0.0062019303202846855, 0.26668300377224147, 0.031009651601423428, 0.012403860640569371, 0.024807721281138742, 0.9484624106192735, 0.9548032070186953, 0.983764574646307, 0.6977447873844138, 0.03987113070768079, 0.006645188451280132, 0.08638744986664171, 0.10632301522048211, 0.03987113070768079, 0.019935565353840393, 0.006645188451280132, 0.9373437299173013, 0.9221118455438061, 0.9702175146100781, 0.048172176855883965, 0.2890330611353038, 0.048172176855883965, 0.48172176855883964, 0.09634435371176793, 0.9171107302573687, 0.20752267090412727, 0.3757418056521698, 0.051880667726031816, 0.05816923351100537, 0.04559210194105826, 0.10218919400582024, 0.10061705255957686, 0.01886569735492066, 0.025154263139894214, 0.015721414462433882, 0.9604446206963523, 0.3478955170518357, 0.2338236536375603, 0.1367915706503136, 0.044492760003908234, 0.0501726868129178, 0.08472557490105931, 0.05206599574925432, 0.015619798724776295, 0.02271970723603825, 0.012306508086187384, 0.9355984513417521, 0.04924202375482906, 0.13549441703455956, 0.8129665022073573, 0.318094884554021, 0.19003071025305154, 0.08881870153131756, 0.0691959651464916, 0.09294980392812303, 0.05576988235687382, 0.12393307190416404, 0.022721063182430074, 0.012393307190416404, 0.025819389980034177, 0.7780821504558695, 0.026867841076041652, 0.026867841076041652, 0.9403744376614579, 0.026867841076041652, 0.05905926864264007, 0.05905926864264007, 0.8268297609969609, 0.945028564655358, 0.8945136879531073, 0.8599539869947616, 0.06017752007165702, 0.040118346714438015, 0.08023669342887603, 0.7421894142171033, 0.040118346714438015, 0.040118346714438015, 0.9081442155701875, 0.05045245642056598, 0.9325595615140791, 0.8470591982323045, 0.24386262373575057, 0.29146927139731144, 0.10881519465499627, 0.08452608870522033, 0.07675357480129201, 0.05829385427946229, 0.07869670327727409, 0.019431284759820762, 0.013601899331874534, 0.024289105949775954, 0.2703801787968091, 0.11477236422610546, 0.14756446829070702, 0.14354279515070872, 0.129930978369176, 0.058778299738436755, 0.07362755440919973, 0.030935947230756187, 0.01794284939383859, 0.012374378892302475, 0.1817861744799167, 0.3420044977503518, 0.1787050528785622, 0.06470355362844493, 0.024648972810836164, 0.06932523603047672, 0.05237906722302685, 0.04929794562167233, 0.024648972810836164, 0.010783925604740823, 0.9492244300875667, 0.9532954899206125, 0.028038102644723898, 0.023114710770214916, 0.20803239693193426, 0.7396707446468773, 0.03842644365984186, 0.12488594189448604, 0.06724627640472325, 0.14409916372440698, 0.09606610914960464, 0.03842644365984186, 0.45151071300314183, 0.009606610914960465, 0.009606610914960465, 0.028819832744881393, 0.0975172303772174, 0.0487586151886087, 0.7801378430177393, 0.0487586151886087, 0.029490155797328322, 0.9436849855145063, 0.900293129130326, 0.04135169974973437, 0.020675849874867185, 0.889061544619289, 0.020675849874867185, 0.020675849874867185, 0.9595853195899795, 0.951861884842615, 0.9077766634842386, 0.02616585940881309, 0.7762538291281217, 0.02616585940881309, 0.043609765681355155, 0.06977562509016824, 0.00872195313627103, 0.01744390627254206, 0.01744390627254206, 0.01744390627254206, 0.00872195313627103, 0.05051086395547991, 0.9091955511986384, 0.9117636872265149, 0.9286502156188681, 0.3134391011523345, 0.17321634537365851, 0.12372596098118466, 0.09588761976041811, 0.07114242756418118, 0.09279447073588849, 0.06186298049059233, 0.03196253992013937, 0.022683092846550523, 0.012372596098118466, 0.9530564074252855, 0.2634021082594208, 0.2298830022985526, 0.1317010541297104, 0.09079190905935947, 0.11032272670584958, 0.05489743338472898, 0.07337253115843585, 0.015044008187161307, 0.01187684856881156, 0.019002957710098495, 0.060129073594566075, 0.060129073594566075, 0.020043024531522024, 0.04008604906304405, 0.020043024531522024, 0.7816779567293589, 0.03343946933409141, 0.0874570736430083, 0.12346880984895289, 0.4321408344713351, 0.2417930859541994, 0.041156269949650964, 0.012861334359265926, 0.012861334359265926, 0.0051445337437063705, 0.007716800615559556, 0.10321851415809559, 0.10321851415809559, 0.051609257079047795, 0.7225295991066691, 0.9079816988484599, 0.037832570785352494, 0.9597996565923868, 0.03427855916401381, 0.260506556606436, 0.31386332121257354, 0.03452496533338309, 0.043940864969760296, 0.04080223175763456, 0.06904993066676618, 0.20714979200029854, 0.018831799272754413, 0.0031386332121257354, 0.006277266424251471, 0.10084327429068224, 0.857167831470799, 0.05042163714534112, 0.9362218572220233, 0.05201232540122352, 0.3237402115451444, 0.1924941798376534, 0.19374414204439142, 0.05999818592342444, 0.0687479213705905, 0.0812475434379706, 0.038748828408878284, 0.019999395307808147, 0.008749735447166064, 0.012499622067380091, 0.11148627730977008, 0.8361470798232756, 0.297224026241004, 0.19372637424636868, 0.15391958501766279, 0.07695979250883139, 0.07695979250883139, 0.059267886184962114, 0.08226736440599218, 0.02388407353722354, 0.016807311007675824, 0.019461096956256217, 0.9466034722295282, 0.8666865242365511, 0.9023340786377201, 0.11546342214402039, 0.8467317623894828, 0.8585124917315715, 0.06603942244089012, 0.9752422911292487, 0.8817526085193133, 0.20349026268104461, 0.05571757192457174, 0.1332376719935411, 0.363375469073294, 0.11870265323060937, 0.04118255316163998, 0.06056257817888233, 0.004845006254310586, 0.004845006254310586, 0.014535018762931758, 0.8696814912389056, 0.9484773509850393, 0.9194988390437127, 0.01601849152323467, 0.03203698304646934, 0.04805547456970401, 0.6727766439758561, 0.09611094913940801, 0.04805547456970401, 0.04805547456970401, 0.01601849152323467, 0.9180867610035968, 0.8814826262600783, 0.036728442760836595, 0.9822518551711168, 0.2714729139508086, 0.11717068018545537, 0.25909572942417597, 0.06848708771403378, 0.12459699090143495, 0.059410485727836526, 0.0486835924714216, 0.018153203972394494, 0.01237718452663261, 0.019803495242612178, 0.24498887530245217, 0.30623609412806524, 0.10247130841977567, 0.08009251692580167, 0.09540432163220494, 0.05182456977551873, 0.06831420561318378, 0.01766746696892684, 0.014133973575141472, 0.018845298100188628, 0.9555360639457167, 0.9267744843665477, 0.027274604391797408, 0.013637302195898704, 0.06818651097949352, 0.20455953293848056, 0.12273571976308834, 0.027274604391797408, 0.4363936702687585, 0.04091190658769611, 0.013637302195898704, 0.027274604391797408, 0.045491009755886457, 0.0505455663954294, 0.07076379295360116, 0.5610557869892663, 0.1263639159885735, 0.03032733983725764, 0.020218226558171758, 0.07076379295360116, 0.01516366991862882, 0.01516366991862882, 0.9538612188955582, 0.022024328708018504, 0.9690704631528142, 0.9035091874478494, 0.9493506610823799, 0.9529540823027165, 0.9273558884080094, 0.06484225199071819, 0.12968450398143638, 0.06484225199071819, 0.7132647718979002, 0.1546113519695547, 0.09276681118173281, 0.14336689000813252, 0.30078935746804275, 0.10963350412386605, 0.08995569569137728, 0.05903342529746634, 0.028111154903555396, 0.00843334647106662, 0.014055577451777698, 0.9685279768734649, 0.8750088079308602, 0.11668638700333613, 0.8168047090233529, 0.9441746668953914, 0.9547449639339981, 0.8764477136378234, 0.861677690073727, 0.9070713145770611, 0.9214971188138755, 0.08320871124403124, 0.8320871124403125, 0.8999180212525232, 0.03912687048924014, 0.03912687048924014, 0.9193404263497889, 0.05779248710465605, 0.07705664947287473, 0.04816040592054671, 0.2311699484186242, 0.1830095424980775, 0.07705664947287473, 0.06742456828876539, 0.24080202960273356, 0.019264162368218683, 0.009632081184109341, 0.9770932383039231, 0.9041244620348652, 0.9145641593998254, 0.9631459634974234, 0.8737617984617836, 0.932684892960397, 0.0925861967953809, 0.03703447871815235, 0.018517239359076176, 0.62958613820859, 0.1851723935907618, 0.03703447871815235, 0.9579424587778391, 0.9149865713157642, 0.038124440471490176, 0.038124440471490176, 0.9535948412177206, 0.12070378307386805, 0.7022765560661414, 0.010973071188533459, 0.010973071188533459, 0.06583842713120075, 0.021946142377066918, 0.05486535594266729, 0.018820689411550233, 0.037641378823100466, 0.018820689411550233, 0.018820689411550233, 0.7904689552851097, 0.018820689411550233, 0.07528275764620093, 0.7928155746334562, 0.06744850756245258, 0.29227686610396114, 0.044965671708301715, 0.022482835854150857, 0.24731119439565943, 0.022482835854150857, 0.022482835854150857, 0.011241417927075429, 0.28103544817688575, 0.8349803274910459, 0.914435352830366, 0.3539691661129298, 0.17493851851245953, 0.15140877625639773, 0.04399038769611555, 0.0890038076642338, 0.08695774312022841, 0.05933587177615586, 0.014322451808037623, 0.009207290448024185, 0.017391548624045683, 0.9637541537922807, 0.9082937270650049, 0.07569114392208375, 0.08296168151462456, 0.5248921772752208, 0.027122088187473414, 0.10529751884548502, 0.13241960703295844, 0.057435010279355464, 0.03350375599629069, 0.012763335617634548, 0.006381667808817274, 0.017549586474247505, 0.052502953675606354, 0.11118272543069581, 0.16986249718578528, 0.28413363165622263, 0.29031044973570574, 0.03397249943715706, 0.027795681357673952, 0.0123536361589662, 0.0061768180794831, 0.0123536361589662, 0.9218888457583804, 0.046094442287919014, 0.09770173325060645, 0.8793155992554581, 0.7941687911812444, 0.04331829770079515, 0.014439432566931715, 0.02887886513386343, 0.014439432566931715, 0.04331829770079515, 0.05775773026772686, 0.31391665775130473, 0.20271734011526263, 0.1072630586046778, 0.0560916911969416, 0.122024029972294, 0.06593233877535241, 0.07970924538512754, 0.012792841851934049, 0.020665359914662694, 0.019681295156821613, 0.2542311550956958, 0.6355778877392396, 0.24555804695202438, 0.3606633814607858, 0.07673688967250762, 0.09592111209063452, 0.06714477846344416, 0.05371582277075533, 0.04412371156169188, 0.021102644659939596, 0.019184222418126905, 0.015347377934501524, 0.09307887177308914, 0.5475227751358185, 0.09307887177308914, 0.09307887177308914, 0.032851366508149106, 0.027376138756790923, 0.07117796076765641, 0.016425683254074553, 0.016425683254074553, 0.01095045550271637, 0.04591778338229057, 0.09183556676458114, 0.8265201008812303, 0.05762389637406406, 0.8643584456109609, 0.20823395583809504, 0.1414419322673853, 0.09822356407457312, 0.09953321159556744, 0.17680241533423163, 0.04452801571380648, 0.12441651449445928, 0.052385900839772334, 0.03667013058784063, 0.01702541777292601, 0.07664035163759247, 0.8813640438323135, 0.05680253674793865, 0.04260190256095399, 0.014200634186984662, 0.05680253674793865, 0.05680253674793865, 0.07100317093492331, 0.6674298067882791, 0.028401268373969325, 0.014200634186984662, 0.9182693586367836, 0.8800010772525855, 0.04321225865710917, 0.04321225865710917, 0.8642451731421833, 0.9046862610509081, 0.05658597643935238, 0.02829298821967619, 0.8770826348099618, 0.0676989289913651, 0.11401924882756229, 0.13183475645686887, 0.34205774648268683, 0.18171817781892738, 0.06413582746550378, 0.042757218310335854, 0.02494171068102925, 0.007126203051722643, 0.02494171068102925, 0.0817504041633321, 0.899254445796653, 0.9573620903014869, 0.21210316475927063, 0.03348997338304273, 0.12279656907115669, 0.12279656907115669, 0.011163324461014245, 0.04465329784405698, 0.03348997338304273, 0.02232664892202849, 0.3795530316744843, 0.07616275941184615, 0.22848827823553847, 0.6093020752947692, 0.9174457103503657, 0.09899736690913469, 0.8744767410306897, 0.9135596118326063, 0.09616664021585819, 0.8654997619427237, 0.90710662420283, 0.32911221976748667, 0.40347230289486863, 0.06058969736305194, 0.045442273022288954, 0.059212658786618945, 0.03167188725795897, 0.03580300298725796, 0.013770385764329988, 0.00963927003503099, 0.012393347187896989, 0.8883385222835842, 0.19719098851272862, 0.039438197702545724, 0.11831459310763719, 0.6310111632407316, 0.9453431586100942, 0.510532683439624, 0.10764243325534241, 0.12917091990641089, 0.05843446376718588, 0.030754980930097833, 0.06458545995320544, 0.0553589656741761, 0.024603984744078267, 0.015377490465048917, 0.006150996186019567, 0.018966520964720394, 0.07586608385888158, 0.8345269224476973, 0.03793304192944079, 0.9184964119220186, 0.904679552393577, 0.062391693268522556, 0.9158836552567368, 0.046100905663028054, 0.875917207597533, 0.8624545266478909, 0.1034945431977469, 0.25551769022451354, 0.2489993818004188, 0.06127209918649049, 0.10168561141587784, 0.12906250679707573, 0.07170139266504207, 0.08604167119805048, 0.02085858695710315, 0.013036616848189467, 0.01173295516337052, 0.8561672306219531, 0.9159481996448242, 0.9229556207591916, 0.04614778103795958, 0.3139999913333818, 0.6279999826667636, 0.8645348337252624, 0.8365840240957555, 0.9098179607182684, 0.03977410572006673, 0.8352562201214014, 0.07954821144013347, 0.21258257164626246, 0.7558491436311554, 0.023620285738473606, 0.951587270452419, 0.9249452143102722, 0.13274706717662896, 0.14358356245635376, 0.10294670515738572, 0.20589341031477143, 0.18151129593539062, 0.10023758133745451, 0.05147335257869286, 0.04876422875876166, 0.016254742919587218, 0.01760930482955282, 0.07654649164935894, 0.035170009676732485, 0.05792707476167703, 0.36618186545774406, 0.15309298329871787, 0.0827529639452529, 0.02482588918357587, 0.1737812242850311, 0.012412944591787935, 0.01655059278905058, 0.7562506774073311, 0.030502683161977497, 0.8235724453733925, 0.030502683161977497, 0.06100536632395499, 0.7548768768892901, 0.9665701095386028, 0.9225743623686585, 0.9164283930419214, 0.05897026644578833, 0.009828377740964723, 0.03931351096385889, 0.6585013086446364, 0.1375972883735061, 0.029485133222894165, 0.009828377740964723, 0.03931351096385889, 0.009828377740964723, 0.009828377740964723, 0.9524704067564154, 0.019049408135128308, 0.1845238605530687, 0.48237733624896706, 0.040682425948708065, 0.10606489622341746, 0.05085303243588508, 0.05375892000364994, 0.04794714486812022, 0.008717662703294585, 0.013076494054941878, 0.010170606487177016, 0.15111605057708188, 0.6233537086304628, 0.025186008429513646, 0.056668518966405707, 0.05037201685902729, 0.03148251053689206, 0.025186008429513646, 0.012593004214756823, 0.012593004214756823, 0.012593004214756823, 0.04143130187911471, 0.04143130187911471, 0.8700573394614088, 0.9568843485593665, 0.23521120434550527, 0.12307563018078764, 0.15316078422498017, 0.11350308116672637, 0.10940056016070013, 0.17093837525109395, 0.045127731066288805, 0.023247619034148778, 0.00820504201205251, 0.01641008402410502, 0.15440845368253164, 0.1691366446491731, 0.20857018820501966, 0.10927367491379161, 0.12970310109332658, 0.12352676294602531, 0.05558704332571139, 0.02898127899887517, 0.012352676294602532, 0.008551852819340214, 0.8868253936409423, 0.04926807742449679, 0.27498153438845196, 0.14228695674751293, 0.11670727912998252, 0.13749076719422598, 0.09272633136354776, 0.03836951642629562, 0.11990473883217383, 0.020783488064243464, 0.025579677617530418, 0.030375867170817368, 0.04183695755703071, 0.010459239389257677, 0.04183695755703071, 0.5647989270199145, 0.21964402717441123, 0.010459239389257677, 0.010459239389257677, 0.020918478778515354, 0.07321467572480374, 0.010459239389257677, 0.05777635388981118, 0.016507529682803192, 0.04126882420700798, 0.05777635388981118, 0.08253764841401597, 0.016507529682803192, 0.7015700115191357, 0.008253764841401596, 0.016507529682803192, 0.9568536726726353, 0.8754638975307686, 0.20427426433824103, 0.49842920498530807, 0.06128227930147231, 0.07353873516176677, 0.03268388229411857, 0.03268388229411857, 0.024512911720588924, 0.010213713216912052, 0.04085485286764821, 0.022470169077206514, 0.014681247201271761, 0.029362494402543522, 0.058724988805087044, 0.6459748768559574, 0.10276873040890233, 0.08808748320763056, 0.04404374160381528, 0.014681247201271761, 0.014681247201271761, 0.12183757501940151, 0.09137818126455113, 0.08122505001293434, 0.020306262503233585, 0.1522969687742519, 0.46704403757437246, 0.020306262503233585, 0.010153131251616793, 0.010153131251616793, 0.020306262503233585, 0.07207148628116858, 0.8648578353740229, 0.9519974931996837, 0.9341625827869683, 0.9109159881629783, 0.21891009291887256, 0.1949418345700909, 0.13502118869813673, 0.062317471706832335, 0.16218521482675596, 0.06950794921146684, 0.071904775046345, 0.048735458642522725, 0.014380955009269001, 0.02237037445886289, 0.32212238436056007, 0.6442447687211201, 0.04576213954492969, 0.9152427908985938, 0.9771618285197151, 0.9578336280059696, 0.07081083626733108, 0.19427588411806218, 0.5701180150754348, 0.027234937025896567, 0.014525299747144836, 0.021787949620717253, 0.061732523925365546, 0.009078312341965522, 0.009078312341965522, 0.021787949620717253, 0.18241526828340263, 0.18241526828340263, 0.44351947582631224, 0.04649800956243596, 0.03219092969707105, 0.010730309899023684, 0.03219092969707105, 0.010730309899023684, 0.039344469629753506, 0.021460619798047368, 0.9360554165671792, 0.9530625333259021, 0.5614214771669045, 0.1300854642215998, 0.030809715210378903, 0.07188933549088411, 0.047926223660589407, 0.06846603380084201, 0.04107962028050521, 0.013693206760168402, 0.030809715210378903, 0.0034233016900421004, 0.9613523615217033, 0.09063776378551512, 0.06866497256478418, 0.09613096159069785, 0.26642009355136265, 0.2856462858695022, 0.046692181344053243, 0.046692181344053243, 0.06866497256478418, 0.016479593415548204, 0.01098639561036547, 0.8675455211037956, 0.9468658198344566, 0.023221483847033517, 0.6966445154110055, 0.18577187077626814, 0.06966445154110056, 0.2755617928733974, 0.4041572962143162, 0.08164793862915479, 0.0673595493690527, 0.04286516778030626, 0.04286516778030626, 0.046947564711764, 0.020411984657288697, 0.010205992328644348, 0.006123595397186609, 0.2655960323265605, 0.17232652264666465, 0.2780319669505466, 0.0586265489416488, 0.07994529401133928, 0.056849986852507924, 0.030201555515394836, 0.022207026114260908, 0.014212496713126981, 0.022207026114260908, 0.2965101302203892, 0.05046980939921518, 0.21134232685921356, 0.06624162483646992, 0.04100672013686234, 0.22395977920901736, 0.02208054161215664, 0.02838926778705854, 0.02838926778705854, 0.02838926778705854, 0.37674797199022786, 0.05382113885574684, 0.06624140166861149, 0.033120700834305745, 0.04140087604288218, 0.37674797199022786, 0.02484052562572931, 0.004140087604288218, 0.008280175208576436, 0.008280175208576436, 0.9039841275015723, 0.32288566848306177, 0.20763469333046747, 0.09238371817787319, 0.07043115148214095, 0.07408991259809632, 0.06677239036618557, 0.11342159459461659, 0.017379115300788027, 0.019208495858765714, 0.015549734742810338, 0.9220043135704834, 0.15786162613177077, 0.035080361362615727, 0.035080361362615727, 0.7191474079336223, 0.017540180681307863, 0.9462205217147882, 0.0743564806332287, 0.7022556504249376, 0.04130915590734928, 0.0743564806332287, 0.008261831181469855, 0.03304732472587942, 0.04130915590734928, 0.01652366236293971, 0.008261831181469855, 0.9414066161913355, 0.034866911710790205, 0.7733335434132994, 0.1546667086826599, 0.9200119802581204, 0.9226692500400498, 0.8587527189842813, 0.08587527189842813, 0.017175054379685625, 0.7271589427319001, 0.72356053946857, 0.10831744602822906, 0.012998093523387487, 0.04332697841129162, 0.02166348920564581, 0.030328884887904133, 0.017330791364516648, 0.017330791364516648, 0.017330791364516648, 0.008665395682258324, 0.049675184246889645, 0.049675184246889645, 0.8693157243205687, 0.887459107240691, 0.13358595832096284, 0.1455488799616461, 0.12361685695372682, 0.31502360320465866, 0.12162303668027961, 0.033894944648602515, 0.057820787929968996, 0.04386404601583855, 0.01196292164068324, 0.01196292164068324, 0.09697024328993535, 0.11900893494673885, 0.09256250495857465, 0.4099196648165449, 0.14545536493490305, 0.05730059830768908, 0.030854168319524887, 0.02644642998816419, 0.008815476662721396, 0.013223214994082095, 0.2776502309755376, 0.17171447292808314, 0.2064515470785275, 0.07908227519356482, 0.07119868389701008, 0.05863421026812595, 0.08622677980606758, 0.026360758397854945, 0.015520820365092163, 0.0071445046125027415, 0.8096176634843784, 0.20934458451969376, 0.3260944489633691, 0.09930448240036754, 0.0845430052867994, 0.10735619718958654, 0.0590459084542726, 0.0550200510596631, 0.020129286973047476, 0.018787334508177645, 0.018787334508177645, 0.026640817358390433, 0.026640817358390433, 0.053281634716780865, 0.6926612513181513, 0.11544354188635854, 0.026640817358390433, 0.026640817358390433, 0.01776054490559362, 0.00888027245279681, 0.00888027245279681, 0.03494203730597422, 0.14294469806989454, 0.14929779576188984, 0.3653031172897305, 0.1302385026859039, 0.04764823268996485, 0.06035442807395547, 0.03494203730597422, 0.019059293075985938, 0.015882744229988283, 0.17946348153915906, 0.12818820109939932, 0.19655524168574565, 0.17262677748052443, 0.1213514970407647, 0.09827762084287282, 0.05554822047640638, 0.014527996124598591, 0.01794634815391591, 0.015382584131927921, 0.18577142612420555, 0.1605209410199446, 0.2020038808340876, 0.08116227354941019, 0.17675339572982665, 0.04689375805077033, 0.0703406370761555, 0.037875727656391425, 0.021643272946509386, 0.01623245470988204, 0.3100615026018112, 0.14993584398115753, 0.14192956105012486, 0.12664483909088065, 0.08297420492161145, 0.06259457564261917, 0.061866731739798016, 0.02401884879309805, 0.019651785376171134, 0.020379629278992287], \"Term\": [\"-page\", \"-page\", \"aaron\", \"aaron\", \"aaron\", \"aaron\", \"abby\", \"abby\", \"abby\", \"abby\", \"abby\", \"abby\", \"abby\", \"acclaimed\", \"acclaimed\", \"acclaimed\", \"acclaimed\", \"acclaimed\", \"acclaimed\", \"acclaimed\", \"acclaimed\", \"acclaimed\", \"acclaimed\", \"accusations\", \"addison\", \"adventure\", \"adventure\", \"adventure\", \"adventure\", \"adventure\", \"adventure\", \"adventure\", \"adventure\", \"adventure\", \"adventure\", \"age-old\", \"age-old\", \"age-old\", \"aladdin\", \"alcoholic\", \"alcoholic\", \"alcoholic\", \"alexander\", \"alexander\", \"alexander\", \"alexander\", \"alexander\", \"alice\", \"alice\", \"alice\", \"alice\", \"alice\", \"alice\", \"alice\", \"alice\", \"alice\", \"alice\", \"allegedly\", \"also\", \"also\", \"also\", \"also\", \"also\", \"also\", \"also\", \"also\", \"also\", \"also\", \"alvin\", \"amanda\", \"amanda\", \"amanda\", \"amber\", \"amber\", \"amber\", \"amber\", \"ambiguous\", \"ancestral\", \"ancestral\", \"ancient\", \"ancient\", \"ancient\", \"ancient\", \"ancient\", \"ancient\", \"ancient\", \"ancient\", \"ancient\", \"ancient\", \"andersen\", \"andersen\", \"andersen\", \"andersen\", \"angela\", \"angela\", \"angie\", \"anita\", \"anna\", \"anna\", \"anna\", \"annie\", \"annie\", \"annie\", \"annja\", \"annja\", \"annja\", \"archaeologist\", \"archaeologist\", \"archaeologist\", \"archer\", \"archer\", \"archer\", \"archer\", \"archer\", \"archer\", \"archipelago\", \"archipelago\", \"argonauts\", \"arrow\", \"art\", \"art\", \"art\", \"art\", \"art\", \"art\", \"art\", \"art\", \"art\", \"art\", \"arthur\", \"arthur\", \"arthur\", \"arthur\", \"arthur\", \"arthur\", \"arthur\", \"arthur\", \"arthur\", \"arthur\", \"arthurian\", \"arthurian\", \"arthurian\", \"artim\\u00e9\", \"artim\\u00e9\", \"artistic\", \"artistic\", \"asher\", \"asher\", \"aspire\", \"assassinate\", \"assassinate\", \"assassinate\", \"assured\", \"astray\", \"astrid\", \"auction\", \"audrey\", \"audrey\", \"audrey\", \"aurora\", \"award-winning\", \"award-winning\", \"award-winning\", \"award-winning\", \"award-winning\", \"award-winning\", \"award-winning\", \"award-winning\", \"award-winning\", \"back\", \"back\", \"back\", \"back\", \"back\", \"back\", \"back\", \"back\", \"back\", \"back\", \"bad\", \"bad\", \"bad\", \"bad\", \"bad\", \"bad\", \"bad\", \"bad\", \"bad\", \"bad\", \"baggins\", \"bane\", \"bane\", \"bane\", \"bane\", \"bane\", \"bane\", \"bane\", \"bane\", \"baron\", \"barrie\", \"barrie\", \"bath\", \"bath\", \"batman\", \"battle\", \"battle\", \"battle\", \"battle\", \"battle\", \"battle\", \"battle\", \"battle\", \"battle\", \"battle\", \"baum\", \"baum\", \"bea\", \"bea\", \"become\", \"become\", \"become\", \"become\", \"become\", \"become\", \"become\", \"become\", \"become\", \"become\", \"belt\", \"beowulf\", \"beowulf\", \"beowulf\", \"best\", \"best\", \"best\", \"best\", \"best\", \"best\", \"best\", \"best\", \"best\", \"best\", \"best-seller\", \"betrothed\", \"betrothed\", \"betrothed\", \"betrothed\", \"bickering\", \"bit\", \"bit\", \"bit\", \"bit\", \"bit\", \"bit\", \"bit\", \"bit\", \"bit\", \"blame\", \"blame\", \"blood\", \"blood\", \"blood\", \"blood\", \"blood\", \"blood\", \"blood\", \"blood\", \"blood\", \"blood\", \"bloodline\", \"books\", \"books\", \"books\", \"books\", \"books\", \"books\", \"books\", \"books\", \"books\", \"books\", \"boring\", \"boring\", \"boring\", \"boring\", \"boring\", \"boy\", \"boy\", \"boy\", \"boy\", \"boy\", \"boy\", \"boy\", \"boy\", \"boy\", \"boy\", \"bree\", \"bree\", \"bree\", \"bree\", \"bridges\", \"bridget\", \"bridget\", \"britain\", \"britain\", \"britain\", \"britain\", \"britain\", \"britain\", \"britain\", \"britain\", \"britain\", \"britain\", \"brothers\", \"brothers\", \"brothers\", \"brothers\", \"brothers\", \"brothers\", \"brothers\", \"brothers\", \"brothers\", \"brothers\", \"bull\", \"burroughs\", \"burroughs\", \"burton\", \"burton\", \"burton\", \"butler\", \"butler\", \"butler\", \"button\", \"button\", \"calla\", \"calla\", \"cameron\", \"cards\", \"cards\", \"cards\", \"cards\", \"cards\", \"cards\", \"cards\", \"carlos\", \"carlos\", \"carter\", \"carter\", \"carter\", \"carter\", \"carter\", \"carter\", \"carter\", \"carter\", \"carter\", \"cassandra\", \"cassandra\", \"cassandra\", \"cassandra\", \"cassandra\", \"cassandra\", \"cassandra\", \"castle\", \"castle\", \"castle\", \"castle\", \"castle\", \"castle\", \"castle\", \"castle\", \"castle\", \"castle\", \"cathedral\", \"catherine\", \"cats\", \"cats\", \"cats\", \"cats\", \"cats\", \"cats\", \"cats\", \"cats\", \"cats\", \"cats\", \"chaos\", \"chaos\", \"chaos\", \"chaos\", \"chaos\", \"chaos\", \"chaos\", \"chaos\", \"chaos\", \"chaos\", \"characters\", \"characters\", \"characters\", \"characters\", \"characters\", \"characters\", \"characters\", \"characters\", \"characters\", \"characters\", \"charlie\", \"charlie\", \"charlie\", \"charlie\", \"charlie\", \"charlie\", \"charlie\", \"charlie\", \"chases\", \"cheshire\", \"chest\", \"children\", \"children\", \"children\", \"children\", \"children\", \"children\", \"children\", \"children\", \"children\", \"children\", \"chloe\", \"chloe\", \"chloe\", \"chloe\", \"chloe\", \"ciel\", \"cinderella\", \"cinderella\", \"cinderella\", \"cinderella\", \"cinderella\", \"cinderella\", \"city\", \"city\", \"city\", \"city\", \"city\", \"city\", \"city\", \"city\", \"city\", \"city\", \"claire\", \"claire\", \"claire\", \"claire\", \"claire\", \"claire\", \"claire\", \"claire\", \"clans\", \"clans\", \"clans\", \"clans\", \"clans\", \"clans\", \"clans\", \"clans\", \"clans\", \"clans\", \"clare\", \"clare\", \"classic\", \"classic\", \"classic\", \"classic\", \"classic\", \"classic\", \"classic\", \"classic\", \"classic\", \"classic\", \"classics\", \"classics\", \"classics\", \"classics\", \"classics\", \"classics\", \"classics\", \"classics\", \"classics\", \"clearer\", \"cliff\", \"cliff\", \"clio\", \"closes\", \"clumsy\", \"colin\", \"colin\", \"colleague\", \"collectible\", \"collecting\", \"collecting\", \"collecting\", \"collecting\", \"collecting\", \"collecting\", \"collecting\", \"collecting\", \"collection\", \"collection\", \"collection\", \"collection\", \"collection\", \"collection\", \"collection\", \"collection\", \"collection\", \"collection\", \"collects\", \"collects\", \"collects\", \"collects\", \"collects\", \"collects\", \"comic\", \"comic\", \"comic\", \"comic\", \"comic\", \"comic\", \"comic\", \"comic\", \"comic\", \"comic\", \"comics\", \"comics\", \"comics\", \"comics\", \"comics\", \"comics\", \"comprehensive\", \"comprehensive\", \"concerned\", \"conference\", \"conference\", \"conjure\", \"conjuring\", \"constance\", \"constantine\", \"constructs\", \"contending\", \"conventional\", \"cookery\", \"cop\", \"cops\", \"cops\", \"corwin\", \"could\", \"could\", \"could\", \"could\", \"could\", \"could\", \"could\", \"could\", \"could\", \"could\", \"coven\", \"coven\", \"coven\", \"coven\", \"coven\", \"coven\", \"coven\", \"creed\", \"creed\", \"crossing\", \"crossing\", \"crystal\", \"crystal\", \"crystal\", \"crystal\", \"crystal\", \"crystal\", \"crystal\", \"cup\", \"cupboard\", \"d.c.\", \"dad\", \"dad\", \"dad\", \"dad\", \"dad\", \"dad\", \"dad\", \"dad\", \"dangerous\", \"dangerous\", \"dangerous\", \"dangerous\", \"dangerous\", \"dangerous\", \"dangerous\", \"dangerous\", \"dangerous\", \"dangerous\", \"dark\", \"dark\", \"dark\", \"dark\", \"dark\", \"dark\", \"dark\", \"dark\", \"dark\", \"dark\", \"darke\", \"darth\", \"darth\", \"darth\", \"darth\", \"darth\", \"date\", \"date\", \"date\", \"date\", \"date\", \"date\", \"date\", \"date\", \"date\", \"day\", \"day\", \"day\", \"day\", \"day\", \"day\", \"day\", \"day\", \"day\", \"day\", \"daydreaming\", \"dead\", \"dead\", \"dead\", \"dead\", \"dead\", \"dead\", \"dead\", \"dead\", \"dead\", \"dead\", \"death\", \"death\", \"death\", \"death\", \"death\", \"death\", \"death\", \"death\", \"death\", \"death\", \"debate\", \"deck\", \"deck\", \"deck\", \"deep\", \"deep\", \"deep\", \"deep\", \"deep\", \"deep\", \"deep\", \"deep\", \"deep\", \"deep\", \"delia\", \"delia\", \"deltora\", \"desired\", \"details\", \"details\", \"details\", \"details\", \"details\", \"details\", \"details\", \"details\", \"details\", \"details\", \"determined\", \"determined\", \"determined\", \"determined\", \"determined\", \"determined\", \"determined\", \"determined\", \"determined\", \"determined\", \"deverry\", \"devised\", \"devoured\", \"dialogue\", \"disappearances\", \"disappearances\", \"disney\", \"disney\", \"disney\", \"disney\", \"disney\", \"disney\", \"disney\", \"doctor\", \"doctor\", \"doctor\", \"doctor\", \"doctor\", \"doctor\", \"doctor\", \"doctor\", \"doctor\", \"dolphins\", \"dome\", \"donald\", \"dons\", \"dorothy\", \"dorothy\", \"dorothy\", \"dorothy\", \"dorothy\", \"dorothy\", \"dragonets\", \"dreamer\", \"dreamer\", \"drizzt\", \"drizzt\", \"drizzt\", \"drizzt\", \"duck\", \"duck\", \"duck\", \"dune\", \"dune\", \"dune\", \"dune\", \"dune\", \"dune\", \"earl\", \"earl\", \"earl\", \"earl\", \"earth\", \"earth\", \"earth\", \"earth\", \"earth\", \"earth\", \"earth\", \"earth\", \"earth\", \"earth\", \"ecological\", \"ecological\", \"eighty\", \"elders\", \"elders\", \"ellison\", \"ellison\", \"ellison\", \"elspeth\", \"elspeth\", \"elspeth\", \"elspeth\", \"elspeth\", \"emily\", \"emily\", \"emily\", \"emily\", \"emily\", \"emily\", \"emily\", \"emma\", \"emma\", \"emma\", \"emma\", \"emma\", \"emma\", \"emma\", \"emma\", \"emma\", \"end\", \"end\", \"end\", \"end\", \"end\", \"end\", \"end\", \"end\", \"end\", \"end\", \"enigma\", \"epic\", \"epic\", \"epic\", \"epic\", \"epic\", \"epic\", \"epic\", \"epic\", \"epic\", \"epic\", \"eva\", \"eva\", \"eva\", \"even\", \"even\", \"even\", \"even\", \"even\", \"even\", \"even\", \"even\", \"even\", \"even\", \"ever\", \"ever\", \"ever\", \"ever\", \"ever\", \"ever\", \"ever\", \"ever\", \"ever\", \"ever\", \"every\", \"every\", \"every\", \"every\", \"every\", \"every\", \"every\", \"every\", \"every\", \"every\", \"evie\", \"evie\", \"evie\", \"evil\", \"evil\", \"evil\", \"evil\", \"evil\", \"evil\", \"evil\", \"evil\", \"evil\", \"evil\", \"evvy\", \"excellent\", \"excellent\", \"excellent\", \"excellent\", \"excellent\", \"exorcist\", \"exorcist\", \"expand\", \"expand\", \"expand\", \"expanded\", \"expanded\", \"expanded\", \"expanded\", \"extraterrestrial\", \"fables\", \"fables\", \"fables\", \"fables\", \"fables\", \"fables\", \"face\", \"face\", \"face\", \"face\", \"face\", \"face\", \"face\", \"face\", \"face\", \"face\", \"factory\", \"factory\", \"fairy\", \"fairy\", \"fairy\", \"fairy\", \"fairy\", \"fairy\", \"fairy\", \"fairy\", \"fairy\", \"fairy\", \"falcon\", \"falcon\", \"false\", \"false\", \"false\", \"family\", \"family\", \"family\", \"family\", \"family\", \"family\", \"family\", \"family\", \"family\", \"family\", \"fantasy\", \"fantasy\", \"fantasy\", \"fantasy\", \"fantasy\", \"fantasy\", \"fantasy\", \"fantasy\", \"fantasy\", \"fantasy\", \"faolan\", \"father\", \"father\", \"father\", \"father\", \"father\", \"father\", \"father\", \"father\", \"father\", \"father\", \"felix\", \"fey\", \"fey\", \"fey\", \"fief\", \"final\", \"final\", \"final\", \"final\", \"final\", \"final\", \"final\", \"final\", \"final\", \"final\", \"find\", \"find\", \"find\", \"find\", \"find\", \"find\", \"find\", \"find\", \"find\", \"find\", \"finds\", \"finds\", \"finds\", \"finds\", \"finds\", \"finds\", \"finds\", \"finds\", \"finds\", \"finds\", \"finger\", \"fiona\", \"first\", \"first\", \"first\", \"first\", \"first\", \"first\", \"first\", \"first\", \"first\", \"first\", \"fog\", \"folktales\", \"forces\", \"forces\", \"forces\", \"forces\", \"forces\", \"forces\", \"forces\", \"forces\", \"forces\", \"forces\", \"foreigner\", \"foreigner\", \"forest\", \"forest\", \"forest\", \"forest\", \"forest\", \"forest\", \"forest\", \"forest\", \"forest\", \"forest\", \"format\", \"format\", \"format\", \"format\", \"format\", \"format\", \"format\", \"format\", \"frank\", \"frank\", \"frank\", \"frank\", \"frank\", \"frank\", \"frankenstein\", \"frankenstein\", \"frankenstein\", \"frannie\", \"frannie\", \"friend\", \"friend\", \"friend\", \"friend\", \"friend\", \"friend\", \"friend\", \"friend\", \"friend\", \"friend\", \"friends\", \"friends\", \"friends\", \"friends\", \"friends\", \"friends\", \"friends\", \"friends\", \"friends\", \"friends\", \"fritz\", \"fritz\", \"ga'hoole\", \"ga'hoole\", \"ga'hoole\", \"gabriel\", \"gabriel\", \"gabriel\", \"gabriel\", \"gabriel\", \"gabriel\", \"gabriel\", \"gage\", \"gaiman\", \"gaiman\", \"gaiman\", \"gaiman\", \"gaiman\", \"gaiman\", \"gaiman\", \"galaxy\", \"galaxy\", \"galaxy\", \"galaxy\", \"galaxy\", \"galaxy\", \"galaxy\", \"galaxy\", \"gary\", \"gatekeeper\", \"gateway\", \"gateway\", \"gateway\", \"gateway\", \"gateway\", \"gem\", \"gene\", \"gene\", \"gene\", \"gene\", \"gene\", \"gene\", \"genie\", \"george\", \"george\", \"george\", \"george\", \"george\", \"george\", \"george\", \"george\", \"george\", \"get\", \"get\", \"get\", \"get\", \"get\", \"get\", \"get\", \"get\", \"get\", \"get\", \"girl\", \"girl\", \"girl\", \"girl\", \"girl\", \"girl\", \"girl\", \"girl\", \"girl\", \"girl\", \"girls\", \"girls\", \"girls\", \"girls\", \"girls\", \"girls\", \"girls\", \"girls\", \"girls\", \"girls\", \"glen\", \"goblin\", \"goblin\", \"goblins\", \"goblins\", \"goblins\", \"goblins\", \"good\", \"good\", \"good\", \"good\", \"good\", \"good\", \"good\", \"good\", \"good\", \"good\", \"graphic\", \"graphic\", \"graphic\", \"graphic\", \"graphic\", \"graphic\", \"graphic\", \"great\", \"great\", \"great\", \"great\", \"great\", \"great\", \"great\", \"great\", \"great\", \"great\", \"great-aunt\", \"greg\", \"guts\", \"half-elf\", \"hammer\", \"harm\", \"hatter\", \"hauntings\", \"headquarters\", \"healer\", \"healer\", \"healer\", \"heap\", \"heap\", \"heap\", \"heap\", \"heartland\", \"helen\", \"hell\", \"hell\", \"hell\", \"hell\", \"hell\", \"hell\", \"hell\", \"hell\", \"hell\", \"hell\", \"help\", \"help\", \"help\", \"help\", \"help\", \"help\", \"help\", \"help\", \"help\", \"help\", \"herald\", \"herald\", \"herald\", \"herald\", \"hercules\", \"hercules\", \"hermes\", \"hermes\", \"hiccup\", \"high-tech\", \"history\", \"history\", \"history\", \"history\", \"history\", \"history\", \"history\", \"history\", \"history\", \"history\", \"home\", \"home\", \"home\", \"home\", \"home\", \"home\", \"home\", \"home\", \"home\", \"home\", \"hope\", \"hope\", \"hope\", \"hope\", \"hope\", \"hope\", \"hope\", \"hope\", \"hope\", \"hope\", \"horror\", \"horror\", \"horror\", \"horror\", \"horror\", \"horror\", \"horror\", \"horror\", \"horror\", \"horror\", \"house\", \"house\", \"house\", \"house\", \"house\", \"house\", \"house\", \"house\", \"house\", \"house\", \"human\", \"human\", \"human\", \"human\", \"human\", \"human\", \"human\", \"human\", \"human\", \"human\", \"humanity\", \"humanity\", \"humanity\", \"humanity\", \"humanity\", \"humanity\", \"humanity\", \"humanity\", \"humanity\", \"humanity\", \"humphrey\", \"ian\", \"ichigo\", \"ichigo\", \"ichigo\", \"ichigo\", \"illuminating\", \"illusionist\", \"illustrations\", \"illustrations\", \"illustrations\", \"illustrations\", \"illustrations\", \"illustrations\", \"illustrations\", \"illustrations\", \"illustrations\", \"illustrations\", \"illustrator\", \"illustrator\", \"illustrator\", \"imaginable\", \"imogen\", \"impact\", \"imperium\", \"improved\", \"indispensable\", \"infiltrate\", \"infiltrate\", \"infiltrate\", \"infinity\", \"ingenuity\", \"inmates\", \"inn\", \"inn\", \"inn\", \"inscrutable\", \"insists\", \"insists\", \"inspector\", \"inspector\", \"inspector\", \"instruments\", \"instruments\", \"instruments\", \"intrepid\", \"intricately\", \"intruders\", \"ivy\", \"ivy\", \"jace\", \"jace\", \"jack\", \"jack\", \"jack\", \"jack\", \"jack\", \"jack\", \"jack\", \"jack\", \"jack\", \"jack\", \"jade\", \"jade\", \"jake\", \"jake\", \"jake\", \"jake\", \"jake\", \"jameson\", \"jansson\", \"jansson\", \"jasmine\", \"jasmine\", \"jazz\", \"jedi\", \"jedi\", \"jedi\", \"jedi\", \"jedi\", \"jedi\", \"jenna\", \"jenna\", \"jenna\", \"jensen\", \"jess\", \"jess\", \"jess\", \"jess\", \"jess\", \"jess\", \"joanna\", \"joanne\", \"joanne\", \"joe\", \"joe\", \"joe\", \"joe\", \"joe\", \"joe\", \"joe\", \"jon\", \"jon\", \"jon\", \"jon\", \"jon\", \"joss\", \"joss\", \"journey\", \"journey\", \"journey\", \"journey\", \"journey\", \"journey\", \"journey\", \"journey\", \"journey\", \"journey\", \"jude\", \"jules\", \"julia\", \"julia\", \"julia\", \"julia\", \"julia\", \"jun\", \"jun\", \"june\", \"june\", \"juniper\", \"kansas\", \"kansas\", \"karen\", \"karen\", \"karl\", \"karl\", \"karna\", \"king\", \"king\", \"king\", \"king\", \"king\", \"king\", \"king\", \"king\", \"king\", \"king\", \"kingdom\", \"kingdom\", \"kingdom\", \"kingdom\", \"kingdom\", \"kingdom\", \"kingdom\", \"kingdom\", \"kingdom\", \"kingdom\", \"kitty\", \"kitty\", \"kitty\", \"kitty\", \"knees\", \"knees\", \"knight\", \"knight\", \"knight\", \"knight\", \"knight\", \"knight\", \"knight\", \"knight\", \"knight\", \"knight\", \"knocked\", \"know\", \"know\", \"know\", \"know\", \"know\", \"know\", \"know\", \"know\", \"know\", \"know\", \"kong\", \"kong\", \"kyrin\", \"l.a.\", \"l.a.\", \"land\", \"land\", \"land\", \"land\", \"land\", \"land\", \"land\", \"land\", \"land\", \"land\", \"landover\", \"lang\", \"last\", \"last\", \"last\", \"last\", \"last\", \"last\", \"last\", \"last\", \"last\", \"last\", \"laurence\", \"laurie\", \"laurie\", \"leiber\", \"leiber\", \"levine\", \"life\", \"life\", \"life\", \"life\", \"life\", \"life\", \"life\", \"life\", \"life\", \"life\", \"lifelong\", \"like\", \"like\", \"like\", \"like\", \"like\", \"like\", \"like\", \"like\", \"like\", \"like\", \"lint\", \"lisa\", \"literature\", \"literature\", \"literature\", \"literature\", \"literature\", \"literature\", \"literature\", \"literature\", \"literature\", \"literature\", \"long\", \"long\", \"long\", \"long\", \"long\", \"long\", \"long\", \"long\", \"long\", \"long\", \"lorien\", \"lorien\", \"louise\", \"louise\", \"love\", \"love\", \"love\", \"love\", \"love\", \"love\", \"love\", \"love\", \"love\", \"love\", \"lovecraft\", \"lovecraft\", \"lovecraft\", \"lovecraft\", \"lovecraft\", \"lovecraft\", \"lovecraft\", \"luke\", \"luke\", \"luke\", \"luke\", \"mab\", \"mab\", \"maddy\", \"maddy\", \"madigan\", \"maeve\", \"mafia\", \"magic\", \"magic\", \"magic\", \"magic\", \"magic\", \"magic\", \"magic\", \"magic\", \"magic\", \"magic\", \"magical\", \"magical\", \"magical\", \"magical\", \"magical\", \"magical\", \"magical\", \"magical\", \"magical\", \"magical\", \"magnus\", \"magnus\", \"magnus\", \"magnus\", \"magnus\", \"magnus\", \"magnus\", \"make\", \"make\", \"make\", \"make\", \"make\", \"make\", \"make\", \"make\", \"make\", \"make\", \"malory\", \"man\", \"man\", \"man\", \"man\", \"man\", \"man\", \"man\", \"man\", \"man\", \"man\", \"many\", \"many\", \"many\", \"many\", \"many\", \"many\", \"many\", \"many\", \"many\", \"many\", \"mara\", \"margo\", \"marvel\", \"marvel\", \"marvin\", \"master\", \"master\", \"master\", \"master\", \"master\", \"master\", \"master\", \"master\", \"master\", \"master\", \"may\", \"may\", \"may\", \"may\", \"may\", \"may\", \"may\", \"may\", \"may\", \"may\", \"mayan\", \"mayan\", \"mccloud\", \"meluha\", \"mercy\", \"mercy\", \"mercy\", \"mercy\", \"mercy\", \"merge\", \"methods\", \"methods\", \"miasma\", \"michael\", \"michael\", \"michael\", \"michael\", \"michael\", \"michael\", \"michael\", \"michael\", \"michael\", \"michael\", \"mickey\", \"milton\", \"miranda\", \"miss\", \"miss\", \"miss\", \"miss\", \"miss\", \"miss\", \"miss\", \"miss\", \"mona\", \"mondega\", \"moorcock\", \"morganville\", \"morganville\", \"morganville\", \"morganville\", \"morganville\", \"morte\", \"mother\", \"mother\", \"mother\", \"mother\", \"mother\", \"mother\", \"mother\", \"mother\", \"mother\", \"mother\", \"muggle\", \"must\", \"must\", \"must\", \"must\", \"must\", \"must\", \"must\", \"must\", \"must\", \"must\", \"mutant\", \"mutant\", \"mutants\", \"mutants\", \"mysterious\", \"mysterious\", \"mysterious\", \"mysterious\", \"mysterious\", \"mysterious\", \"mysterious\", \"mysterious\", \"mysterious\", \"mysterious\", \"naruto\", \"nathan\", \"nathan\", \"nathan\", \"nathan\", \"nationally\", \"nationally\", \"nationally\", \"necromancers\", \"ned\", \"negi\", \"neil\", \"neil\", \"neil\", \"neil\", \"neil\", \"neil\", \"neill\", \"neill\", \"neptune\", \"nestled\", \"never\", \"never\", \"never\", \"never\", \"never\", \"never\", \"never\", \"never\", \"never\", \"never\", \"new\", \"new\", \"new\", \"new\", \"new\", \"new\", \"new\", \"new\", \"new\", \"new\", \"night\", \"night\", \"night\", \"night\", \"night\", \"night\", \"night\", \"night\", \"night\", \"night\", \"ninja\", \"nora\", \"nora\", \"norse\", \"norse\", \"norse\", \"note\", \"note\", \"note\", \"note\", \"note\", \"note\", \"note\", \"note\", \"note\", \"note\", \"notebook\", \"notebook\", \"notebook\", \"notebook\", \"notices\", \"notices\", \"nova\", \"novelette\", \"novelette\", \"novelette\", \"novelette\", \"novelette\", \"oblivion\", \"obscurity\", \"obsidian\", \"odd\", \"odd\", \"odd\", \"odd\", \"odd\", \"odd\", \"odd\", \"odd\", \"odd\", \"odd\", \"odysseus\", \"odysseus\", \"oedipus\", \"ogre\", \"old\", \"old\", \"old\", \"old\", \"old\", \"old\", \"old\", \"old\", \"old\", \"old\", \"omri\", \"one\", \"one\", \"one\", \"one\", \"one\", \"one\", \"one\", \"one\", \"one\", \"one\", \"ophelia\", \"ophelia\", \"ophelia\", \"ophelia\", \"ophelia\", \"ophelia\", \"original\", \"original\", \"original\", \"original\", \"original\", \"original\", \"original\", \"original\", \"original\", \"original\", \"owl\", \"owl\", \"owl\", \"owl\", \"ozma\", \"ozma\", \"panic\", \"panic\", \"parents\", \"parents\", \"parents\", \"parents\", \"parents\", \"parents\", \"parents\", \"parents\", \"parents\", \"parents\", \"parker\", \"parker\", \"parker\", \"passages\", \"passages\", \"past\", \"past\", \"past\", \"past\", \"past\", \"past\", \"past\", \"past\", \"past\", \"past\", \"patrol\", \"patrol\", \"people\", \"people\", \"people\", \"people\", \"people\", \"people\", \"people\", \"people\", \"people\", \"people\", \"perennial\", \"persecuted\", \"phantomhive\", \"photos\", \"photos\", \"pigs\", \"pigs\", \"plagues\", \"plaguing\", \"planet\", \"planet\", \"planet\", \"planet\", \"planet\", \"planet\", \"planet\", \"planet\", \"planet\", \"planet\", \"planetary\", \"plates\", \"pockets\", \"poem\", \"poem\", \"poem\", \"poem\", \"poem\", \"poem\", \"poem\", \"poem\", \"polar\", \"poppy\", \"poppy\", \"possessing\", \"power\", \"power\", \"power\", \"power\", \"power\", \"power\", \"power\", \"power\", \"power\", \"power\", \"powerful\", \"powerful\", \"powerful\", \"powerful\", \"powerful\", \"powerful\", \"powerful\", \"powerful\", \"powerful\", \"powerful\", \"prospero\", \"prosperous\", \"publication\", \"publication\", \"publication\", \"publication\", \"publication\", \"publication\", \"publication\", \"publication\", \"publication\", \"publication\", \"published\", \"published\", \"published\", \"published\", \"published\", \"published\", \"published\", \"published\", \"published\", \"published\", \"qualities\", \"quill\", \"quill\", \"ragtag\", \"ramayana\", \"ran\", \"raphael\", \"rapunzel\", \"rapunzel\", \"rapunzel\", \"rapunzel\", \"read\", \"read\", \"read\", \"read\", \"read\", \"read\", \"read\", \"read\", \"read\", \"read\", \"real\\u2014and\", \"recipes\", \"recovery\", \"recovery\", \"remind\", \"renamed\", \"renegades\", \"represented\", \"required\", \"resonant\", \"retells\", \"retells\", \"reviewer\", \"reviewer\", \"reviewer\", \"rhymes\", \"richard\", \"richard\", \"richard\", \"richard\", \"richard\", \"richard\", \"richard\", \"richard\", \"richard\", \"richard\", \"rin\", \"ringworld\", \"rio\", \"riverworld\", \"rolling\", \"roux\", \"ruby\", \"ruby\", \"ruby\", \"ruby\", \"ruby\", \"ruby\", \"rupert\", \"ruth\", \"ruth\", \"ruth\", \"sabine\", \"sam\", \"sam\", \"sam\", \"sam\", \"sam\", \"sam\", \"sam\", \"sandman\", \"sandman\", \"sandman\", \"sandman\", \"sandman\", \"sandman\", \"sandman\", \"sang\", \"sarah\", \"sarah\", \"sarah\", \"sarah\", \"sarah\", \"sarah\", \"sarah\", \"sarah\", \"sarah\", \"sati\", \"saunders\", \"save\", \"save\", \"save\", \"save\", \"save\", \"save\", \"save\", \"save\", \"save\", \"save\", \"saxon\", \"scarecrow\", \"scarecrow\", \"school\", \"school\", \"school\", \"school\", \"school\", \"school\", \"school\", \"school\", \"school\", \"school\", \"science\", \"science\", \"science\", \"science\", \"science\", \"science\", \"science\", \"science\", \"science\", \"science\", \"scream\", \"scream\", \"scribe\", \"scribe\", \"seas\", \"seas\", \"seas\", \"seas\", \"seas\", \"seas\", \"seas\", \"secret\", \"secret\", \"secret\", \"secret\", \"secret\", \"secret\", \"secret\", \"secret\", \"secret\", \"secret\", \"sections\", \"sections\", \"see\", \"see\", \"see\", \"see\", \"see\", \"see\", \"see\", \"see\", \"see\", \"see\", \"sees\", \"sees\", \"sees\", \"sees\", \"sees\", \"sees\", \"sees\", \"sees\", \"sees\", \"sees\", \"septimus\", \"septimus\", \"septimus\", \"serena\", \"serena\", \"set\", \"set\", \"set\", \"set\", \"set\", \"set\", \"set\", \"set\", \"set\", \"set\", \"seven-volume\", \"seven-volume\", \"seventh\", \"seventh\", \"seventh\", \"seventh\", \"seventh\", \"seventh\", \"seventh\", \"seventh\", \"seventh\", \"severed\", \"shadowhunter\", \"shea\", \"shea\", \"shea\", \"shire\", \"shiva\", \"shiva\", \"shiva\", \"short\", \"short\", \"short\", \"short\", \"short\", \"short\", \"short\", \"short\", \"short\", \"short\", \"signed\", \"signed\", \"similar\", \"simon\", \"simon\", \"simon\", \"simon\", \"simon\", \"simon\", \"simon\", \"simon\", \"simon\", \"sitting\", \"sitting\", \"sitting\", \"skeeve\", \"skyla\", \"skyla\", \"sneaks\", \"software\", \"software\", \"sol\", \"something\", \"something\", \"something\", \"something\", \"something\", \"something\", \"something\", \"something\", \"something\", \"something\", \"sookie\", \"soren\", \"soren\", \"soren\", \"soren\", \"spiderwick\", \"spirit\", \"spirit\", \"spirit\", \"spirit\", \"spirit\", \"spirit\", \"spirit\", \"spirit\", \"spirit\", \"spirit\", \"spook\", \"spook\", \"spook\", \"spook\", \"spores\", \"spreads\", \"spreads\", \"stock\", \"stoker\", \"stoker\", \"storybook\", \"storybook\", \"strange\", \"strange\", \"strange\", \"strange\", \"strange\", \"strange\", \"strange\", \"strange\", \"strange\", \"strange\", \"straub\", \"stuart\", \"subway\", \"subway\", \"succeeded\", \"succeeded\", \"suit\", \"suitors\", \"suppose\", \"survey\", \"survey\", \"survey\", \"swamp\", \"swamp\", \"swamp\", \"sweden\", \"s\\u00e9ance\", \"tale\", \"tale\", \"tale\", \"tale\", \"tale\", \"tale\", \"tale\", \"tale\", \"tale\", \"tale\", \"tales\", \"tales\", \"tales\", \"tales\", \"tales\", \"tales\", \"tales\", \"tales\", \"tales\", \"tales\", \"tansy\", \"tara\", \"tara\", \"tara\", \"tara\", \"teenaged\", \"temeraire\", \"tempest\", \"tempus\", \"text\", \"text\", \"text\", \"text\", \"text\", \"text\", \"text\", \"text\", \"text\", \"text\", \"theo\", \"theo\", \"things\", \"things\", \"things\", \"things\", \"things\", \"things\", \"things\", \"things\", \"things\", \"things\", \"thinks\", \"thinks\", \"thinks\", \"thinks\", \"thinks\", \"thinks\", \"thinks\", \"thinks\", \"thinks\", \"thinks\", \"thor\", \"thor\", \"thor\", \"thought-provoking\", \"three\", \"three\", \"three\", \"three\", \"three\", \"three\", \"three\", \"three\", \"three\", \"three\", \"time\", \"time\", \"time\", \"time\", \"time\", \"time\", \"time\", \"time\", \"time\", \"time\", \"tin\", \"tin\", \"together\", \"together\", \"together\", \"together\", \"together\", \"together\", \"together\", \"together\", \"together\", \"together\", \"tolkien\", \"tolkien\", \"tolkien\", \"tolkien\", \"tolkien\", \"tolkien\", \"tolkien\", \"tolkien\", \"tolkien\", \"tolkien\", \"tom\", \"tom\", \"tom\", \"tom\", \"tom\", \"tom\", \"tom\", \"tom\", \"tom\", \"tony\", \"tore\", \"town\", \"town\", \"town\", \"town\", \"town\", \"town\", \"town\", \"town\", \"town\", \"town\", \"translation\", \"translation\", \"translation\", \"translation\", \"translation\", \"translation\", \"translation\", \"translation\", \"translation\", \"tribe\", \"tribe\", \"tribe\", \"tribe\", \"tribe\", \"tribe\", \"tribe\", \"tribe\", \"tribe\", \"tribe\", \"trumpet\", \"trumpet\", \"twenty-first-century\", \"twenty-five\", \"twenty-four\", \"two\", \"two\", \"two\", \"two\", \"two\", \"two\", \"two\", \"two\", \"two\", \"two\", \"undoing\", \"undoing\", \"unwanteds\", \"unwanteds\", \"upstart\", \"uther\", \"vampire\", \"vampire\", \"vampire\", \"vampire\", \"vampire\", \"vampire\", \"vampire\", \"vampire\", \"vampire\", \"vampire\", \"vampires\", \"vampires\", \"vampires\", \"vampires\", \"vampires\", \"vampires\", \"vampires\", \"vampires\", \"vampires\", \"vampires\", \"verity\", \"vikram\", \"village\", \"village\", \"village\", \"village\", \"village\", \"village\", \"village\", \"village\", \"village\", \"village\", \"villages\", \"volume\", \"volume\", \"volume\", \"volume\", \"volume\", \"volume\", \"volume\", \"volume\", \"volume\", \"volume\", \"voodoo\", \"vortex\", \"walker\", \"walker\", \"walker\", \"walker\", \"wants\", \"wants\", \"wants\", \"wants\", \"wants\", \"wants\", \"wants\", \"wants\", \"wants\", \"wants\", \"war\", \"war\", \"war\", \"war\", \"war\", \"war\", \"war\", \"war\", \"war\", \"war\", \"warrior\", \"warrior\", \"warrior\", \"warrior\", \"warrior\", \"warrior\", \"warrior\", \"warrior\", \"warrior\", \"warrior\", \"warriors\", \"warriors\", \"warriors\", \"warriors\", \"warriors\", \"warriors\", \"warriors\", \"warriors\", \"warriors\", \"warriors\", \"watery\", \"way\", \"way\", \"way\", \"way\", \"way\", \"way\", \"way\", \"way\", \"way\", \"way\", \"weary\", \"weekly\", \"weekly\", \"weekly\", \"weekly\", \"weekly\", \"welcomes\", \"werewolf\", \"werewolf\", \"werewolf\", \"werewolf\", \"werewolf\", \"werewolf\", \"werewolf\", \"werewolf\", \"werewolf\", \"whereabouts\", \"whereabouts\", \"whisks\", \"whisks\", \"whisper\", \"willa\", \"willow\", \"willow\", \"willow\", \"wistful\", \"witch\", \"witch\", \"witch\", \"witch\", \"witch\", \"witch\", \"witch\", \"witch\", \"witch\", \"witch\", \"wolfe\", \"wolfe\", \"wolfe\", \"woodman\", \"work\", \"work\", \"work\", \"work\", \"work\", \"work\", \"work\", \"work\", \"work\", \"work\", \"works\", \"works\", \"works\", \"works\", \"works\", \"works\", \"works\", \"works\", \"works\", \"works\", \"world\", \"world\", \"world\", \"world\", \"world\", \"world\", \"world\", \"world\", \"world\", \"world\", \"world.but\", \"would\", \"would\", \"would\", \"would\", \"would\", \"would\", \"would\", \"would\", \"would\", \"would\", \"writers\", \"writers\", \"writers\", \"writers\", \"writers\", \"writers\", \"writers\", \"writers\", \"writers\", \"writers\", \"written\", \"written\", \"written\", \"written\", \"written\", \"written\", \"written\", \"written\", \"written\", \"written\", \"years\", \"years\", \"years\", \"years\", \"years\", \"years\", \"years\", \"years\", \"years\", \"years\", \"york\", \"york\", \"york\", \"york\", \"york\", \"york\", \"york\", \"york\", \"york\", \"york\", \"young\", \"young\", \"young\", \"young\", \"young\", \"young\", \"young\", \"young\", \"young\", \"young\"]}, \"R\": 30, \"lambda.step\": 0.01, \"plot.opts\": {\"xlab\": \"PC1\", \"ylab\": \"PC2\"}, \"topic.order\": [2, 3, 7, 6, 10, 8, 4, 5, 9, 1]};\n",
       "\n",
       "function LDAvis_load_lib(url, callback){\n",
       "  var s = document.createElement('script');\n",
       "  s.src = url;\n",
       "  s.async = true;\n",
       "  s.onreadystatechange = s.onload = callback;\n",
       "  s.onerror = function(){console.warn(\"failed to load library \" + url);};\n",
       "  document.getElementsByTagName(\"head\")[0].appendChild(s);\n",
       "}\n",
       "\n",
       "if(typeof(LDAvis) !== \"undefined\"){\n",
       "   // already loaded: just create the visualization\n",
       "   !function(LDAvis){\n",
       "       new LDAvis(\"#\" + \"ldavis_el941750326711525767224396\", ldavis_el941750326711525767224396_data);\n",
       "   }(LDAvis);\n",
       "}else if(typeof define === \"function\" && define.amd){\n",
       "   // require.js is available: use it to load d3/LDAvis\n",
       "   require.config({paths: {d3: \"https://cdnjs.cloudflare.com/ajax/libs/d3/3.5.5/d3.min\"}});\n",
       "   require([\"d3\"], function(d3){\n",
       "      window.d3 = d3;\n",
       "      LDAvis_load_lib(\"https://cdn.rawgit.com/bmabey/pyLDAvis/files/ldavis.v1.0.0.js\", function(){\n",
       "        new LDAvis(\"#\" + \"ldavis_el941750326711525767224396\", ldavis_el941750326711525767224396_data);\n",
       "      });\n",
       "    });\n",
       "}else{\n",
       "    // require.js not available: dynamically load d3 & LDAvis\n",
       "    LDAvis_load_lib(\"https://cdnjs.cloudflare.com/ajax/libs/d3/3.5.5/d3.min.js\", function(){\n",
       "         LDAvis_load_lib(\"https://cdn.rawgit.com/bmabey/pyLDAvis/files/ldavis.v1.0.0.js\", function(){\n",
       "                 new LDAvis(\"#\" + \"ldavis_el941750326711525767224396\", ldavis_el941750326711525767224396_data);\n",
       "            })\n",
       "         });\n",
       "}\n",
       "</script>"
      ],
      "text/plain": [
       "<IPython.core.display.HTML object>"
      ]
     },
     "execution_count": 39,
     "metadata": {},
     "output_type": "execute_result"
    }
   ],
   "source": [
    "# Create the visualisation\n",
    "\n",
    "pyLDAvis.display(lda_vis)"
   ]
  },
  {
   "cell_type": "markdown",
   "metadata": {},
   "source": [
    "The above visualisation is a lot to take in. Broadly though, it breaks down into the following bits:\n",
    "\n",
    "1. **The topic map**\n",
    "\n",
    "    This lets you see how the topics are distributed in your data. The axes have been generated by \"multidimensional scaling\", which means that absolute positioning isn't especially meaningful, but the relative size and location of topics is important. Topics that are far away from each other have little overlap - documents rarely contain both. Topics close together or overlapping are quite similar, shared by many documents. The size of a topic blob shows how important that topic is across all documents.\n",
    "\n",
    "    The more separate and less-overlapped your blobs, the more distinct your topics; many over-lapping topics suggests that you have asked for more topics than are actually present in the data.\n",
    "\n",
    "\n",
    "2. **The word list**\n",
    "\n",
    "    The word list shows the thirty most \"relevant\" (more on that later) words; if you click on a blob on the map, it shows you the words for that topic, otherwise it shows you them for the whole dataset. When you click on a blob, you see red bar in addition to the blue - the blue bar is (always) frequency over the whole dataset for whatever that word is, while red is frequency for that word in that topic.\n",
    "\n",
    "\n",
    "3. **The controls**\n",
    "\n",
    "    The left-most controls let you control which topic you are looking at, duplicating just using the mouse. The right-most controls are more complex & interesting: they let you determine how **relevance** is counted. By changing the slider, you change what criteria are used for choosing the most relevant words. With the slider at 1, relevance is \"most frequent words in the topic\", and with the slider at 0, relevance is based on **salience**: words that are unusually frequent in that topic compared to their frequency overall. In-between values calculate relevance as a blend of the two.\n",
    "\n",
    "    It's a good idea to play around with this metric to see what gives you the most interesting results with your data. In this dataset, for example, neither 0 or 1 is particularly useful: 0 gives you character names, and 1 gives you roughly the same words for each topic. A value of 0.4 seems to be useful to extrat key ideas, but only from the largest three topics."
   ]
  },
  {
   "cell_type": "markdown",
   "metadata": {},
   "source": [
    "### Mapping documents onto topics\n",
    "\n",
    "The final step is to look at the documents that feature each topic."
   ]
  },
  {
   "cell_type": "code",
   "execution_count": 40,
   "metadata": {},
   "outputs": [
    {
     "data": {
      "text/plain": [
       "[(2, 0.6572539), (5, 0.3210481)]"
      ]
     },
     "execution_count": 40,
     "metadata": {},
     "output_type": "execute_result"
    }
   ],
   "source": [
    "# Check the output for a single doc (Alice in Wonderland)\n",
    "\n",
    "lda_model[lda_corpus[4]]"
   ]
  },
  {
   "cell_type": "markdown",
   "metadata": {},
   "source": [
    "This document contains two topics, but mostly (65%) is focused on topic two. Based on the visualisation above, we can see that this makes sense - topic 2 (with the slider at 0.4) lists \"girl\" and \"alice\" as relevant terms; this topic may (potentially, and further exploration is required) be focused on children and portal fantasy.\n",
    "\n",
    "On a larger scale, we can write a function that gets the most dominant topic for each separate book. This will allow us to look at topics as a whole."
   ]
  },
  {
   "cell_type": "code",
   "execution_count": 41,
   "metadata": {},
   "outputs": [],
   "source": [
    "def get_dominant_topic(bag_of_words):\n",
    "    return lda_model[bag_of_words][0][0]"
   ]
  },
  {
   "cell_type": "code",
   "execution_count": 42,
   "metadata": {},
   "outputs": [],
   "source": [
    "# Get the dominant topic for each book\n",
    "\n",
    "topics = [get_dominant_topic(x) for x in lda_corpus]"
   ]
  },
  {
   "cell_type": "code",
   "execution_count": 43,
   "metadata": {},
   "outputs": [],
   "source": [
    "# Get a copy of the books df\n",
    "\n",
    "book_topics = books[[\"author\", \"title\"]]\n",
    "\n",
    "# Add the topics on\n",
    "\n",
    "book_topics[\"topic\"] = topics"
   ]
  },
  {
   "cell_type": "code",
   "execution_count": 44,
   "metadata": {},
   "outputs": [
    {
     "data": {
      "text/plain": [
       "topic\n",
       "0    1238\n",
       "1    3748\n",
       "2    1383\n",
       "3    405 \n",
       "4    183 \n",
       "5    319 \n",
       "6    242 \n",
       "7    104 \n",
       "8    33  \n",
       "9    72  \n",
       "Name: title, dtype: int64"
      ]
     },
     "execution_count": 44,
     "metadata": {},
     "output_type": "execute_result"
    }
   ],
   "source": [
    "# Count up how many books for each topic\n",
    "\n",
    "book_topics.groupby(\"topic\").count()[\"title\"]"
   ]
  },
  {
   "cell_type": "markdown",
   "metadata": {},
   "source": [
    "This seems a bit more even than our earlier clustering, with larger groups being found. We can then investigate the titles in a single topic to see if they are at all similar."
   ]
  },
  {
   "cell_type": "code",
   "execution_count": 45,
   "metadata": {},
   "outputs": [
    {
     "data": {
      "text/html": [
       "<div>\n",
       "<style scoped>\n",
       "    .dataframe tbody tr th:only-of-type {\n",
       "        vertical-align: middle;\n",
       "    }\n",
       "\n",
       "    .dataframe tbody tr th {\n",
       "        vertical-align: top;\n",
       "    }\n",
       "\n",
       "    .dataframe thead th {\n",
       "        text-align: right;\n",
       "    }\n",
       "</style>\n",
       "<table border=\"1\" class=\"dataframe\">\n",
       "  <thead>\n",
       "    <tr style=\"text-align: right;\">\n",
       "      <th></th>\n",
       "      <th>author</th>\n",
       "      <th>title</th>\n",
       "      <th>topic</th>\n",
       "    </tr>\n",
       "  </thead>\n",
       "  <tbody>\n",
       "    <tr>\n",
       "      <th>4</th>\n",
       "      <td>Lewis Carroll</td>\n",
       "      <td>Alice's Adventures in Wonderland &amp; Through the Looking-Glass</td>\n",
       "      <td>2</td>\n",
       "    </tr>\n",
       "    <tr>\n",
       "      <th>5</th>\n",
       "      <td>Oscar Wilde</td>\n",
       "      <td>The Picture of Dorian Gray</td>\n",
       "      <td>2</td>\n",
       "    </tr>\n",
       "    <tr>\n",
       "      <th>8</th>\n",
       "      <td>Orson Scott Card</td>\n",
       "      <td>Ender's Game</td>\n",
       "      <td>2</td>\n",
       "    </tr>\n",
       "    <tr>\n",
       "      <th>15</th>\n",
       "      <td>Rick Riordan</td>\n",
       "      <td>The Lightning Thief</td>\n",
       "      <td>2</td>\n",
       "    </tr>\n",
       "    <tr>\n",
       "      <th>22</th>\n",
       "      <td>Roald Dahl</td>\n",
       "      <td>Matilda</td>\n",
       "      <td>2</td>\n",
       "    </tr>\n",
       "  </tbody>\n",
       "</table>\n",
       "</div>"
      ],
      "text/plain": [
       "              author  \\\n",
       "4   Lewis Carroll      \n",
       "5   Oscar Wilde        \n",
       "8   Orson Scott Card   \n",
       "15  Rick Riordan       \n",
       "22  Roald Dahl         \n",
       "\n",
       "                                                           title  topic  \n",
       "4   Alice's Adventures in Wonderland & Through the Looking-Glass  2      \n",
       "5   The Picture of Dorian Gray                                    2      \n",
       "8   Ender's Game                                                  2      \n",
       "15  The Lightning Thief                                           2      \n",
       "22  Matilda                                                       2      "
      ]
     },
     "execution_count": 45,
     "metadata": {},
     "output_type": "execute_result"
    }
   ],
   "source": [
    "# See all the books for a given topic\n",
    "\n",
    "book_topics[book_topics[\"topic\"] == 2].head(5)"
   ]
  },
  {
   "cell_type": "markdown",
   "metadata": {},
   "source": [
    "Topic 2 isn't as clear as I would like, but you can pick up on some potentially common elements; 4 of the 5 books list have child protagonists, for example, and four of them feature mirrors in relatively important ways.\n",
    "\n",
    "Again, the topic modelling we've done here is a very basic implementation; there are lots of ways to tweak it and improve/measure the performance. [This article](https://www.machinelearningplus.com/nlp/topic-modeling-gensim-python/) has more details about fine-tuning."
   ]
  },
  {
   "cell_type": "markdown",
   "metadata": {},
   "source": [
    "## Conclusions\n",
    "\n",
    "This notebook has covered the basic code to group documents in three separate ways; all of these ways can be tweaked and improved and extended to identify more coherent & cohesive groups, but hopefully the underlying code & concepts are clear.\n",
    "\n",
    "It's worth mentioning that the dataset used here - while a fun one to work with - is probably a little worse for finding groups than most other datasets would be; fantasy books tend - as is the nature of the genre - to be quite diffuse yet centered around some of the same concepts. This means that almost every description mentions saving the world, but only a few out of thousands mention golems or kelpies or whatever the specific danger is in that specific book. That makes it hard to find nice neat clusters.\n",
    "\n",
    "With more focused datasets - customer voice or reviews, for example - I would expect neater groupings without excessive tweaking.\n",
    "\n",
    "Text is always hard to work with, and always somewhat woolly - even with the perfect dataset, you'd need to do some level of manual interpretation. But these methods have a pretty good success rate for their level of complexity, and you can generally get something worthwhile out of them."
   ]
  }
 ],
 "metadata": {
  "kernelspec": {
   "display_name": "Python 3",
   "language": "python",
   "name": "python3"
  },
  "language_info": {
   "codemirror_mode": {
    "name": "ipython",
    "version": 3
   },
   "file_extension": ".py",
   "mimetype": "text/x-python",
   "name": "python",
   "nbconvert_exporter": "python",
   "pygments_lexer": "ipython3",
   "version": "3.8.5"
  }
 },
 "nbformat": 4,
 "nbformat_minor": 4
}
