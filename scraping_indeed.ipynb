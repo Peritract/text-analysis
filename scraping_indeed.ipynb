{
"cells": [
{
"cell_type": "code",
"execution_count": 9,
"metadata": {},
"outputs": [],
"source": [
"import pandas as pd\n",
"import re\n",
"import requests\n",
"from bs4 import BeautifulSoup\n",
"from time import sleep"
]
},
{
"cell_type": "code",
"execution_count": 10,
"metadata": {},
"outputs": [],
"source": [
"def get_indeed_search_url(keywords,location, start=0):\n",
"    keywords = re.sub(\" \", \"+\", keywords)\n",
"    location = re.sub(\" \", \"+\", location)\n",
"    url = f\"https://www.indeed.co.uk/jobs?q={keywords}&l={location}&start={start}\"\n",
"    \n",
"    return url"
]
},
{
"cell_type": "code",
"execution_count": 11,
"metadata": {},
"outputs": [],
"source": [
"def get_indeed_search_results(url):\n",
"    page = requests.get(url).content\n",
"    soup = BeautifulSoup(page)\n",
"    \n",
"    links = soup.findAll(\"a\", {\"class\":\"jobtitle\"})\n",
"    \n",
"    links = [\"https://uk.indeed.com\" + x.get('href') for x in links]\n",
"    \n",
"    return links"
]
},
{
"cell_type": "code",
"execution_count": 12,
"metadata": {},
"outputs": [],
"source": [
"def get_indeed_job_data(url):\n",
"    \"\"\"Return a list of key information from Indeed\"\"\"\n",
"    page = requests.get(url).content\n",
"    soup = BeautifulSoup(page)\n",
"    \n",
"    title = soup.find(\"h3\", {\"class\":\"jobsearch-JobInfoHeader-title\"}).get_text()\n",
"    description = soup.find(\"div\", {\"id\":\"jobDescriptionText\"}).get_text()\n",
"    \n",
"    return [title, description]"
]
},
{
"cell_type": "code",
"execution_count": 13,
"metadata": {},
"outputs": [],
"source": [
"def scrape_indeed():\n",
"    keywords = input(\"Enter search terms: \")\n",
"    location = input(\"Enter search location: \")\n",
"    start = 0\n",
"    url = get_indeed_search_url(keywords, location, start)\n",
"    counter = 0\n",
"    data = []\n",
"    \n",
"    while counter < 1000:\n",
"\n",
"        job_links = get_indeed_search_results(url)\n",
"        for link in job_links:\n",
"            sleep(0.5)\n",
"            job = get_indeed_job_data(link)\n",
"            data.append(job)\n",
"            print(job[0])\n",
"            counter += 1\n",
"        \n",
"        sleep(5)\n",
"        try:\n",
"            start += 10\n",
"            get_indeed_search_url(keywords, location, start)\n",
"        except:\n",
"            print(\"ERROR\")\n",
"            counter == 8000"
]
},
{
"cell_type": "code",
"execution_count": null,
"metadata": {},
"outputs": [],
"source": [
"scrape_indeed()"
]
},
{
"cell_type": "code",
"execution_count": null,
"metadata": {},
"outputs": [],
"source": []
}
],
"metadata": {
"kernelspec": {
"display_name": "Python 3",
"language": "python",
"name": "python3"
},
"language_info": {
"codemirror_mode": {
"name": "ipython",
"version": 3
},
"file_extension": ".py",
"mimetype": "text/x-python",
"name": "python",
"nbconvert_exporter": "python",
"pygments_lexer": "ipython3",
"version": "3.7.2"
}
},
"nbformat": 4,
"nbformat_minor": 2
}
