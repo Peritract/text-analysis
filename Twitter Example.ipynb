{
 "cells": [
  {
   "cell_type": "markdown",
   "metadata": {},
   "source": [
    "# Twitter Example\n",
    "\n",
    "This notebook contains a heavily-commented minimal example of how to access Twitter using API keys and pull all tweets relating to a given search term.\n",
    "\n",
    "The library used to interact with Twitter is [Tweepy](http://docs.tweepy.org/en/v3.5.0/index.html). This notebook explains only how to get Tweets for a single search term over the past seven days; if you want to do something more complicated - such as constantly update a file based on new tweets coming in in real time - the documentation linked above is the best place to look."
   ]
  },
  {
   "cell_type": "markdown",
   "metadata": {},
   "source": [
    "### 1. External setup\n",
    "\n",
    "1. Install tweepy by running `conda install -c conda-forge tweepy` in the anaconda prompt\n",
    "\n",
    "2. Create a [Twitter](https://twitter.com) account and verify it with a phone number\n",
    "\n",
    "3. Apply for a developer account at [developer.twitter.com](https://developer.twitter.com)\n",
    "\n",
    "4. Create an \"app\" on Twitter. This just means that you come up with a name and a justification for having Twitter API keys. \"I want to experiment with Twitter's API\" has always worked for me as a reason.\n",
    "\n",
    "5. Give your app both read and write permissions."
   ]
  },
  {
   "cell_type": "markdown",
   "metadata": {},
   "source": [
    "### 2. Import libraries"
   ]
  },
  {
   "cell_type": "code",
   "execution_count": 1,
   "metadata": {},
   "outputs": [],
   "source": [
    "import pandas as pd # Creates & manipulates dataframes\n",
    "import tweepy # Interacts with Twitter"
   ]
  },
  {
   "cell_type": "markdown",
   "metadata": {},
   "source": [
    "### 3. Authenticate a Twitter handler\n",
    "\n",
    "When you create a Twitter app, you will be given a set of API keys. You should have the following:\n",
    "\n",
    "- API key\n",
    "- API secret key\n",
    "- Access token\n",
    "- Access token secret\n",
    "\n",
    "In the code cell below, replace the placeholder values with your keys. Your keys should be inside speech marks, so the program will interpret them as strings."
   ]
  },
  {
   "cell_type": "code",
   "execution_count": 2,
   "metadata": {},
   "outputs": [],
   "source": [
    "API_KEY = \"osPbVSYPfW06UetGHf5Yqgnhi\"\n",
    "API_SECRET = \"tGOUH7naMnqkM1EcBa69OMToKl9slqtSiUbvp4XFRH3ggKzyfF\"\n",
    "ACCESS_TOKEN = \"24293199-t3ttxV0YP3ZvX2SYjVKnVe3fSTpLA4NNWCvYA8ak2\"\n",
    "ACCESS_TOKEN_SECRET = \"ozSmxH1t0p5Lv6N44BpXMxt0MxHn0RUGeId0WDL4ucnkF\""
   ]
  },
  {
   "cell_type": "markdown",
   "metadata": {},
   "source": [
    "The cell below creates and authenticates an object - `API` - that can be used to interact with Twitter."
   ]
  },
  {
   "cell_type": "code",
   "execution_count": 3,
   "metadata": {},
   "outputs": [],
   "source": [
    "# Create an authentication handler\n",
    "auth = tweepy.OAuthHandler(API_KEY, API_SECRET)\n",
    "\n",
    "# Feed the handler all the necessary information\n",
    "auth.set_access_token(ACCESS_TOKEN, ACCESS_TOKEN_SECRET)\n",
    "\n",
    "# Use the handler to authenticate an API object\n",
    "API = tweepy.API(auth, wait_on_rate_limit=True,wait_on_rate_limit_notify=True)"
   ]
  },
  {
   "cell_type": "markdown",
   "metadata": {},
   "source": [
    "In the cell above, `wait_on_rate_limit` tells the `API` object not to make too many requests in a short space of time; this stops Twitter from flagging your program as harmful. Whenever `API` hits the request limit, it will stop making requests until the request counter has reset."
   ]
  },
  {
   "cell_type": "markdown",
   "metadata": {},
   "source": [
    "### 4. Access tweets relating to a specific search\n",
    "\n",
    "Using the free API, you can only access Tweets from the last seven days."
   ]
  },
  {
   "cell_type": "code",
   "execution_count": null,
   "metadata": {},
   "outputs": [],
   "source": [
    "# Make a holder to store tweets\n",
    "tweets = []\n",
    "\n",
    "# Create a string to search for\n",
    "query='#bitcoin OR #btc'\n",
    "\n",
    "# Get tweets from the last seven days\n",
    "for status in tweepy.Cursor(API.search,q=query,lang=\"en\", since = '2019-08-01', until=\"2019-08-10\", ).items():\n",
    "    \n",
    "    # Add each tweet to the holder\n",
    "    tweets.append(status)"
   ]
  },
  {
   "cell_type": "markdown",
   "metadata": {},
   "source": [
    "The cell above shows how to access Tweets using a cursor object. Essentially, a cursor allows you to page through search results on Twitter, getting one tweet at a time until there are no more to show.\n",
    "\n",
    "The loop takes each tweet in turn as `status` and adds it to the holder, `tweets`."
   ]
  },
  {
   "cell_type": "code",
   "execution_count": 5,
   "metadata": {},
   "outputs": [
    {
     "data": {
      "text/plain": [
       "30904"
      ]
     },
     "execution_count": 5,
     "metadata": {},
     "output_type": "execute_result"
    }
   ],
   "source": [
    "# See how many tweets there are\n",
    "len(tweets)"
   ]
  },
  {
   "cell_type": "markdown",
   "metadata": {},
   "source": [
    "### 5. Store the Tweets in a dataframe"
   ]
  },
  {
   "cell_type": "markdown",
   "metadata": {},
   "source": [
    "Now we need to store our tweets in a dataframe, extracting out key information into columns.\n",
    "\n",
    "Currently, all tweets are stored as Tweepy Status objects, containing not just the text but a huge number of values.\n",
    "\n",
    "[An example of the Tweepy status object](https://gist.github.com/dev-techmoe/ef676cdd03ac47ac503e856282077bf2)\n",
    "\n",
    "For the purposes of this example, only four different values are going to be extracted per tweet, but the same structure could be easily adapted to get more or different information.\n",
    "\n",
    "The four values to be extracted per tweet are as follows:\n",
    "\n",
    "- `created_at` - the date & time the tweet was posted\n",
    "- `text` - the text of the tweet\n",
    "- `retweet_count` - the number of times the tweet was retweeted\n",
    "- `favourite_count` - the number of \"favourites\" a tweet has"
   ]
  },
  {
   "cell_type": "code",
   "execution_count": 6,
   "metadata": {},
   "outputs": [
    {
     "data": {
      "text/html": [
       "<div>\n",
       "<style scoped>\n",
       "    .dataframe tbody tr th:only-of-type {\n",
       "        vertical-align: middle;\n",
       "    }\n",
       "\n",
       "    .dataframe tbody tr th {\n",
       "        vertical-align: top;\n",
       "    }\n",
       "\n",
       "    .dataframe thead th {\n",
       "        text-align: right;\n",
       "    }\n",
       "</style>\n",
       "<table border=\"1\" class=\"dataframe\">\n",
       "  <thead>\n",
       "    <tr style=\"text-align: right;\">\n",
       "      <th></th>\n",
       "      <th>created</th>\n",
       "      <th>text</th>\n",
       "      <th>retweets</th>\n",
       "      <th>favourites</th>\n",
       "      <th>verified</th>\n",
       "      <th>followers</th>\n",
       "      <th>user_id</th>\n",
       "      <th>hashtags</th>\n",
       "      <th>user_location</th>\n",
       "    </tr>\n",
       "  </thead>\n",
       "  <tbody>\n",
       "  </tbody>\n",
       "</table>\n",
       "</div>"
      ],
      "text/plain": [
       "Empty DataFrame\n",
       "Columns: [created, text, retweets, favourites, verified, followers, user_id, hashtags, user_location]\n",
       "Index: []"
      ]
     },
     "execution_count": 6,
     "metadata": {},
     "output_type": "execute_result"
    }
   ],
   "source": [
    "# Make an empty dataframe with column headings\n",
    "\n",
    "df = pd.DataFrame(columns=[\"created\",\"text\",\"retweets\",\"favourites\",\"verified\",\n",
    "                           \"followers\",\"user_id\",\"hashtags\",\"user_location\"])\n",
    "\n",
    "# Inspect the empty dataframe\n",
    "df.head()"
   ]
  },
  {
   "cell_type": "code",
   "execution_count": 7,
   "metadata": {},
   "outputs": [],
   "source": [
    "# Fill the dataframe with tweets by looping through each tweet and \n",
    "# attaching its information as a new row\n",
    "\n",
    "# As many times as there are tweets in the holder,\n",
    "for i in range(len(tweets)):\n",
    "    \n",
    "    # temporarily assign the next tweet to status\n",
    "    status = tweets[i]\n",
    "    \n",
    "    # Make a new row in df with the desired values from status\n",
    "    df.loc[i] = [status.created_at, status.text,\n",
    "                 status.retweet_count, status.favorite_count,\n",
    "                 status.user.verified, status.user.followers_count,\n",
    "                 status.user.id_str,\n",
    "                 status.entities['hashtags'],status.user.location]"
   ]
  },
  {
   "cell_type": "code",
   "execution_count": 9,
   "metadata": {},
   "outputs": [
    {
     "data": {
      "text/html": [
       "<div>\n",
       "<style scoped>\n",
       "    .dataframe tbody tr th:only-of-type {\n",
       "        vertical-align: middle;\n",
       "    }\n",
       "\n",
       "    .dataframe tbody tr th {\n",
       "        vertical-align: top;\n",
       "    }\n",
       "\n",
       "    .dataframe thead th {\n",
       "        text-align: right;\n",
       "    }\n",
       "</style>\n",
       "<table border=\"1\" class=\"dataframe\">\n",
       "  <thead>\n",
       "    <tr style=\"text-align: right;\">\n",
       "      <th></th>\n",
       "      <th>created</th>\n",
       "      <th>text</th>\n",
       "      <th>retweets</th>\n",
       "      <th>favourites</th>\n",
       "      <th>verified</th>\n",
       "      <th>followers</th>\n",
       "      <th>user_id</th>\n",
       "      <th>hashtags</th>\n",
       "      <th>user_location</th>\n",
       "    </tr>\n",
       "  </thead>\n",
       "  <tbody>\n",
       "    <tr>\n",
       "      <th>1447</th>\n",
       "      <td>2019-08-11 12:16:39</td>\n",
       "      <td>RT @Cryptofhm: 🚨 2000 $WIN #crypto #win #Givea...</td>\n",
       "      <td>202</td>\n",
       "      <td>0</td>\n",
       "      <td>False</td>\n",
       "      <td>86</td>\n",
       "      <td>1125496958892769280</td>\n",
       "      <td>[{'text': 'crypto', 'indices': [27, 34]}, {'te...</td>\n",
       "      <td></td>\n",
       "    </tr>\n",
       "    <tr>\n",
       "      <th>11486</th>\n",
       "      <td>2019-08-10 23:55:22</td>\n",
       "      <td>RT @coincloudATM: Are you ready for our next h...</td>\n",
       "      <td>235</td>\n",
       "      <td>0</td>\n",
       "      <td>False</td>\n",
       "      <td>115</td>\n",
       "      <td>3233045975</td>\n",
       "      <td>[{'text': 'BITCOIN', 'indices': [50, 58]}]</td>\n",
       "      <td>Lost somewhere</td>\n",
       "    </tr>\n",
       "    <tr>\n",
       "      <th>7034</th>\n",
       "      <td>2019-08-11 06:15:16</td>\n",
       "      <td>$BTC 💵 price: $11386.31 1.00000BTC \\n1h: +0.05...</td>\n",
       "      <td>0</td>\n",
       "      <td>0</td>\n",
       "      <td>False</td>\n",
       "      <td>1323</td>\n",
       "      <td>910085909936246785</td>\n",
       "      <td>[{'text': 'Bitcoin', 'indices': [80, 88]}]</td>\n",
       "      <td>Earth, Blockchain</td>\n",
       "    </tr>\n",
       "    <tr>\n",
       "      <th>14059</th>\n",
       "      <td>2019-08-10 20:49:38</td>\n",
       "      <td>Light Canvas Style $XRP Bag\\n.\\nFor Sale @ htt...</td>\n",
       "      <td>0</td>\n",
       "      <td>2</td>\n",
       "      <td>False</td>\n",
       "      <td>326</td>\n",
       "      <td>4330729395</td>\n",
       "      <td>[{'text': 'xrpthestandard', 'indices': [67, 82...</td>\n",
       "      <td>Canada</td>\n",
       "    </tr>\n",
       "    <tr>\n",
       "      <th>20486</th>\n",
       "      <td>2019-08-10 14:59:23</td>\n",
       "      <td>RT @FinWhaleX: FinWhaleX platform is a real go...</td>\n",
       "      <td>282</td>\n",
       "      <td>0</td>\n",
       "      <td>False</td>\n",
       "      <td>14450</td>\n",
       "      <td>860082193317601283</td>\n",
       "      <td>[]</td>\n",
       "      <td>Việt Nam</td>\n",
       "    </tr>\n",
       "    <tr>\n",
       "      <th>6170</th>\n",
       "      <td>2019-08-11 07:21:04</td>\n",
       "      <td>RT @CryptoJeans: 🏆MEGA #giveaway🏆 \\n\\n💸100$ in...</td>\n",
       "      <td>207</td>\n",
       "      <td>0</td>\n",
       "      <td>False</td>\n",
       "      <td>4427</td>\n",
       "      <td>352350305</td>\n",
       "      <td>[{'text': 'giveaway', 'indices': [23, 32]}]</td>\n",
       "      <td>Jaipur/Bangalore/Delhi</td>\n",
       "    </tr>\n",
       "    <tr>\n",
       "      <th>29366</th>\n",
       "      <td>2019-08-10 07:04:15</td>\n",
       "      <td>#Crypto #News: \"New Jersey Governor Signs Bill...</td>\n",
       "      <td>0</td>\n",
       "      <td>0</td>\n",
       "      <td>False</td>\n",
       "      <td>1449</td>\n",
       "      <td>3351117989</td>\n",
       "      <td>[{'text': 'Crypto', 'indices': [0, 7]}, {'text...</td>\n",
       "      <td>World Wide Web</td>\n",
       "    </tr>\n",
       "    <tr>\n",
       "      <th>26603</th>\n",
       "      <td>2019-08-10 09:53:02</td>\n",
       "      <td>RT @ante_hero: Bankroll Weekly Giveaway 7\\n\\n3...</td>\n",
       "      <td>37</td>\n",
       "      <td>0</td>\n",
       "      <td>False</td>\n",
       "      <td>559</td>\n",
       "      <td>1549890307</td>\n",
       "      <td>[]</td>\n",
       "      <td>Uruagu nnewi,anambra state</td>\n",
       "    </tr>\n",
       "    <tr>\n",
       "      <th>14327</th>\n",
       "      <td>2019-08-10 20:31:04</td>\n",
       "      <td>Decentralized Crypto Token (DCTO) is airdroppi...</td>\n",
       "      <td>1</td>\n",
       "      <td>1</td>\n",
       "      <td>False</td>\n",
       "      <td>991</td>\n",
       "      <td>925408907513745408</td>\n",
       "      <td>[]</td>\n",
       "      <td></td>\n",
       "    </tr>\n",
       "    <tr>\n",
       "      <th>10620</th>\n",
       "      <td>2019-08-11 01:04:54</td>\n",
       "      <td>RT @bitcoinization: Where am I?\\n\\nFirst to ge...</td>\n",
       "      <td>1</td>\n",
       "      <td>0</td>\n",
       "      <td>False</td>\n",
       "      <td>783</td>\n",
       "      <td>931492393</td>\n",
       "      <td>[{'text': 'WhereAmI', 'indices': [102, 111]}, ...</td>\n",
       "      <td></td>\n",
       "    </tr>\n",
       "  </tbody>\n",
       "</table>\n",
       "</div>"
      ],
      "text/plain": [
       "                  created                                               text  \\\n",
       "1447  2019-08-11 12:16:39  RT @Cryptofhm: 🚨 2000 $WIN #crypto #win #Givea...   \n",
       "11486 2019-08-10 23:55:22  RT @coincloudATM: Are you ready for our next h...   \n",
       "7034  2019-08-11 06:15:16  $BTC 💵 price: $11386.31 1.00000BTC \\n1h: +0.05...   \n",
       "14059 2019-08-10 20:49:38  Light Canvas Style $XRP Bag\\n.\\nFor Sale @ htt...   \n",
       "20486 2019-08-10 14:59:23  RT @FinWhaleX: FinWhaleX platform is a real go...   \n",
       "6170  2019-08-11 07:21:04  RT @CryptoJeans: 🏆MEGA #giveaway🏆 \\n\\n💸100$ in...   \n",
       "29366 2019-08-10 07:04:15  #Crypto #News: \"New Jersey Governor Signs Bill...   \n",
       "26603 2019-08-10 09:53:02  RT @ante_hero: Bankroll Weekly Giveaway 7\\n\\n3...   \n",
       "14327 2019-08-10 20:31:04  Decentralized Crypto Token (DCTO) is airdroppi...   \n",
       "10620 2019-08-11 01:04:54  RT @bitcoinization: Where am I?\\n\\nFirst to ge...   \n",
       "\n",
       "      retweets favourites verified followers              user_id  \\\n",
       "1447       202          0    False        86  1125496958892769280   \n",
       "11486      235          0    False       115           3233045975   \n",
       "7034         0          0    False      1323   910085909936246785   \n",
       "14059        0          2    False       326           4330729395   \n",
       "20486      282          0    False     14450   860082193317601283   \n",
       "6170       207          0    False      4427            352350305   \n",
       "29366        0          0    False      1449           3351117989   \n",
       "26603       37          0    False       559           1549890307   \n",
       "14327        1          1    False       991   925408907513745408   \n",
       "10620        1          0    False       783            931492393   \n",
       "\n",
       "                                                hashtags  \\\n",
       "1447   [{'text': 'crypto', 'indices': [27, 34]}, {'te...   \n",
       "11486         [{'text': 'BITCOIN', 'indices': [50, 58]}]   \n",
       "7034          [{'text': 'Bitcoin', 'indices': [80, 88]}]   \n",
       "14059  [{'text': 'xrpthestandard', 'indices': [67, 82...   \n",
       "20486                                                 []   \n",
       "6170         [{'text': 'giveaway', 'indices': [23, 32]}]   \n",
       "29366  [{'text': 'Crypto', 'indices': [0, 7]}, {'text...   \n",
       "26603                                                 []   \n",
       "14327                                                 []   \n",
       "10620  [{'text': 'WhereAmI', 'indices': [102, 111]}, ...   \n",
       "\n",
       "                     user_location  \n",
       "1447                                \n",
       "11486               Lost somewhere  \n",
       "7034             Earth, Blockchain  \n",
       "14059                       Canada  \n",
       "20486                     Việt Nam  \n",
       "6170        Jaipur/Bangalore/Delhi  \n",
       "29366               World Wide Web  \n",
       "26603  Uruagu nnewi,anambra state   \n",
       "14327                               \n",
       "10620                               "
      ]
     },
     "execution_count": 9,
     "metadata": {},
     "output_type": "execute_result"
    }
   ],
   "source": [
    "# Check the dataframe\n",
    "df.sample(10)"
   ]
  },
  {
   "cell_type": "code",
   "execution_count": 10,
   "metadata": {},
   "outputs": [
    {
     "data": {
      "text/plain": [
       "10    19467\n",
       "11    11437\n",
       "Name: day, dtype: int64"
      ]
     },
     "execution_count": 10,
     "metadata": {},
     "output_type": "execute_result"
    }
   ],
   "source": [
    "test = df.copy()\n",
    "test['day'] = test['created'].apply(lambda x: pd.to_datetime(x).day)\n",
    "test['day'].value_counts()"
   ]
  },
  {
   "cell_type": "markdown",
   "metadata": {},
   "source": [
    "### 6. Save the data as a .csv\n",
    "\n",
    "Due to rate limits and the speed at which Tweets can be downloaded from Twitter, it's probably best to keep the code which accesses Twitter separate from the code that analyses Twitter data; that way, if you need to run the analysis sections multiple times, you don't have to wait for the data each time.\n",
    "\n",
    "Because of this, the final section of this notebook simply stores the dataframe as a `.csv` file, allowing it to be loaded into other notebooks. "
   ]
  },
  {
   "cell_type": "code",
   "execution_count": 16,
   "metadata": {},
   "outputs": [],
   "source": [
    "# Save the whole dataframe to the same folder as the notebook file\n",
    "df.to_csv(\"bitcoin_or_crypto.csv\")"
   ]
  },
  {
   "cell_type": "code",
   "execution_count": null,
   "metadata": {},
   "outputs": [],
   "source": []
  }
 ],
 "metadata": {
  "kernelspec": {
   "display_name": "Python 3",
   "language": "python",
   "name": "python3"
  },
  "language_info": {
   "codemirror_mode": {
    "name": "ipython",
    "version": 3
   },
   "file_extension": ".py",
   "mimetype": "text/x-python",
   "name": "python",
   "nbconvert_exporter": "python",
   "pygments_lexer": "ipython3",
   "version": "3.7.1"
  }
 },
 "nbformat": 4,
 "nbformat_minor": 2
}
