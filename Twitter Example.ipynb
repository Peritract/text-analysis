{
 "cells": [
  {
   "cell_type": "markdown",
   "metadata": {},
   "source": [
    "# Twitter Example\n",
    "\n",
    "This notebook contains a heavily-commented minimal example of how to access Twitter using API keys and pull all tweets relating to a given search term.\n",
    "\n",
    "The library used to interact with Twitter is [Tweepy](http://docs.tweepy.org/en/v3.5.0/index.html). This notebook explains only how to get Tweets for a single search term over the past seven days; if you want to do something more complicated - such as constantly update a file based on new tweets coming in in real time - the documentation linked above is the best place to look."
   ]
  },
  {
   "cell_type": "markdown",
   "metadata": {},
   "source": [
    "### 1. External setup\n",
    "\n",
    "1. Install tweepy by running `conda install -c conda-forge tweepy` in the anaconda prompt\n",
    "\n",
    "2. Create a [Twitter](https://twitter.com) account and verify it with a phone number\n",
    "\n",
    "3. Apply for a developer account at [developer.twitter.com](https://developer.twitter.com)\n",
    "\n",
    "4. Create an \"app\" on Twitter. This just means that you come up with a name and a justification for having Twitter API keys. \"I want to experiment with Twitter's API\" has always worked for me as a reason.\n",
    "\n",
    "5. Give your app both read and write permissions."
   ]
  },
  {
   "cell_type": "markdown",
   "metadata": {},
   "source": [
    "### 2. Import libraries"
   ]
  },
  {
   "cell_type": "code",
   "execution_count": 1,
   "metadata": {},
   "outputs": [],
   "source": [
    "import pandas as pd # Creates & manipulates dataframes\n",
    "import tweepy # Interacts with Twitter"
   ]
  },
  {
   "cell_type": "markdown",
   "metadata": {},
   "source": [
    "### 3. Authenticate a Twitter handler\n",
    "\n",
    "When you create a Twitter app, you will be given a set of API keys. You should have the following:\n",
    "\n",
    "- API key\n",
    "- API secret key\n",
    "- Access token\n",
    "- Access token secret\n",
    "\n",
    "In the code cell below, replace the placeholder values with your keys. Your keys should be inside speech marks, so the program will interpret them as strings."
   ]
  },
  {
   "cell_type": "code",
   "execution_count": 2,
   "metadata": {},
   "outputs": [],
   "source": [
    "API_KEY = \"\"\n",
    "API_SECRET = \"\"\n",
    "ACCESS_TOKEN = \"\"\n",
    "ACCESS_TOKEN_SECRET = \"\""
   ]
  },
  {
   "cell_type": "markdown",
   "metadata": {},
   "source": [
    "The cell below creates and authenticates an object - `API` - that can be used to interact with Twitter."
   ]
  },
  {
   "cell_type": "code",
   "execution_count": 3,
   "metadata": {},
   "outputs": [],
   "source": [
    "# Create an authentication handler\n",
    "auth = tweepy.OAuthHandler(API_KEY, API_SECRET)\n",
    "\n",
    "# Feed the handler all the necessary information\n",
    "auth.set_access_token(ACCESS_TOKEN, ACCESS_TOKEN_SECRET)\n",
    "\n",
    "# Use the handler to authenticate an API object\n",
    "API = tweepy.API(auth, wait_on_rate_limit=True)"
   ]
  },
  {
   "cell_type": "markdown",
   "metadata": {},
   "source": [
    "In the cell above, `wait_on_rate_limit` tells the `API` object not to make too many requests in a short space of time; this stops Twitter from flagging your program as harmful. Whenever `API` hits the request limit, it will stop making requests until the request counter has reset."
   ]
  },
  {
   "cell_type": "markdown",
   "metadata": {},
   "source": [
    "### 4. Access tweets relating to a specific search\n",
    "\n",
    "Using the free API, you can only access Tweets from the last seven days."
   ]
  },
  {
   "cell_type": "code",
   "execution_count": 4,
   "metadata": {},
   "outputs": [],
   "source": [
    "# Make a holder to store tweets\n",
    "tweets = []\n",
    "\n",
    "# Create a string to search for\n",
    "query='#datascience'\n",
    "\n",
    "# Get tweets from the last seven days\n",
    "for status in tweepy.Cursor(API.search,q=query).items():\n",
    "    \n",
    "    # Add each tweet to the holder\n",
    "    tweets.append(status)"
   ]
  },
  {
   "cell_type": "markdown",
   "metadata": {},
   "source": [
    "The cell above shows how to access Tweets using a cursor object. Essentially, a cursor allows you to page through search results on Twitter, getting one tweet at a time until there are no more to show.\n",
    "\n",
    "The loop takes each tweet in turn as `status` and adds it to the holder, `tweets`."
   ]
  },
  {
   "cell_type": "code",
   "execution_count": 5,
   "metadata": {},
   "outputs": [
    {
     "data": {
      "text/plain": [
       "1185"
      ]
     },
     "execution_count": 5,
     "metadata": {},
     "output_type": "execute_result"
    }
   ],
   "source": [
    "# See how many tweets there are\n",
    "len(tweets)"
   ]
  },
  {
   "cell_type": "markdown",
   "metadata": {},
   "source": [
    "### 5. Store the Tweets in a dataframe"
   ]
  },
  {
   "cell_type": "markdown",
   "metadata": {},
   "source": [
    "Now we need to store our tweets in a dataframe, extracting out key information into columns.\n",
    "\n",
    "Currently, all tweets are stored as Tweepy Status objects, containing not just the text but a huge number of values.\n",
    "\n",
    "[An example of the Tweepy status object](https://gist.github.com/dev-techmoe/ef676cdd03ac47ac503e856282077bf2)\n",
    "\n",
    "For the purposes of this example, only four different values are going to be extracted per tweet, but the same structure could be easily adapted to get more or different information.\n",
    "\n",
    "The four values to be extracted per tweet are as follows:\n",
    "\n",
    "- `created_at` - the date & time the tweet was posted\n",
    "- `text` - the text of the tweet\n",
    "- `retweet_count` - the number of times the tweet was retweeted\n",
    "- `favourite_count` - the number of \"favourites\" a tweet has"
   ]
  },
  {
   "cell_type": "code",
   "execution_count": 6,
   "metadata": {},
   "outputs": [
    {
     "data": {
      "text/html": [
       "<div>\n",
       "<style scoped>\n",
       "    .dataframe tbody tr th:only-of-type {\n",
       "        vertical-align: middle;\n",
       "    }\n",
       "\n",
       "    .dataframe tbody tr th {\n",
       "        vertical-align: top;\n",
       "    }\n",
       "\n",
       "    .dataframe thead th {\n",
       "        text-align: right;\n",
       "    }\n",
       "</style>\n",
       "<table border=\"1\" class=\"dataframe\">\n",
       "  <thead>\n",
       "    <tr style=\"text-align: right;\">\n",
       "      <th></th>\n",
       "      <th>created</th>\n",
       "      <th>text</th>\n",
       "      <th>retweets</th>\n",
       "      <th>favourites</th>\n",
       "    </tr>\n",
       "  </thead>\n",
       "  <tbody>\n",
       "  </tbody>\n",
       "</table>\n",
       "</div>"
      ],
      "text/plain": [
       "Empty DataFrame\n",
       "Columns: [created, text, retweets, favourites]\n",
       "Index: []"
      ]
     },
     "execution_count": 6,
     "metadata": {},
     "output_type": "execute_result"
    }
   ],
   "source": [
    "# Make an empty dataframe with column headings\n",
    "\n",
    "df = pd.DataFrame(columns=[\"created\",\"text\",\"retweets\",\"favourites\"])\n",
    "\n",
    "# Inspect the empty dataframe\n",
    "df.head()"
   ]
  },
  {
   "cell_type": "code",
   "execution_count": 7,
   "metadata": {},
   "outputs": [],
   "source": [
    "# Fill the dataframe with tweets by looping through each tweet and \n",
    "# attaching its information as a new row\n",
    "\n",
    "# As many times as there are tweets in the holder,\n",
    "for i in range(len(tweets)):\n",
    "    \n",
    "    # temporarily assign the next tweet to status\n",
    "    status = tweets[i]\n",
    "    \n",
    "    # Make a new row in df with the desired values from status\n",
    "    df.loc[i] = [status.created_at, status.text,\n",
    "                 status.retweet_count, status.favorite_count]"
   ]
  },
  {
   "cell_type": "code",
   "execution_count": 8,
   "metadata": {},
   "outputs": [
    {
     "data": {
      "text/html": [
       "<div>\n",
       "<style scoped>\n",
       "    .dataframe tbody tr th:only-of-type {\n",
       "        vertical-align: middle;\n",
       "    }\n",
       "\n",
       "    .dataframe tbody tr th {\n",
       "        vertical-align: top;\n",
       "    }\n",
       "\n",
       "    .dataframe thead th {\n",
       "        text-align: right;\n",
       "    }\n",
       "</style>\n",
       "<table border=\"1\" class=\"dataframe\">\n",
       "  <thead>\n",
       "    <tr style=\"text-align: right;\">\n",
       "      <th></th>\n",
       "      <th>created</th>\n",
       "      <th>text</th>\n",
       "      <th>retweets</th>\n",
       "      <th>favourites</th>\n",
       "    </tr>\n",
       "  </thead>\n",
       "  <tbody>\n",
       "    <tr>\n",
       "      <th>0</th>\n",
       "      <td>2019-07-13 12:10:06</td>\n",
       "      <td>The Ultimate Guide to Branding in 2019 https:/...</td>\n",
       "      <td>0</td>\n",
       "      <td>1</td>\n",
       "    </tr>\n",
       "    <tr>\n",
       "      <th>1</th>\n",
       "      <td>2019-07-13 12:10:02</td>\n",
       "      <td>RT @Ronald_vanLoon: 10 Free Must-Read Books fo...</td>\n",
       "      <td>2</td>\n",
       "      <td>0</td>\n",
       "    </tr>\n",
       "    <tr>\n",
       "      <th>2</th>\n",
       "      <td>2019-07-13 12:09:59</td>\n",
       "      <td>Get to insights quicker with Google Data Studi...</td>\n",
       "      <td>0</td>\n",
       "      <td>0</td>\n",
       "    </tr>\n",
       "    <tr>\n",
       "      <th>3</th>\n",
       "      <td>2019-07-13 12:09:59</td>\n",
       "      <td>Get to insights quicker with Google Data Studi...</td>\n",
       "      <td>0</td>\n",
       "      <td>0</td>\n",
       "    </tr>\n",
       "    <tr>\n",
       "      <th>4</th>\n",
       "      <td>2019-07-13 12:09:41</td>\n",
       "      <td>RT Ronald_vanLoon \"10 Free Must-Read Books for...</td>\n",
       "      <td>0</td>\n",
       "      <td>0</td>\n",
       "    </tr>\n",
       "  </tbody>\n",
       "</table>\n",
       "</div>"
      ],
      "text/plain": [
       "              created                                               text  \\\n",
       "0 2019-07-13 12:10:06  The Ultimate Guide to Branding in 2019 https:/...   \n",
       "1 2019-07-13 12:10:02  RT @Ronald_vanLoon: 10 Free Must-Read Books fo...   \n",
       "2 2019-07-13 12:09:59  Get to insights quicker with Google Data Studi...   \n",
       "3 2019-07-13 12:09:59  Get to insights quicker with Google Data Studi...   \n",
       "4 2019-07-13 12:09:41  RT Ronald_vanLoon \"10 Free Must-Read Books for...   \n",
       "\n",
       "  retweets favourites  \n",
       "0        0          1  \n",
       "1        2          0  \n",
       "2        0          0  \n",
       "3        0          0  \n",
       "4        0          0  "
      ]
     },
     "execution_count": 8,
     "metadata": {},
     "output_type": "execute_result"
    }
   ],
   "source": [
    "# Check the dataframe\n",
    "df.head()"
   ]
  },
  {
   "cell_type": "markdown",
   "metadata": {},
   "source": [
    "### 6. Save the data as a .csv\n",
    "\n",
    "Due to rate limits and the speed at which Tweets can be downloaded from Twitter, it's probably best to keep the code which accesses Twitter separate from the code that analyses Twitter data; that way, if you need to run the analysis sections multiple times, you don't have to wait for the data each time.\n",
    "\n",
    "Because of this, the final section of this notebook simply stores the dataframe as a `.csv` file, allowing it to be loaded into other notebooks. "
   ]
  },
  {
   "cell_type": "code",
   "execution_count": 9,
   "metadata": {},
   "outputs": [],
   "source": [
    "# Save the whole dataframe to the same folder as the notebook file\n",
    "df.to_csv(\"tweets.csv\")"
   ]
  }
 ],
 "metadata": {
  "kernelspec": {
   "display_name": "Python 3",
   "language": "python",
   "name": "python3"
  },
  "language_info": {
   "codemirror_mode": {
    "name": "ipython",
    "version": 3
   },
   "file_extension": ".py",
   "mimetype": "text/x-python",
   "name": "python",
   "nbconvert_exporter": "python",
   "pygments_lexer": "ipython3",
   "version": "3.7.1"
  }
 },
 "nbformat": 4,
 "nbformat_minor": 2
}
